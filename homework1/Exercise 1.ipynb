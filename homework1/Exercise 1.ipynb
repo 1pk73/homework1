{
 "cells": [
  {
   "cell_type": "markdown",
   "metadata": {},
   "source": [
    "Q1.Create a program that displays your name and complete mailing address.The address\n",
    "should be printed in the format that is normally used in the area where you live. Your\n",
    "program does not need to read any input from the user."
   ]
  },
  {
   "cell_type": "code",
   "execution_count": 5,
   "metadata": {},
   "outputs": [
    {
     "name": "stdout",
     "output_type": "stream",
     "text": [
      "Anand Bihar Colony, \n",
      "Ahiyapur, Sahbajpur Salem, \n",
      "Muzaffarpur, \n",
      "Bihar, \n",
      "842004\n"
     ]
    }
   ],
   "source": [
    "print('Anand Bihar Colony, \\nAhiyapur, Sahbajpur Salem, \\nMuzaffarpur, \\nBihar, \\n842004')"
   ]
  },
  {
   "cell_type": "markdown",
   "metadata": {},
   "source": [
    "Q2. Write a program that asks the user to enter his or her name. The program should\n",
    "respond with a message that says hello to the user, using his or her name.\n"
   ]
  },
  {
   "cell_type": "code",
   "execution_count": 6,
   "metadata": {},
   "outputs": [
    {
     "name": "stdout",
     "output_type": "stream",
     "text": [
      "Enter your namePrashant Kumar\n",
      "Hello! Prashant Kumar\n"
     ]
    }
   ],
   "source": [
    "print('Hello!', input('Enter your name'))"
   ]
  },
  {
   "cell_type": "markdown",
   "metadata": {},
   "source": [
    "Q3. Write a program that asks the user to enter the width and length of a room. Once\n",
    "these values have been read, your program should compute and display the area of\n",
    "the room.The length and the width will be entered as floating-point numbers.Include\n",
    "units in your prompt and output message; either feet or meters, depending on which\n",
    "unit you are more comfortable working with."
   ]
  },
  {
   "cell_type": "code",
   "execution_count": 7,
   "metadata": {},
   "outputs": [
    {
     "name": "stdout",
     "output_type": "stream",
     "text": [
      "Enter length of the room(in meters)20\n",
      "Enter the breadth of the room (in meters)10\n",
      "The Area of the room in sq. meters is 200.0\n"
     ]
    }
   ],
   "source": [
    "print('The Area of the room in sq. meters is',\n",
    "      float(input('Enter length of the room(in meters)'))*\n",
    "      float(input('Enter the breadth of the room (in meters)')))"
   ]
  },
  {
   "cell_type": "markdown",
   "metadata": {},
   "source": [
    "Q4. Create a program that reads the length and width of a farmer’s field from the user in\n",
    "feet. Display the area of the field in acres."
   ]
  },
  {
   "cell_type": "code",
   "execution_count": 8,
   "metadata": {},
   "outputs": [
    {
     "name": "stdout",
     "output_type": "stream",
     "text": [
      "Enter length of the field in feet2000\n",
      "Enter Breadth of the field in feet1000\n",
      "The area of the field in acres is 45.91368227731864\n"
     ]
    }
   ],
   "source": [
    "print('The area of the field in acres is',\n",
    "     (float(input('Enter length of the field in feet'))*\n",
    "     float(input('Enter Breadth of the field in feet')))/43560)"
   ]
  },
  {
   "cell_type": "markdown",
   "metadata": {},
   "source": [
    "Q5. In many jurisdictions a small deposit is added to drink containers to encourage people\n",
    "to recycle them. In one particular jurisdiction, drink containers holding one liter or\n",
    "less have a $ 0.10 deposit, and drink containers holding more than one liter have a\n",
    "$ 0.25 deposit.\n",
    "Write a program that reads the number of containers of each size from the user.\n",
    "Your program should continue by computing and displaying the refund that will be\n",
    "received for returning those containers. Format the output so that it includes a dollar\n",
    "sign and two digits to the right of the decimal point."
   ]
  },
  {
   "cell_type": "code",
   "execution_count": 9,
   "metadata": {},
   "outputs": [
    {
     "name": "stdout",
     "output_type": "stream",
     "text": [
      "Enter number of containers having 1 liter drink or less 25\n",
      "Enter number of containers having more than 1 liters of drink 20\n",
      "Your refund ammount is $ 7.50\n"
     ]
    }
   ],
   "source": [
    "x = int(input('Enter number of containers having 1 liter drink or less '))\n",
    "y = int(input('Enter number of containers having more than 1 liters of drink '))\n",
    "\n",
    "z = (0.10*x + 0.25*y)\n",
    "print('Your refund ammount is $', \"%.2f\" %z)"
   ]
  },
  {
   "cell_type": "markdown",
   "metadata": {},
   "source": [
    "Q6. The program that you create for this exercise will begin by reading the cost of a meal\n",
    "ordered at a restaurant from the user. Then your program will compute the tax and\n",
    "tip for the meal. Use your local tax rate when computing the amount of tax owing.\n",
    "Compute the tip as 18 percent of the meal amount (without the tax). The output from\n",
    "your program should include the tax amount, the tip amount, and the grand total for\n",
    "the meal including both the tax and the tip. Format the output so that all of the values\n",
    "are displayed using two decimal places."
   ]
  },
  {
   "cell_type": "code",
   "execution_count": 10,
   "metadata": {},
   "outputs": [
    {
     "name": "stdout",
     "output_type": "stream",
     "text": [
      "What is the Cost of the meal? 49.99\n",
      "Your tax is 7.00\n",
      "Your tip is 9.00\n",
      "Your grand total is 65.99\n"
     ]
    }
   ],
   "source": [
    "x = float(input('What is the Cost of the meal? '))\n",
    "y = x * 0.14\n",
    "z = x * 0.18\n",
    "print('Your tax is',\"%.2f\" %y)\n",
    "print('Your tip is',\"%.2f\" %z)\n",
    "print('Your grand total is',\"%.2f\" %(x+y+z))"
   ]
  },
  {
   "cell_type": "markdown",
   "metadata": {},
   "source": [
    "Q7. Write a program that reads a positive integer, n, from the user and then displays the\n",
    "sum of all of the integers from 1 to n. The sum of the first n positive integers can be\n",
    "computed using the formula:\n",
    "                            n(n+1)/2\n",
    " "
   ]
  },
  {
   "cell_type": "code",
   "execution_count": 11,
   "metadata": {},
   "outputs": [
    {
     "name": "stdout",
     "output_type": "stream",
     "text": [
      "Enter the number24\n",
      "The sum upto  24 is 300\n"
     ]
    }
   ],
   "source": [
    "x = int(input('Enter the number'))\n",
    "\n",
    "print(\"The sum upto \", x ,'is',int((x**2 + x)/2))"
   ]
  },
  {
   "cell_type": "markdown",
   "metadata": {},
   "source": [
    "Q8. An online retailer sells two products: widgets and gizmos. Each widget weighs 75\n",
    "grams. Each gizmo weighs 112 grams. Write a program that reads the number of\n",
    "widgets and the number of gizmos from the user. Then your program should compute\n",
    "and display the total weight of the parts."
   ]
  },
  {
   "cell_type": "code",
   "execution_count": 12,
   "metadata": {},
   "outputs": [
    {
     "name": "stdout",
     "output_type": "stream",
     "text": [
      "Number of widgets23\n",
      "Number of Gizmos21\n",
      "Total weight of the parts is 4077 grams\n"
     ]
    }
   ],
   "source": [
    "x, y = int(input(\"Number of widgets\")), int(input('Number of Gizmos'))\n",
    "print('Total weight of the parts is',x*75 + y*112 , 'grams')\n"
   ]
  },
  {
   "cell_type": "markdown",
   "metadata": {},
   "source": [
    "Q9. Pretend that you have just opened a new savings account that earns 4 percent interest\n",
    "per year. The interest that you earn is paid at the end of the year, and is added to the\n",
    "balance of the savings account. Write a program that begins by reading the amount of\n",
    "money deposited into the account from the user. Then your program should compute\n",
    "and display the amount in the savings account after 1, 2, and 3 years. Display each\n",
    "amount so that it is rounded to 2 decimal places."
   ]
  },
  {
   "cell_type": "code",
   "execution_count": 13,
   "metadata": {},
   "outputs": [
    {
     "name": "stdout",
     "output_type": "stream",
     "text": [
      "Enter the deposit amount: 500000\n",
      "Amount in savings account after 1 year 520000.00\n",
      "Amount in savings account after 2 year 540800.00\n",
      "Amount in savings account after 3 year 562432.00\n"
     ]
    }
   ],
   "source": [
    "x = float(input('Enter the deposit amount: '))\n",
    "print('Amount in savings account after 1 year', \"%.2f\" %(x*1.04))\n",
    "print('Amount in savings account after 2 year',\"%.2f\" %(x*1.04*1.04))\n",
    "print('Amount in savings account after 3 year',\"%.2f\" %(x*1.04*1.04*1.04))"
   ]
  },
  {
   "cell_type": "markdown",
   "metadata": {},
   "source": [
    "Q10. Create a program that reads two integers, a and b, from the user.Your program should\n",
    "compute and display:\n",
    "• The sum of a and b \n",
    "• The difference when b is subtracted from a \n",
    "• The product of a and b \n",
    "• The quotient when a is divided by b \n",
    "• The remainder when a is divided by b  \n",
    "• The result of log 10 a \n",
    "• The result of a "
   ]
  },
  {
   "cell_type": "code",
   "execution_count": 14,
   "metadata": {},
   "outputs": [
    {
     "name": "stdout",
     "output_type": "stream",
     "text": [
      "Enter a25\n",
      "Enter b20\n",
      "45\n",
      "5\n",
      "500\n",
      "1.25\n",
      "5\n",
      "1.3979400086720377\n"
     ]
    }
   ],
   "source": [
    "import math\n",
    "a,b = int(input(\"Enter a\")),int(input(\"Enter b\"))\n",
    "#sum\n",
    "print(a+b)\n",
    "#difference\n",
    "print(a-b)\n",
    "#product\n",
    "print(a*b)\n",
    "#Divide\n",
    "print(a/b)\n",
    "#Remainder\n",
    "print(a%b)\n",
    "#log\n",
    "print(math.log10(a))"
   ]
  },
  {
   "cell_type": "markdown",
   "metadata": {},
   "source": [
    "Q11. In the United States, fuel efficiency for vehicles is normally expressed in miles-per-\n",
    "gallon(MPG).In Canada,fuel efficiency is normally expressed in liters-per-hundred\n",
    "kilometers (L/100km). Use your research skills to determine how to convert from\n",
    "MPG to L/100 km.Then create a program that reads a value from the user in American\n",
    "units and displays the equivalent fuel efficiency in Canadian units."
   ]
  },
  {
   "cell_type": "code",
   "execution_count": 15,
   "metadata": {},
   "outputs": [
    {
     "name": "stdout",
     "output_type": "stream",
     "text": [
      "Enter the fuel efficiency of your bike in American units: 25\n",
      "Fuel efficiency in Canadian units is  1075.0\n"
     ]
    }
   ],
   "source": [
    "x = float(input('Enter the fuel efficiency of your bike in American units: '))\n",
    "\n",
    "print('Fuel efficiency in Canadian units is ', x*43)\n"
   ]
  },
  {
   "cell_type": "markdown",
   "metadata": {},
   "source": [
    "Q12. The surface of the Earth is curved, and the distance between degrees of longitude\n",
    "varies with latitude. As a result, finding the distance between two points on the surface\n",
    "of the Earth is more complicated than simply using the Pythagorean theorem.\n",
    "Let (t 1 ,g 1 ) and (t 2 ,g 2 ) be the latitude and longitude of two points on the Earth’s\n",
    "surface. The distance between these points, following the surface of the Earth, in\n",
    "kilometers is:\n",
    "distance = 6371.01 × arccos(sin(t 1 ) × sin(t 2 ) + cos(t 1 ) × cos(t 2 ) × cos(g 1 − g 2 ))\n",
    "\n",
    "Create a program that allows the user to enter the latitude and longitude of two\n",
    "points on the Earth in degrees. Your program should display the distance between\n",
    "the points, following the surface of the earth, in kilometers."
   ]
  },
  {
   "cell_type": "code",
   "execution_count": 16,
   "metadata": {},
   "outputs": [
    {
     "name": "stdout",
     "output_type": "stream",
     "text": [
      "Latitude of point 1: 33\n",
      "Longitude of point 1: 21\n",
      "Latitude of point 2: 22\n",
      "Longitude of point 2: 22\n",
      "Distance is: 6371.00103754201\n"
     ]
    }
   ],
   "source": [
    "t1,g1 = float(input('Latitude of point 1: ')),float(input('Longitude of point 1: '))\n",
    "t2,g2 = float(input('Latitude of point 2: ')),float(input('Longitude of point 2: '))\n",
    "\n",
    "x = 6371.01 * math.cos(math.sin(t1 ) * math.sin(t2 ) + math.cos(t1 ) * math.cos(t2 ) * math.cos(g1-g2 ))\n",
    "print('Distance is:', x)"
   ]
  },
  {
   "cell_type": "markdown",
   "metadata": {},
   "source": [
    "Q13. Consider the software that runs on a self-checkout machine. One task that it must be\n",
    "able to perform is to determine how much change to provide when the shopper pays\n",
    "for a purchase with cash.\n",
    "Write a program that begins by reading a number of cents from the user as an\n",
    "integer. Then your program should compute and display the denominations of the\n",
    "coins that should be used to give that amount of change to the shopper. The change\n",
    "should be given using as few coins as possible. Assume that the machine is loaded\n",
    "with pennies, nickels, dimes, quarters, loonies and toonies."
   ]
  },
  {
   "cell_type": "code",
   "execution_count": 17,
   "metadata": {},
   "outputs": [
    {
     "name": "stdout",
     "output_type": "stream",
     "text": [
      "Enter the amount of Change: 37.67\n",
      "Your changes are  18.0  toonies,  1.0 loonies,  2.0 quaters,  1.0 dimes,  1.0 nickels,  2.0 pennies.\n"
     ]
    }
   ],
   "source": [
    "x = float(input('Enter the amount of Change: '))\n",
    "x = x*100\n",
    "toonies = x//200\n",
    "x = x - 200*toonies\n",
    "loonies = x//100\n",
    "x = x - 100*loonies\n",
    "quaters = x//25\n",
    "x = x - 25*quaters\n",
    "dimes = x//10\n",
    "x = x - 10*dimes\n",
    "nickels = x//5\n",
    "x = x - 5*nickels\n",
    "pennies = x\n",
    "          \n",
    "print('Your changes are ',toonies,' toonies, ',loonies,'loonies, ',quaters,'quaters, ',dimes,'dimes, ',nickels,'nickels, ',pennies,'pennies.')"
   ]
  },
  {
   "cell_type": "markdown",
   "metadata": {},
   "source": [
    "Q14. Many people think about their height in feet and inches, even in some countries that\n",
    "primarily use the metric system. Write a program that reads a number of feet from\n",
    "the user, followed by a number of inches. Once these values are read, your program\n",
    "should compute and display the equivalent number of centimeters."
   ]
  },
  {
   "cell_type": "code",
   "execution_count": 18,
   "metadata": {},
   "outputs": [
    {
     "name": "stdout",
     "output_type": "stream",
     "text": [
      "Enter your height feet6\n",
      "Enter your height inch5\n",
      "Your height in centimetres is  196.73454545454544\n"
     ]
    }
   ],
   "source": [
    "feet,inch = int(input('Enter your height feet')),int(input('Enter your height inch'))\n",
    "\n",
    "print('Your height in centimetres is ', feet*30.48 + (inch*30.48)/11)"
   ]
  },
  {
   "cell_type": "markdown",
   "metadata": {},
   "source": [
    "Q15. In this exercise, you will create a program that begins by reading a measurement\n",
    "in feet from the user. Then your program should display the equivalent distance in\n",
    "inches, yards and miles. Use the Internet to look up the necessary conversion factors\n",
    "if you don’t have them memorized."
   ]
  },
  {
   "cell_type": "code",
   "execution_count": 19,
   "metadata": {},
   "outputs": [
    {
     "name": "stdout",
     "output_type": "stream",
     "text": [
      "Enter the measurement in feet:5000\n",
      "Measurement in inch is  60000.0\n",
      "Measurement in yard is  1666.6666666666667\n",
      "Measurement in miles is  0.946969696969697\n"
     ]
    }
   ],
   "source": [
    "x = float(input('Enter the measurement in feet:'))\n",
    "\n",
    "print('Measurement in inch is ', 12*x)\n",
    "print('Measurement in yard is ', 1*x/3)\n",
    "print('Measurement in miles is ', x/5280)"
   ]
  },
  {
   "cell_type": "markdown",
   "metadata": {},
   "source": [
    "Q16. Write a program that begins by reading a radius, r, from the user. The program will\n",
    "continue by computing and displaying the area of a circle with radius r and the\n",
    "volume of a sphere with radius r. Use the pi constant in the math module in your\n",
    "calculations."
   ]
  },
  {
   "cell_type": "code",
   "execution_count": 20,
   "metadata": {},
   "outputs": [
    {
     "name": "stdout",
     "output_type": "stream",
     "text": [
      "Enter r:7\n",
      "3.141592653589793\n",
      "Area of the circle is 153.93804002589985\n",
      "Volume of sphere is 1436.7550402417319\n"
     ]
    }
   ],
   "source": [
    "r = float(input('Enter r:'))\n",
    "print(math.pi)\n",
    "print('Area of the circle is', math.pi*r*r)\n",
    "print('Volume of sphere is', (4*math.pi*r*r*r)/3)"
   ]
  },
  {
   "cell_type": "markdown",
   "metadata": {},
   "source": [
    "Q17. The amount of energy required to increase the temperature of one gram of a material\n",
    "by one degree Celsius is the material’s specific heat capacity, C. The total amount\n",
    "of energy, q, required to raise m grams of a material by ΔT degrees Celsius can be\n",
    "computed using the formula:<br>\n",
    "q = mCΔT  <br>\n",
    "Write a program that reads the mass of some water and the temperature change from\n",
    "the user. Your program should display the total amount of energy that must be added\n",
    "or removed to achieve the desired temperature change. <br>\n",
    "Extend your program so that it also computes the cost of heating the water. Elec-\n",
    "tricity is normally billed using units of kilowatt hours rather than Joules. In this\n",
    "exercise, you should assume that electricity costs 8.9 cents per kilowatt hour. Use\n",
    "your program to compute the cost of boiling the water needed for a cup of coffee."
   ]
  },
  {
   "cell_type": "code",
   "execution_count": 21,
   "metadata": {},
   "outputs": [
    {
     "name": "stdout",
     "output_type": "stream",
     "text": [
      "Enter the amount of water in grams:2400\n",
      "Enter the desired temperature change:75\n",
      "Energy required 752220.0 joule\n",
      "Electricity cost is  0.01859655\n"
     ]
    }
   ],
   "source": [
    "water = float(input('Enter the amount of water in grams:'))\n",
    "temp_change = float(input('Enter the desired temperature change:'))\n",
    "\n",
    "q = water * 4.179 * temp_change\n",
    "\n",
    "e = q/3.6e+6\n",
    "\n",
    "print('Energy required',q,'joule')\n",
    "\n",
    "print('Electricity cost is ',0.089*e)\n"
   ]
  },
  {
   "cell_type": "markdown",
   "metadata": {},
   "source": [
    "Q18. The volume of a cylinder can be computed by multiplying the area of its circular\n",
    "base by its height. Write a program that reads the radius of the cylinder, along with\n",
    "its height, from the user and computes its volume. Display the result rounded to one\n",
    "decimal place."
   ]
  },
  {
   "cell_type": "code",
   "execution_count": 22,
   "metadata": {},
   "outputs": [
    {
     "name": "stdout",
     "output_type": "stream",
     "text": [
      "Enter the radius of the base: 7\n",
      "Enter the height of the cylinder: 14\n",
      "Volume of the cylinder is  2155.1\n"
     ]
    }
   ],
   "source": [
    "r = float(input('Enter the radius of the base: '))\n",
    "h = float(input('Enter the height of the cylinder: '))\n",
    "\n",
    "print('Volume of the cylinder is ',\"%.1f\" %(math.pi*r*r*h))"
   ]
  },
  {
   "cell_type": "markdown",
   "metadata": {},
   "source": [
    "Q19. Create a program that determines how quickly an object is travelling when it hits the\n",
    "ground.The user will enter the height from which the object is dropped in meters(m).\n",
    "Because the object is dropped its initial speed is 0m/s. Assume that the acceleration\n",
    "due to gravity is 9.8m/s 2 . You can use the formula v f =\n",
    "?\n",
    "v 2\n",
    "i\n",
    "+ 2ad to compute the\n",
    "finalspeed,v f ,whentheinitialspeed,v i ,acceleration,a,anddistance,d,areknown."
   ]
  },
  {
   "cell_type": "code",
   "execution_count": 23,
   "metadata": {},
   "outputs": [
    {
     "name": "stdout",
     "output_type": "stream",
     "text": [
      "Height from which the ball is dropped:9.8\n",
      "Final speed is  13.859292911256333\n"
     ]
    }
   ],
   "source": [
    "height = float(input('Height from which the ball is dropped:'))\n",
    "\n",
    "print('Final speed is ',math.sqrt(2*9.8*height))"
   ]
  },
  {
   "cell_type": "markdown",
   "metadata": {},
   "source": [
    "Q20. Write a program that computes the amount of gas in moles when the user supplies\n",
    "the pressure, volume and temperature. Test your program by determining the number\n",
    "of moles of gas in a SCUBA tank. A typical SCUBA tank holds 12 liters of gas at\n",
    "a pressure of 20,000,000 Pascals (approximately 3,000 PSI). Room temperature is\n",
    "approximately 20 degrees Celsius or 68 degrees Fahrenheit."
   ]
  },
  {
   "cell_type": "code",
   "execution_count": 25,
   "metadata": {},
   "outputs": [
    {
     "name": "stdout",
     "output_type": "stream",
     "text": [
      "Enter pressure: 20000\n",
      "Enter volume: 200\n",
      "Enter Temperature: 293.15\n",
      "Amount of gas(in moles)  141039210.9694491\n"
     ]
    }
   ],
   "source": [
    "pressure, volume, temperature = float(input('Enter pressure: ')),float(input('Enter volume: ')),float(input('Enter Temperature: '))\n",
    "r = 8.314\n",
    "print('Amount of gas(in moles) ',(pressure*volume)/r*temperature)"
   ]
  },
  {
   "cell_type": "markdown",
   "metadata": {},
   "source": [
    "Q21. Write a program that allows the user to enter values for b and h.The program should\n",
    "then compute and display the area of a triangle with base length b and height h."
   ]
  },
  {
   "cell_type": "code",
   "execution_count": 26,
   "metadata": {},
   "outputs": [
    {
     "name": "stdout",
     "output_type": "stream",
     "text": [
      "Enter base: 12\n",
      "enter height: 22\n",
      "Area of the triangle is:  132.0\n"
     ]
    }
   ],
   "source": [
    "b,h = float(input('Enter base: ')),float(input('enter height: '))\n",
    "\n",
    "print('Area of the triangle is: ', b*h*.5)"
   ]
  },
  {
   "cell_type": "markdown",
   "metadata": {},
   "source": [
    "Q22. Develop a program that reads the lengths of the sides of a triangle from the user and\n",
    "displays its area."
   ]
  },
  {
   "cell_type": "code",
   "execution_count": 27,
   "metadata": {},
   "outputs": [
    {
     "name": "stdout",
     "output_type": "stream",
     "text": [
      "Enter a: 3\n",
      "Enter b: 4\n",
      "Enter c: 5\n",
      "Area is  6.0\n"
     ]
    }
   ],
   "source": [
    "a,b,c = float(input('Enter a: ')),float(input('Enter b: ')),float(input('Enter c: '))\n",
    "\n",
    "s = (a+b+c)/2\n",
    "Area = math.sqrt(s*(s-a)*(s-b)*(s-c))\n",
    "print('Area is ', Area)"
   ]
  },
  {
   "cell_type": "markdown",
   "metadata": {},
   "source": [
    "Q23. Write a program that reads s and n from the user and then displays the area of a\n",
    "regular polygon constructed from these values."
   ]
  },
  {
   "cell_type": "code",
   "execution_count": 28,
   "metadata": {},
   "outputs": [
    {
     "name": "stdout",
     "output_type": "stream",
     "text": [
      "Enter s: 10\n",
      "Enter number of sides: 5\n",
      "Area of the polygon is  172.04774005889672\n"
     ]
    }
   ],
   "source": [
    "s,n = float(input('Enter s: ')),int(input('Enter number of sides: '))\n",
    "\n",
    "area = (n*s*s)/(4*math.tan(math.pi/n))\n",
    "\n",
    "print('Area of the polygon is ',area)"
   ]
  },
  {
   "cell_type": "markdown",
   "metadata": {},
   "source": [
    "Q24. Create a program that reads a duration from the user as a number of days, hours,\n",
    "minutes, and seconds. Compute and display the total number of seconds represented\n",
    "by this duration.\n"
   ]
  },
  {
   "cell_type": "code",
   "execution_count": 31,
   "metadata": {},
   "outputs": [
    {
     "name": "stdout",
     "output_type": "stream",
     "text": [
      "Days5\n",
      "Hours10\n",
      "Minutes34\n",
      "seconds32\n",
      "Total number of seconds is  470072\n"
     ]
    }
   ],
   "source": [
    "d = int(input('Days'))\n",
    "h = int(input('Hours'))\n",
    "m = int(input('Minutes'))\n",
    "s = int(input('seconds'))\n",
    "\n",
    "print('Total number of seconds is ', d*24*3600+h*3600+m*60+s)"
   ]
  },
  {
   "cell_type": "markdown",
   "metadata": {},
   "source": [
    "Q25. In this exercise you will reverse the process described in Exercise 24. Develop a\n",
    "program that begins by reading a number of seconds from the user. Then your program\n",
    "should display the equivalent amount of time in the form D:HH:MM:SS, where D,\n",
    "HH,MM,andSSrepresentdays,hours,minutesandsecondsrespectively.Thehours,\n",
    "minutes and seconds should all be formatted so that they occupy exactly two digits.\n",
    "Use your research skills determine what additional character needs to be included in\n",
    "the format specifier so that leading zeros are used instead of leading spaces when a\n",
    "number is formatted to a particular width."
   ]
  },
  {
   "cell_type": "code",
   "execution_count": 34,
   "metadata": {},
   "outputs": [
    {
     "name": "stdout",
     "output_type": "stream",
     "text": [
      "Enter number of seconds: 68382293\n",
      "791 : 11 : 04 : 53\n"
     ]
    }
   ],
   "source": [
    "s = int(input('Enter number of seconds: '))\n",
    "d = s//(24*3600)\n",
    "s = s - d*24*3600\n",
    "h = s//3600\n",
    "s = s - h*3600\n",
    "m = s//60\n",
    "s = s - m*60\n",
    "print(d,':','%.2d'%h,':','%.2d'%m,':','%.2d'%s)"
   ]
  },
  {
   "cell_type": "markdown",
   "metadata": {},
   "source": [
    "Q26. Python’s time module includes several time-related functions. One of these is the\n",
    "asctime function which reads the current time from the computer’s internal clock\n",
    "and returns it in a human-readable format. Use this function to write a program that\n",
    "displays the current time and date. Your program will not require any input from the\n",
    "user.\n"
   ]
  },
  {
   "cell_type": "code",
   "execution_count": 35,
   "metadata": {},
   "outputs": [
    {
     "name": "stdout",
     "output_type": "stream",
     "text": [
      "Wed Jul 17 08:31:13 2019\n"
     ]
    }
   ],
   "source": [
    "import time\n",
    "\n",
    "print(time.asctime())"
   ]
  },
  {
   "cell_type": "markdown",
   "metadata": {},
   "source": [
    "Q27. Write a program that implements the Anonymous Gregorian Computus algorithm\n",
    "to compute the date of Easter. Your program should read the year from the user and\n",
    "then display a appropriate message that includes the date of Easter in that year."
   ]
  },
  {
   "cell_type": "code",
   "execution_count": 42,
   "metadata": {},
   "outputs": [
    {
     "name": "stdout",
     "output_type": "stream",
     "text": [
      "Enter the year: 2019\n",
      "Easter is on  21 : 04 : 2019\n"
     ]
    }
   ],
   "source": [
    "year = int(input('Enter the year: '))\n",
    "\n",
    "a = year % 19\n",
    "\n",
    "b = year // 100\n",
    "\n",
    "c = year % 100\n",
    "\n",
    "d = b // 4\n",
    "\n",
    "e = b % 4\n",
    "\n",
    "f = (b+8)//25\n",
    "\n",
    "g = (b-f+1)//3\n",
    "\n",
    "h = (19*a+15+b-d-g)%30\n",
    "\n",
    "i = c//4\n",
    "\n",
    "k = c%4\n",
    "\n",
    "l = (32 + 2*e + 2*i - h - k)%7\n",
    "\n",
    "m = (a + 11*h + 22*l)//451\n",
    "\n",
    "month = (h + l - 7*m + 114)//31\n",
    "\n",
    "day = 1 + (h + l - 7*m + 114)%31\n",
    "\n",
    "print('Easter is on ','%.2d'%day,':','%.2d'%month,':',year)"
   ]
  },
  {
   "cell_type": "markdown",
   "metadata": {},
   "source": [
    "Q29. Write a program that computes the body mass index (BMI) of an individual. Your\n",
    "program should begin by reading a height and weight from the user."
   ]
  },
  {
   "cell_type": "code",
   "execution_count": 44,
   "metadata": {},
   "outputs": [
    {
     "name": "stdout",
     "output_type": "stream",
     "text": [
      "Height: 2.5\n",
      "weight: 72\n",
      "Your BMI is  11.52\n"
     ]
    }
   ],
   "source": [
    "height,weight = float(input('Height: ')),float(input('weight: '))\n",
    "\n",
    "print('Your BMI is ', weight/(height*height))"
   ]
  },
  {
   "cell_type": "markdown",
   "metadata": {},
   "source": [
    "Q30. When the wind blows in cold weather, the air feels even colder than it actually is\n",
    "because the movement of the air increases the rate of cooling for warm objects, like\n",
    "people. This effect is known as wind chill.<br>\n",
    "In 2001, Canada, the United Kingdom and the United States adopted the fol-\n",
    "lowing formula for computing the wind chill index. Within the formula T a is the\n",
    "air temperature in degrees Celsius and V is the wind speed in kilometers per hour.\n",
    "A similar formula with different constant values can be used for temperatures in\n",
    "degrees Fahrenheit and wind speeds in miles per hour.<br>\n",
    "WCI = 13.12 + 0.6215T a − 11.37V 0.16 + 0.3965T a V 0.16 <br>\n",
    "Write a program that begins by reading the air temperature and wind speed from the\n",
    "user. Once these values have been read your program should display the wind chill\n",
    "index rounded to the closest integer."
   ]
  },
  {
   "cell_type": "code",
   "execution_count": 45,
   "metadata": {},
   "outputs": [
    {
     "name": "stdout",
     "output_type": "stream",
     "text": [
      "Enter the air temperature: 20\n",
      "Enter the wind speed: 20\n",
      "wind chill for the given input is  19.99449884938906\n"
     ]
    }
   ],
   "source": [
    "Ta,V = float(input('Enter the air temperature: ')),float(input('Enter the wind speed: '))\n",
    "\n",
    "Wci = 13.12 + 0.6215*Ta - 11.37*V**0.16 + 0.3965*Ta*V**0.16\n",
    "\n",
    "print('wind chill for the given input is ',Wci)"
   ]
  },
  {
   "cell_type": "markdown",
   "metadata": {},
   "source": [
    "Q31. Write a program that begins by reading a temperature from the user in degrees\n",
    "Celsius. Then your program should display the equivalent temperature in degrees\n",
    "Fahrenheit and degrees Kelvin. The calculations needed to convert between different\n",
    "units of temperature can be found on the Internet."
   ]
  },
  {
   "cell_type": "code",
   "execution_count": 46,
   "metadata": {},
   "outputs": [
    {
     "name": "stdout",
     "output_type": "stream",
     "text": [
      "Enter the temperature in degrees37.6\n",
      "Temperature in Kelvin:  310.75\n",
      "Temperature in Farenheit:  99.68\n"
     ]
    }
   ],
   "source": [
    "degrees = float(input('Enter the temperature in degrees'))\n",
    "\n",
    "print('Temperature in Kelvin: ',273.15 + degrees)\n",
    "print('Temperature in Farenheit: ',(degrees*9/5)+32)"
   ]
  },
  {
   "cell_type": "markdown",
   "metadata": {},
   "source": [
    "Q32. In this exercise you will create a program that reads a pressure from the user in kilo-\n",
    "pascals. Once the pressure has been read your program should report the equivalent\n",
    "pressure in pounds per square inch, millimeters of mercury and atmospheres. Use\n",
    "your research skills to determine the conversion factors between these units."
   ]
  },
  {
   "cell_type": "code",
   "execution_count": 47,
   "metadata": {},
   "outputs": [
    {
     "name": "stdout",
     "output_type": "stream",
     "text": [
      "Enter pressure in kilo-pascals: 25\n",
      "pressure in pounds/inch:  3.625943597432078\n"
     ]
    }
   ],
   "source": [
    "pressure = float(input('Enter pressure in kilo-pascals: '))\n",
    "\n",
    "print('pressure in pounds/inch: ',pressure*1000/6894.757)"
   ]
  },
  {
   "cell_type": "markdown",
   "metadata": {},
   "source": [
    "Q33. Develop a program that reads a four-digit integer from the user and displays the sum\n",
    "of its digits. For example, if the user enters 3141 then your program should display\n",
    "3+1+4+1=9."
   ]
  },
  {
   "cell_type": "code",
   "execution_count": 50,
   "metadata": {},
   "outputs": [
    {
     "name": "stdout",
     "output_type": "stream",
     "text": [
      "Enter the number: 3242\n",
      "The sum of the digits is 11\n"
     ]
    }
   ],
   "source": [
    "x = input('Enter the number: ')\n",
    "sum = 0\n",
    "for i in range(0,len(x)):\n",
    "    sum = sum + int(x[i])\n",
    "\n",
    "print('The sum of the digits is',sum)"
   ]
  },
  {
   "cell_type": "code",
   "execution_count": 55,
   "metadata": {},
   "outputs": [
    {
     "name": "stdout",
     "output_type": "stream",
     "text": [
      "Enter a5\n",
      "Enter b3\n",
      "Enter c2\n",
      "sorted:  2 , 3 , 5\n"
     ]
    }
   ],
   "source": [
    "a,b,c = int(input('Enter a')),int(input('Enter b')),int(input('Enter c'))\n",
    "\n",
    "print('sorted: ',min(a,b,c),',',(a+b+c)-min(a,b,c)-max(a,b,c),',',max(a,b,c))"
   ]
  },
  {
   "cell_type": "markdown",
   "metadata": {},
   "source": [
    "Q34. A bakery sells loaves of bread for $3.49 each. Day old bread is discounted by 60\n",
    "percent. Write a program that begins by reading the number of loaves of day old\n",
    "bread being purchased from the user. Then your program should display the regular\n",
    "price for the bread, the discount because it is a day old, and the total price. Each of\n",
    "these amounts should be displayed on its own line with an appropriate label. All of\n",
    "the values should be displayed using two decimal places, and the decimal points in\n",
    "all of the numbers should be aligned when reasonable values are entered by the user.\n"
   ]
  },
  {
   "cell_type": "code",
   "execution_count": 57,
   "metadata": {},
   "outputs": [
    {
     "name": "stdout",
     "output_type": "stream",
     "text": [
      "Number of breads: 10\n",
      "The regular price: $ 34.90\n",
      "The discount applied: $ 20.94\n",
      "Total Price after discount: $ 13.96\n"
     ]
    }
   ],
   "source": [
    "n = int(input('Number of breads: '))\n",
    "\n",
    "print('The regular price: $','%.2f'%(3.49*n))\n",
    "print('The discount applied: $','%.2f'%(3.49*n*0.6))\n",
    "print('Total Price after discount: $','%.2f'%(3.49*n*0.4))"
   ]
  },
  {
   "cell_type": "code",
   "execution_count": null,
   "metadata": {},
   "outputs": [],
   "source": []
  }
 ],
 "metadata": {
  "kernelspec": {
   "display_name": "Python 3",
   "language": "python",
   "name": "python3"
  },
  "language_info": {
   "codemirror_mode": {
    "name": "ipython",
    "version": 3
   },
   "file_extension": ".py",
   "mimetype": "text/x-python",
   "name": "python",
   "nbconvert_exporter": "python",
   "pygments_lexer": "ipython3",
   "version": "3.7.3"
  }
 },
 "nbformat": 4,
 "nbformat_minor": 2
}
