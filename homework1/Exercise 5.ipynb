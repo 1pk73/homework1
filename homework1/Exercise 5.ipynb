{
 "cells": [
  {
   "cell_type": "markdown",
   "metadata": {},
   "source": [
    "Write a program that reads integers from the user and stores them in a list. Your\n",
    "programshouldcontinuereadingvaluesuntiltheuserenters0.Thenitshoulddisplay\n",
    "all of the values entered by the user (except for the 0) in ascending order, with one\n",
    "value appearing on each line. Use either the sort method or the sorted function\n",
    "to sort the list."
   ]
  },
  {
   "cell_type": "code",
   "execution_count": 4,
   "metadata": {},
   "outputs": [
    {
     "name": "stdout",
     "output_type": "stream",
     "text": [
      "Enter integers(Type 0 to quit)2\n",
      "Enter integers(Type 0 to quit)4\n",
      "Enter integers(Type 0 to quit)3\n",
      "Enter integers(Type 0 to quit)5\n",
      "Enter integers(Type 0 to quit)6\n",
      "Enter integers(Type 0 to quit)4\n",
      "Enter integers(Type 0 to quit)3\n",
      "Enter integers(Type 0 to quit)443\n",
      "Enter integers(Type 0 to quit)0\n",
      "2\n",
      "3\n",
      "3\n",
      "4\n",
      "4\n",
      "5\n",
      "6\n",
      "443\n"
     ]
    }
   ],
   "source": [
    "ls = []\n",
    "n = int(input('Enter integers(Type 0 to quit)'))\n",
    "while n != 0:\n",
    "    ls.append(n)\n",
    "    n =  int(input('Enter integers(Type 0 to quit)'))\n",
    "\n",
    "ls.sort()\n",
    "\n",
    "for v in ls:\n",
    "    print(v)"
   ]
  },
  {
   "cell_type": "markdown",
   "metadata": {},
   "source": [
    "Write a program that reads integers from the user and stores them in a list. Use 0 as\n",
    "a sentinel value to mark the end of the input. Once all of the values have been read\n",
    "your program should display them (except for the 0) in reverse order, with one value\n",
    "appearing on each line."
   ]
  },
  {
   "cell_type": "code",
   "execution_count": 5,
   "metadata": {},
   "outputs": [
    {
     "name": "stdout",
     "output_type": "stream",
     "text": [
      "Enter integers(Type 0 to quit)2\n",
      "Enter integers(Type 0 to quit)3\n",
      "Enter integers(Type 0 to quit)45\n",
      "Enter integers(Type 0 to quit)5\n",
      "Enter integers(Type 0 to quit)6\n",
      "Enter integers(Type 0 to quit)544\n",
      "Enter integers(Type 0 to quit)3\n",
      "Enter integers(Type 0 to quit)5\n",
      "Enter integers(Type 0 to quit)0\n",
      "5\n",
      "3\n",
      "544\n",
      "6\n",
      "5\n",
      "45\n",
      "3\n",
      "2\n"
     ]
    }
   ],
   "source": [
    "ls = []\n",
    "n = int(input('Enter integers(Type 0 to quit)'))\n",
    "while n != 0:\n",
    "    ls.append(n)\n",
    "    n =  int(input('Enter integers(Type 0 to quit)'))\n",
    "\n",
    "ls.reverse()\n",
    "\n",
    "for v in ls:\n",
    "    print(v)"
   ]
  },
  {
   "cell_type": "markdown",
   "metadata": {},
   "source": [
    "Write a main program that demonstrates your function. It should read a list of\n",
    "numbersfromtheuserandremovethetwolargestandtwosmallestvaluesfromitby\n",
    "calling the function described previously. Display the list with the outliers removed,\n",
    "followed by the original list. Your program should generate an appropriate error\n",
    "message if the user enters less than 4 values"
   ]
  },
  {
   "cell_type": "code",
   "execution_count": 16,
   "metadata": {},
   "outputs": [
    {
     "name": "stdout",
     "output_type": "stream",
     "text": [
      "Enter the numbers: 3\n",
      "Enter the numbers: 45\n",
      "Enter the numbers: 6\n",
      "Enter the numbers: 7\n",
      "Enter the numbers: 4\n",
      "Enter the numbers: 3\n",
      "Enter the numbers: 56\n",
      "Enter the numbers: 76\n",
      "Enter the numbers: 45\n",
      "Enter the numbers: 4\n",
      "Enter the numbers: 68\n",
      "Enter the numbers: 0\n",
      "Enter the outliers number3\n",
      "[6, 7, 45, 45, 56]\n"
     ]
    }
   ],
   "source": [
    "def outlier(l,n):\n",
    "    l.sort()\n",
    "    l = l[n+1:(len(l) - n)+1]\n",
    "    return l\n",
    "def main():\n",
    "    l = []\n",
    "    i = int(input('Enter the numbers: '))\n",
    "    while i != 0:\n",
    "        \n",
    "        l.append(i)\n",
    "        \n",
    "        i = int(input('Enter the numbers: '))\n",
    "    if len(l) < 4:\n",
    "        print('Please enter values more than 4')\n",
    "        return\n",
    "    n = int(input('Enter the outliers number'))\n",
    "    if n <= 0:\n",
    "        print('ENter valid n')\n",
    "        return\n",
    "    print(outlier(l,n))\n",
    "\n",
    "main()\n",
    "        "
   ]
  },
  {
   "cell_type": "markdown",
   "metadata": {},
   "source": [
    "In this exercise, you will create a program that reads words from the user until the\n",
    "user enters a blank line. After the user enters a blank line your program should dis-\n",
    "play each word entered by the user exactly once. The words should be displayed in\n",
    "the same order that they were first entered."
   ]
  },
  {
   "cell_type": "code",
   "execution_count": 17,
   "metadata": {},
   "outputs": [
    {
     "name": "stdout",
     "output_type": "stream",
     "text": [
      "Enter the words: a\n",
      "Enter the words: b\n",
      "Enter the words: c\n",
      "Enter the words: a\n",
      "Enter the words: a\n",
      "Enter the words: c\n",
      "Enter the words: c\n",
      "Enter the words: \n",
      "a\n",
      "b\n",
      "c\n"
     ]
    }
   ],
   "source": [
    "s = input('Enter the words: ')\n",
    "l = []\n",
    "while s != '':\n",
    "    if s not in l:\n",
    "        l.append(s)\n",
    "    s = input('Enter the words: ')\n",
    "\n",
    "for i in l:\n",
    "    \n",
    "    print(i)"
   ]
  },
  {
   "cell_type": "markdown",
   "metadata": {},
   "source": [
    "Create a program that reads integers from the user until a blank line is entered. Once\n",
    "all of the integers have been read your program should display all of the negative\n",
    "numbers,followedbyallofthezeros,followedbyallofthepositivenumbers.Within\n",
    "eachgroupthenumbersshouldbedisplayedinthesameorderthattheywereentered\n",
    "by the user."
   ]
  },
  {
   "cell_type": "code",
   "execution_count": 20,
   "metadata": {},
   "outputs": [
    {
     "name": "stdout",
     "output_type": "stream",
     "text": [
      "Enter the integers: -2\n",
      "Enter the integers: 0\n",
      "Enter the integers: 1\n",
      "Enter the integers: -5\n",
      "Enter the integers: 0\n",
      "Enter the integers: 4\n",
      "Enter the integers: 3\n",
      "Enter the integers: \n",
      "-2\n",
      "-5\n",
      "0\n",
      "0\n",
      "1\n",
      "4\n",
      "3\n"
     ]
    }
   ],
   "source": [
    "n = input('Enter the integers: ')\n",
    "ln = []\n",
    "lo = []\n",
    "lp = []\n",
    "while n != '':\n",
    "    if int(n) < 0:\n",
    "        ln.append(n)\n",
    "    elif int(n) == 0:\n",
    "        lo.append(n)\n",
    "    elif int(n) >= 0:\n",
    "        lp.append(n)\n",
    "    n = input('Enter the integers: ')\n",
    "\n",
    "for i in ln:\n",
    "    print(i)\n",
    "for i in lo:\n",
    "    print(i)\n",
    "for i in lp:\n",
    "    print(i)\n",
    "    "
   ]
  },
  {
   "cell_type": "markdown",
   "metadata": {},
   "source": [
    "Aproperdivisorofapositiveinteger,n,isapositiveintegerlessthann whichdivides\n",
    "evenly into n. Write a function that computes all of the proper divisors of a positive\n",
    "integer. The integer will be passed to the function as its only parameter. The function\n",
    "will return a list containing all of the proper divisors as its only result. Complete\n",
    "this exercise by writing a main program that demonstrates the function by reading\n",
    "a value from the user and displaying the list of its proper divisors. Ensure that your\n",
    "main program only runs when your solution has not been imported into another file."
   ]
  },
  {
   "cell_type": "code",
   "execution_count": 34,
   "metadata": {},
   "outputs": [
    {
     "name": "stdout",
     "output_type": "stream",
     "text": [
      "Enter the number: 28\n",
      "[1, 2, 4, 7, 14]\n"
     ]
    }
   ],
   "source": [
    "l = []\n",
    "def properDivisor(n):\n",
    "    for i in range(1,(n//2)+1):\n",
    "        if n % i == 0:\n",
    "            l.append(i)\n",
    "    return l\n",
    "\n",
    "def main():\n",
    "    n = int(input('Enter the number: '))\n",
    "    print(properDivisor(n))\n",
    "    \n",
    "main()"
   ]
  },
  {
   "cell_type": "markdown",
   "metadata": {},
   "source": [
    "## An integer, n, is said to be perfect when the sum of all of the proper divisors of n is\n",
    "equal to n. For example, 28 is a perfect number because its proper divisors are 1, 2,\n",
    "4, 7 and 14, and 1 + 2 + 4 + 7 + 14 = 28.\n",
    "Write a function that determines whether or not a positive integer is perfect. Your\n",
    "function will take one parameter. If that parameter is a perfect number then your\n",
    "function will return True. Otherwise it will return False. In addition, write a main\n",
    "program that uses your function to identify and display all of the perfect numbers\n",
    "between 1 and 10,000. Import your solution to Exercise115 when completing this\n",
    "task."
   ]
  },
  {
   "cell_type": "code",
   "execution_count": 39,
   "metadata": {},
   "outputs": [],
   "source": [
    "def perfectNumber(n):\n",
    "    for i in range(1,(n//2)+1):\n",
    "        if n % i == 0:\n",
    "            l.append(i)\n",
    "    if sum(l) == n:\n",
    "        return True\n",
    "    else:\n",
    "        return False\n",
    "    \n",
    "def main():\n",
    "    for n in range(3,10001):\n",
    "        if perfectNumber(n):\n",
    "            print(n)\n",
    "        else:\n",
    "            continue\n",
    "        \n",
    "main()"
   ]
  },
  {
   "cell_type": "markdown",
   "metadata": {},
   "source": [
    "In this exercise you will create a program that identifies all of the words in a\n",
    "string entered by the user. Begin by writing a function that takes a string as\n",
    "its only parameter. Your function should return a list of the words in the string\n",
    "with the punctuation marks at the edges of the words removed. The punctu-\n",
    "ation marks that you must consider include commas, periods, question marks,\n",
    "hyphens, apostrophes, exclamation points, colons, and semicolons. Do not remove\n",
    "punctuation marks that appear in the middle of a word, such as the apostrophes\n",
    "used to form a contraction. For example, if your function is provided with the\n",
    "string \"Contractions include: don’t, isn’t, and wouldn’t.\"\n",
    "then your function should return the list [\"Contractions\", \"include\",\n",
    "\"don’t\", \"isn’t\", \"and\", \"wouldn’t\"]."
   ]
  },
  {
   "cell_type": "code",
   "execution_count": 46,
   "metadata": {},
   "outputs": [
    {
     "name": "stdout",
     "output_type": "stream",
     "text": [
      "Enter the string: A red fox.\n",
      "['A', 'red', 'fox']\n"
     ]
    }
   ],
   "source": [
    "import string\n",
    "def words(s):\n",
    "    s = s.split(' ')\n",
    "    for i in range(0,len(s)):\n",
    "        if s[i][-1] in string.punctuation:\n",
    "            s[i] = s[i][0:-1]\n",
    "    return s\n",
    "\n",
    "def main():\n",
    "    s = input('Enter the string: ')\n",
    "    print(words(s))\n",
    "\n",
    "main()"
   ]
  },
  {
   "cell_type": "markdown",
   "metadata": {},
   "source": [
    "Create a program that reads a string from the user. Your program should report\n",
    "whether or not the entered string is a word by word palindrome. Ignore spacing and\n",
    "punctuation when determining the result."
   ]
  },
  {
   "cell_type": "code",
   "execution_count": 3,
   "metadata": {},
   "outputs": [
    {
     "name": "stdout",
     "output_type": "stream",
     "text": [
      "Enter the string: Herb the sage eats sage, the herb\n",
      "True\n"
     ]
    }
   ],
   "source": [
    "import string\n",
    "def words(s):\n",
    "    s = s.split(' ')\n",
    "    for i in range(0,len(s)):\n",
    "        if s[i][-1] in string.punctuation:\n",
    "            s[i] = s[i][0:-1]\n",
    "    for i in range(0,len(s)):\n",
    "        s[i] = s[i].lower()\n",
    "    for i in range(0,len(s)//2):\n",
    "        if s[i] == s[-i]:\n",
    "            return True\n",
    "        else:\n",
    "            return False\n",
    "\n",
    "def main():\n",
    "    s = input('Enter the string: ')\n",
    "    print(words(s))\n",
    "\n",
    "main()"
   ]
  },
  {
   "cell_type": "markdown",
   "metadata": {},
   "source": [
    "Write a program that reads numbers from the user until a blank line is entered. Your\n",
    "program should display the average of all of the values entered by the user. Then\n",
    "the program should display all of the below average values, followed by all of the\n",
    "average values (if any), followed by all of the above average values. An appropriate\n",
    "label should be displayed before each list of values."
   ]
  },
  {
   "cell_type": "code",
   "execution_count": 5,
   "metadata": {},
   "outputs": [
    {
     "name": "stdout",
     "output_type": "stream",
     "text": [
      "Enter The numbers: 2\n",
      "Enter The numbers: 3\n",
      "Enter The numbers: 7\n",
      "Enter The numbers: 54\n",
      "Enter The numbers: 32\n",
      "Enter The numbers: 23\n",
      "Enter The numbers: 5\n",
      "Enter The numbers: \n",
      "values below than average:  [2, 3, 7, 5]\n",
      "values equal to average:  []\n",
      "values above than average:  [54, 32, 23]\n"
     ]
    }
   ],
   "source": [
    "n = input('Enter The numbers: ')\n",
    "l = []\n",
    "while n != '':\n",
    "    l.append(int(n))\n",
    "    n = input('Enter The numbers: ')\n",
    "\n",
    "avg = sum(l)/len(l)\n",
    "la = []\n",
    "a = []\n",
    "lb = []\n",
    "for i in range(0,len(l)):\n",
    "    if l[i] > avg:\n",
    "        la.append(l[i])\n",
    "    elif l[i] == avg:\n",
    "        a.append(l[i])\n",
    "    elif l[i] < avg:\n",
    "        lb.append(l[i])\n",
    "        \n",
    "print('values below than average: ',lb)\n",
    "print('values equal to average: ',a)\n",
    "print('values above than average: ',la)\n"
   ]
  },
  {
   "cell_type": "markdown",
   "metadata": {},
   "source": [
    "Write a function that takes a list of strings as its only parameter. Your function\n",
    "shouldreturnastringthatcontainsalloftheitemsinthelist,formattedinthemanner\n",
    "described previously, as its only result. While the examples shown previously only\n",
    "include lists containing four elements or less, your function should behave correctly\n",
    "for lists of any length. Include a main program that reads several items from the user,\n",
    "formats them by calling your function, and then displays the result returned by the\n",
    "function."
   ]
  },
  {
   "cell_type": "code",
   "execution_count": 9,
   "metadata": {},
   "outputs": [
    {
     "name": "stdout",
     "output_type": "stream",
     "text": [
      "Enter strings: are\n",
      "Enter strings: the\n",
      "Enter strings: i\n",
      "Enter strings: \n",
      "are,the and i\n"
     ]
    }
   ],
   "source": [
    "def formatted(s):\n",
    "    frmt = ''\n",
    "    for i in range(0,len(s)-1):\n",
    "        frmt = frmt + s[i] + ', '\n",
    "    frmt = frmt[0:-1]\n",
    "        \n",
    "    frmt = frmt +' and '+s[-1]\n",
    "    return frmt\n",
    "    \n",
    "def main():\n",
    "    s = []\n",
    "    st = input('Enter strings: ')\n",
    "    while st != '':\n",
    "        s.append(st)\n",
    "        st = input('Enter strings: ')\n",
    "    print(formatted(s))\n",
    "    \n",
    "main()"
   ]
  },
  {
   "cell_type": "markdown",
   "metadata": {},
   "source": [
    "In order to win the top prize in a particular lottery, one must match all 6 numbers\n",
    "on his or her ticket to the 6 numbers between 1 and 49 that are drawn by the lottery\n",
    "organizer. Write a program that generates a random selection of 6 numbers for a\n",
    "lottery ticket. Ensure that the 6 numbers selected do not contain any duplicates.\n",
    "Display the numbers in ascending order."
   ]
  },
  {
   "cell_type": "code",
   "execution_count": 11,
   "metadata": {},
   "outputs": [
    {
     "name": "stdout",
     "output_type": "stream",
     "text": [
      "[20, 21, 37, 39, 43, 46]\n"
     ]
    }
   ],
   "source": [
    "import random\n",
    "\n",
    "\n",
    "x = random.sample(range(1,49),6)\n",
    "\n",
    "x.sort()\n",
    "print(x)\n",
    "    "
   ]
  },
  {
   "cell_type": "markdown",
   "metadata": {},
   "source": [
    "Write a program that reads a line of text from the user. Then your program should\n",
    "translatethelineintoPigLatinanddisplaytheresult.Youmayassumethatthestring\n",
    "entered by the user only contains lowercase letters and spaces."
   ]
  },
  {
   "cell_type": "code",
   "execution_count": 24,
   "metadata": {},
   "outputs": [
    {
     "name": "stdout",
     "output_type": "stream",
     "text": [
      "Enter the sentence: A quick brown fox jumped over a big lazy dog\n",
      "away uickqay ownbray oxfay umpedjay overway away igbay azylay ogday\n"
     ]
    }
   ],
   "source": [
    "s = input('Enter the sentence: ')\n",
    "v = ['a','e','i','o','u']\n",
    "\n",
    "s = s.split(' ')\n",
    "for i in range(0,len(s)):\n",
    "    if s[i][-1] in string.punctuation:\n",
    "        s[i] = s[i][0:-1]\n",
    "for i in range(0,len(s)):\n",
    "    s[i] = s[i].lower()\n",
    "\n",
    "for i in range(0,len(s)):\n",
    "    if s[i][0] in v:\n",
    "        s[i] = s[i] + 'way'\n",
    "        \n",
    "    else:\n",
    "        while s[i][0] not in v:\n",
    "            x = s[i][0]\n",
    "            \n",
    "            s[i] = s[i][1:]\n",
    "            \n",
    "            s[i] = s[i] + x\n",
    "        s[i] = s[i] + 'ay'\n",
    "print(' '.join(s))"
   ]
  },
  {
   "cell_type": "markdown",
   "metadata": {},
   "source": [
    "Write a program that reads a collection of points from the user. The user will enter\n",
    "the first x coordinate on its own line, followed by the first y coordinate on its own\n",
    "line. Allow the user to continue entering coordinates, with the x and y values each\n",
    "entered on their own line, until your program reads a blank line for the x coordinate.\n",
    "Display the formula for the line of best fit in the form y = mx + b by replacing m\n",
    "and b with the values calculated by the preceding formulas. For example, if the user\n",
    "inputs the coordinates (1,1), (2,2.1) and (3,2.9) then your program should display\n",
    "y = 0.95x + 0.1."
   ]
  },
  {
   "cell_type": "code",
   "execution_count": 30,
   "metadata": {},
   "outputs": [
    {
     "name": "stdout",
     "output_type": "stream",
     "text": [
      "Enter x coordinate: 1\n",
      "Enter y coordinate: 1\n",
      "Enter the x coordinates: 2\n",
      "Enter y coordinate: 2.1\n",
      "Enter the x coordinates: 3\n",
      "Enter y coordinate: 2.9\n",
      "Enter the x coordinates: 9999\n",
      "y =  -3.75 x +  9.5\n"
     ]
    }
   ],
   "source": [
    "x = float(input('Enter x coordinate: '))\n",
    "xl = []\n",
    "yl = []\n",
    "while x != 9999:\n",
    "    n = 1\n",
    "    n = n + 1\n",
    "    xl.append(int(x))\n",
    "    y = float(input('Enter y coordinate: '))\n",
    "    yl.append(int(y))\n",
    "    x = float(input('Enter the x coordinates: '))\n",
    "\n",
    "sxy = 0\n",
    "sxx = 0\n",
    "sx = 0\n",
    "sy = 0\n",
    "m = 0\n",
    "b = 0\n",
    "\n",
    "xavg = sum(xl)/len(xl)\n",
    "yavg = sum(xl)/len(yl)\n",
    "\n",
    "for x in xl:\n",
    "    for y in yl:\n",
    "        sxy = sxy + x*y\n",
    "    \n",
    "for x in xl:\n",
    "    sx = sx + x\n",
    "    sxx = sxx + x**2\n",
    "\n",
    "for y in yl:\n",
    "    sy = sy + y\n",
    "\n",
    "m = (sxy -(sx*sy/n))/(sxx - sx**2/n)\n",
    "\n",
    "b = yavg - m*xavg\n",
    "\n",
    "print('y = ',m,'x + ',b)"
   ]
  },
  {
   "cell_type": "markdown",
   "metadata": {},
   "source": [
    "Begin by writing a function named createDeck. It will use loops to create a\n",
    "complete deck of cards by storing the two-character abbreviations for all 52 cards\n",
    "into a list. Return the list of cards as the function’s only result. Your function will\n",
    "not require any parameters.\n",
    "Write a second function named shuffle that randomizes the order of the cards\n",
    "in a list. One technique that can be used to shuffle the cards is to visit each element\n",
    "in the list and swap it with another random element in the list. You must write your\n",
    "own loop for shuffling the cards. You cannot make use of Python’s built-in shuffle\n",
    "function.\n",
    "Use both of the functions described in the previous paragraphs to create a main\n",
    "program that displays a deck of cards before and after it has been shuffled. Ensure\n",
    "that your main program only runs when your functions have not been imported into\n",
    "another file."
   ]
  },
  {
   "cell_type": "code",
   "execution_count": 36,
   "metadata": {},
   "outputs": [
    {
     "name": "stdout",
     "output_type": "stream",
     "text": [
      "['2s', '2h', '2d', '2c', '3s', '3h', '3d', '3c', '4s', '4h', '4d', '4c', '5s', '5h', '5d', '5c', '6s', '6h', '6d', '6c', '7s', '7h', '7d', '7c', '8s', '8h', '8d', '8c', '9s', '9h', '9d', '9c', 'Ts', 'Th', 'Td', 'Tc', 'Js', 'Jh', 'Jd', 'Jc', 'Qs', 'Qh', 'Qd', 'Qc', 'Ks', 'Kh', 'Kd', 'Kc', 'As', 'Ah', 'Ad', 'Ac']\n",
      "['9s', 'Kd', '8c', '7s', '9c', '8s', 'As', 'Tc', '5s', '9h', '4c', 'Ks', '6s', '3d', 'Ac', 'Ah', 'Ad', '3c', 'Jc', '2d', 'Td', '2c', 'Qh', '3h', '7c', 'Th', 'Jd', '4d', '6d', 'Ts', '8h', '3s', 'Kh', '2s', '2h', 'Jh', '6h', 'Qd', '4h', '5d', '5c', '4s', '7d', '8d', 'Kc', 'Qs', 'Qc', '9d', '6c', '5h', 'Js', '7h']\n"
     ]
    }
   ],
   "source": [
    "ls = ['s','h','d','c']\n",
    "lt = ['2','3','4','5','6','7','8','9','T','J','Q','K','A']\n",
    "l = []\n",
    "ll = []\n",
    "def createDeck():\n",
    "    for i in lt:\n",
    "        for j in ls:\n",
    "            l.append(i+j)\n",
    "    return l\n",
    "\n",
    "def shuffle():\n",
    "    x = random.sample(range(0,52),52)\n",
    "    for i in range(0,52):\n",
    "        ll.append(l[x[i]])\n",
    "    return ll\n",
    "\n",
    "def main():\n",
    "    print(createDeck())\n",
    "    print(shuffle())\n",
    "    \n",
    "main()"
   ]
  },
  {
   "cell_type": "code",
   "execution_count": 44,
   "metadata": {},
   "outputs": [
    {
     "name": "stdout",
     "output_type": "stream",
     "text": [
      "Enter no. of hands: 4\n",
      "Enter cards per hand: 6\n",
      "['9s', 'Kd', '8c', '7s', '9c', '8s', 'As', 'Tc', '5s', '9h', '4c', 'Ks', '6s', '3d', 'Ac', 'Ah', 'Ad', '3c', 'Jc', '2d', 'Td', '2c', 'Qh', '3h', '7c', 'Th', 'Jd', '4d', '6d', 'Ts', '8h', '3s', 'Kh', '2s', '2h', 'Jh', '6h', 'Qd', '4h', '5d', '5c', '4s', '7d', '8d', 'Kc', 'Qs', 'Qc', '9d', '6c', '5h', 'Js', '7h', '8d', '2c', '7s', '6s', '3c', '5d', '6d', '9s', '2s', '3d', '8c', 'Th', '4h', '5s', '4s', '5h', 'Jc', '9c', '4d', '4c', '2d', 'Ts', 'Js', '2h', '8h', 'Ad', '6h', '7d', '5c', '3s', 'Qh', 'Ac', 'Td', '9d', 'As', '7c', '7h', 'Jh', 'Kd', 'Jd', 'Qc', 'Ah', '6c', 'Kh', '9h', 'Tc', 'Qd', '3h', 'Ks', 'Kc', 'Qs', '8s', 'Ad', '7h', 'Td', '9d', '8h', 'Ac', '4s', '4d', 'Kd', '6s', '9h', 'Tc', '2s', '9c', 'As', '2d', '2h', '8c', '8s', '6c', 'Ks', 'Kc', '7d', 'Jh', 'Qh', 'Ts', '6h', 'Ah', '5d', '3h', 'Jd', 'Th', 'Jc', 'Qs', '2c', 'Js', '3s', '5h', '6d', '5c', 'Kh', '5s', '7c', '4c', 'Qd', '8d', '3d', '3c', '9s', 'Qc', '4h', '7s', 'Qs', '8s', '4h', '9c', 'Jc', '7h', '5s', 'Qh', '8d', '3d', '7c', '4s', '2d', 'Td', '6s', 'Ad', '6h', 'Kc', '9h', 'As', '6c', 'Ah', '7s', '6d', 'Qc', 'Tc', 'Jd', 'Ts', '4c', '2s', 'Ac', '9s', '5c', 'Kd', 'Th', '9d', '3h', '2c', 'Js', 'Qd', '2h', '3s', 'Jh', '8c', '4d', '5h', '3c', 'Kh', '8h', '5d', 'Ks', '7d', '8d', '8s', '9h', 'Qd', 'Ts', 'Kh', '3d', '6s', '8c', '6c', 'Ad', 'Jc', 'Js', 'Kc', 'Ks', '5h', 'Qc', 'Th', '7h', '6d', '9d', '7c', 'Tc', '2d', '2s', 'Td', '2h', 'Jh', '7s', 'Qh', '4c', '4h', '9s', '5c', '3c', '5d', 'Ah', '9c', '8h', '5s', '3s', '3h', 'Ac', 'Kd', '2c', '7d', 'Qs', '6h', '4s', '4d', 'Jd', 'As', 'Ks', '3s', '5s', 'Jh', '2h', 'Ts', '2d', 'Js', '3h', 'Ah', '7h', 'As', '4c', 'Kh', 'Qs', 'Tc', '8s', '6h', '8h', 'Ad', '6s', '5d', 'Kd', '6c', '8c', 'Qc', 'Qd', 'Td', '4s', '8d', 'Jc', 'Ac', 'Th', '9d', '2c', 'Qh', '9c', '9h', '6d', '3c', '5h', '2s', '7c', '4d', '7d', '4h', 'Jd', 'Kc', '3d', '5c', '7s', '9s', '3s', '7c', 'Ac', 'Qh', 'Jh', '9h', '8d', '8h', '5c', 'Tc', '2d', '6c', 'Ad', '6h', '7s', 'Qd', '2s', '9d', '8s', '8c', '6d', 'Td', '4s', '4h', '5d', 'Ts', '3h', 'Kd', '2h', '9s', '9c', '5s', 'Ks', '6s', '3d', 'Jd', 'Kc', 'Kh', '7d', 'Th', '4c', 'Qs', '7h', '4d', 'Jc', '5h', 'Js', 'Ah', '2c', '3c', 'Qc', 'As', 'Qd', '2s', 'Kh', '7h', '8c', '2d', 'Ac', '4h', '6c', '8h', '5c', '6s', 'Ad', '9h', '5d', '5s', '6d', '5h', 'Ah', 'Td', '3d', '9s', 'Jc', 'Jh', 'Qs', 'Ks', 'Kc', 'Th', '2c', '7d', '7c', '4d', '9c', 'Jd', '6h', 'Tc', '3s', '8s', '3h', 'As', '9d', 'Qc', '7s', '3c', '4c', 'Ts', 'Js', 'Qh', '4s', 'Kd', '2h', '8d', 'Ad', 'Jd', '2c', '6h', '2h', '6s', '6d', 'Kh', 'As', 'Qs', 'Td', 'Jc', '6c', '9s', 'Kd', '3d', 'Tc', '2s', 'Jh', '3h', '8h', 'Ks', '7h', '3s', '4c', '5c', 'Th', '4h', 'Ah', '4s', '9h', '3c', '8s', '8d', '7c', 'Ac', 'Js', '5s', 'Qh', 'Qd', '5d', '8c', '2d', '5h', '7d', '9d', 'Ts', 'Qc', '4d', '9c', 'Kc', '7s']\n",
      "After deal\n",
      "[]\n"
     ]
    }
   ],
   "source": [
    "\n",
    "def createDeck():\n",
    "    for i in lt:\n",
    "        for j in ls:\n",
    "            l.append(i+j)\n",
    "    return l\n",
    "\n",
    "def shuffle():\n",
    "    x = random.sample(range(0,52),52)\n",
    "    for i in range(0,52):\n",
    "        ll.append(l[x[i]])\n",
    "    return ll\n",
    "\n",
    "def deal(hands,cardsperhand,ll):\n",
    "    d = []\n",
    "    \n",
    "    for card in ll:\n",
    "        while len(d) != cardsperhand*hands:\n",
    "            d.append(card)\n",
    "            ll = ll[1:]\n",
    "    return d\n",
    "\n",
    "\n",
    "def divide_chunks(d, hands): \n",
    "\n",
    "    # looping till length l \n",
    "    for i in range(0, len(d), hands): \n",
    "        yield d[i:i + hands] \n",
    "            \n",
    "    \n",
    "            \n",
    "    \n",
    "\n",
    "def main():\n",
    "    ls = ['s','h','d','c']\n",
    "    lt = ['2','3','4','5','6','7','8','9','T','J','Q','K','A']\n",
    "    l = []\n",
    "    ll = []\n",
    "    d = []\n",
    "    hands = int(input('Enter no. of hands: '))\n",
    "    cardsperhand = int(input('Enter cards per hand: '))\n",
    "    createDeck()\n",
    "    print(shuffle())\n",
    "    deal(hands,cardsperhand,ll)\n",
    "    x = list(divide_chunks(deal(hands,cardsperhand,ll),hands))\n",
    "    print('After deal')\n",
    "    print(x)\n",
    "main()"
   ]
  },
  {
   "cell_type": "markdown",
   "metadata": {},
   "source": [
    "Write a function that determines whether or not a list of values is in sorted order\n",
    "(either ascending or descending). The function should return True if the list is\n",
    "already sorted. Otherwise it should return False. Write a main program that reads\n",
    "a list of numbers from the user and then uses your function to report whether or not\n",
    "the list is sorted."
   ]
  },
  {
   "cell_type": "code",
   "execution_count": 49,
   "metadata": {},
   "outputs": [
    {
     "name": "stdout",
     "output_type": "stream",
     "text": [
      "Enter the numbers: 2\n",
      "Enter the numbers: 3\n",
      "Enter the numbers: 4\n",
      "Enter the numbers: 5\n",
      "Enter the numbers: 0\n"
     ]
    },
    {
     "ename": "TypeError",
     "evalue": "'NoneType' object is not subscriptable",
     "output_type": "error",
     "traceback": [
      "\u001b[1;31m---------------------------------------------------------------------------\u001b[0m",
      "\u001b[1;31mTypeError\u001b[0m                                 Traceback (most recent call last)",
      "\u001b[1;32m<ipython-input-49-0b9195448a1e>\u001b[0m in \u001b[0;36m<module>\u001b[1;34m\u001b[0m\n\u001b[0;32m     18\u001b[0m     \u001b[0mprint\u001b[0m\u001b[1;33m(\u001b[0m\u001b[0misSorted\u001b[0m\u001b[1;33m(\u001b[0m\u001b[0ml\u001b[0m\u001b[1;33m)\u001b[0m\u001b[1;33m)\u001b[0m\u001b[1;33m\u001b[0m\u001b[1;33m\u001b[0m\u001b[0m\n\u001b[0;32m     19\u001b[0m \u001b[1;33m\u001b[0m\u001b[0m\n\u001b[1;32m---> 20\u001b[1;33m \u001b[0mmain\u001b[0m\u001b[1;33m(\u001b[0m\u001b[1;33m)\u001b[0m\u001b[1;33m\u001b[0m\u001b[1;33m\u001b[0m\u001b[0m\n\u001b[0m",
      "\u001b[1;32m<ipython-input-49-0b9195448a1e>\u001b[0m in \u001b[0;36mmain\u001b[1;34m()\u001b[0m\n\u001b[0;32m     16\u001b[0m         \u001b[0ml\u001b[0m\u001b[1;33m.\u001b[0m\u001b[0mappend\u001b[0m\u001b[1;33m(\u001b[0m\u001b[0mn\u001b[0m\u001b[1;33m)\u001b[0m\u001b[1;33m\u001b[0m\u001b[1;33m\u001b[0m\u001b[0m\n\u001b[0;32m     17\u001b[0m         \u001b[0mn\u001b[0m \u001b[1;33m=\u001b[0m \u001b[0mint\u001b[0m\u001b[1;33m(\u001b[0m\u001b[0minput\u001b[0m\u001b[1;33m(\u001b[0m\u001b[1;34m'Enter the numbers: '\u001b[0m\u001b[1;33m)\u001b[0m\u001b[1;33m)\u001b[0m\u001b[1;33m\u001b[0m\u001b[1;33m\u001b[0m\u001b[0m\n\u001b[1;32m---> 18\u001b[1;33m     \u001b[0mprint\u001b[0m\u001b[1;33m(\u001b[0m\u001b[0misSorted\u001b[0m\u001b[1;33m(\u001b[0m\u001b[0ml\u001b[0m\u001b[1;33m)\u001b[0m\u001b[1;33m)\u001b[0m\u001b[1;33m\u001b[0m\u001b[1;33m\u001b[0m\u001b[0m\n\u001b[0m\u001b[0;32m     19\u001b[0m \u001b[1;33m\u001b[0m\u001b[0m\n\u001b[0;32m     20\u001b[0m \u001b[0mmain\u001b[0m\u001b[1;33m(\u001b[0m\u001b[1;33m)\u001b[0m\u001b[1;33m\u001b[0m\u001b[1;33m\u001b[0m\u001b[0m\n",
      "\u001b[1;32m<ipython-input-49-0b9195448a1e>\u001b[0m in \u001b[0;36misSorted\u001b[1;34m(l)\u001b[0m\n\u001b[0;32m      3\u001b[0m     \u001b[0mld\u001b[0m \u001b[1;33m=\u001b[0m \u001b[0ml\u001b[0m\u001b[1;33m.\u001b[0m\u001b[0msort\u001b[0m\u001b[1;33m(\u001b[0m\u001b[0mreverse\u001b[0m\u001b[1;33m=\u001b[0m\u001b[1;32mTrue\u001b[0m\u001b[1;33m)\u001b[0m\u001b[1;33m\u001b[0m\u001b[1;33m\u001b[0m\u001b[0m\n\u001b[0;32m      4\u001b[0m     \u001b[1;32mfor\u001b[0m \u001b[0mi\u001b[0m \u001b[1;32min\u001b[0m \u001b[0mrange\u001b[0m\u001b[1;33m(\u001b[0m\u001b[1;36m0\u001b[0m\u001b[1;33m,\u001b[0m\u001b[0mlen\u001b[0m\u001b[1;33m(\u001b[0m\u001b[0ml\u001b[0m\u001b[1;33m)\u001b[0m\u001b[1;33m)\u001b[0m\u001b[1;33m:\u001b[0m\u001b[1;33m\u001b[0m\u001b[1;33m\u001b[0m\u001b[0m\n\u001b[1;32m----> 5\u001b[1;33m         \u001b[1;32mif\u001b[0m \u001b[0mls\u001b[0m\u001b[1;33m[\u001b[0m\u001b[0mi\u001b[0m\u001b[1;33m]\u001b[0m\u001b[1;33m==\u001b[0m\u001b[0ml\u001b[0m\u001b[1;33m[\u001b[0m\u001b[0mi\u001b[0m\u001b[1;33m]\u001b[0m \u001b[1;32mor\u001b[0m \u001b[0mld\u001b[0m\u001b[1;33m[\u001b[0m\u001b[0mi\u001b[0m\u001b[1;33m]\u001b[0m \u001b[1;33m==\u001b[0m \u001b[0ml\u001b[0m\u001b[1;33m[\u001b[0m\u001b[0mi\u001b[0m\u001b[1;33m]\u001b[0m\u001b[1;33m:\u001b[0m\u001b[1;33m\u001b[0m\u001b[1;33m\u001b[0m\u001b[0m\n\u001b[0m\u001b[0;32m      6\u001b[0m             \u001b[1;32mreturn\u001b[0m \u001b[1;32mTrue\u001b[0m\u001b[1;33m\u001b[0m\u001b[1;33m\u001b[0m\u001b[0m\n\u001b[0;32m      7\u001b[0m         \u001b[1;32melse\u001b[0m\u001b[1;33m:\u001b[0m\u001b[1;33m\u001b[0m\u001b[1;33m\u001b[0m\u001b[0m\n",
      "\u001b[1;31mTypeError\u001b[0m: 'NoneType' object is not subscriptable"
     ]
    }
   ],
   "source": [
    "def isSorted(l):\n",
    "    ls = l.sort()\n",
    "    ld = l.sort(reverse=True)\n",
    "    for i in range(0,len(l)):\n",
    "        if ls[i]==l[i] or ld[i] == l[i]:\n",
    "            return True\n",
    "        else:\n",
    "            return False\n",
    "    \n",
    "def main():\n",
    "    \n",
    "    l = []\n",
    "    n = int(input('Enter the numbers: '))\n",
    "    while n != 0:\n",
    "        l.append(n)\n",
    "        n = int(input('Enter the numbers: '))\n",
    "    print(isSorted(l))\n",
    "    \n",
    "main()"
   ]
  },
  {
   "cell_type": "markdown",
   "metadata": {},
   "source": [
    "Python’s standard library includes a method named count that determines how\n",
    "many times a specific value occurs in a list. In this exercise, you will create a new\n",
    "function named countRange. It will determine and return the number of elements\n",
    "withinalistthataregreaterthanorequaltosomeminimumvalueandlessthansome\n",
    "maximum value. Your function will take three parameters: the list, the minimum\n",
    "value and the maximum value. It will return an integer result greater than or equal to\n",
    "0. Include a main program that demonstrates your function for several different lists,\n",
    "minimum values and maximum values. Ensure that your program works correctly\n",
    "for both lists of integers and lists of floating-point numbers."
   ]
  },
  {
   "cell_type": "code",
   "execution_count": 50,
   "metadata": {},
   "outputs": [
    {
     "name": "stdout",
     "output_type": "stream",
     "text": [
      "4\n",
      "7\n"
     ]
    }
   ],
   "source": [
    "def countRange(mi,ma,l):\n",
    "    n = 0\n",
    "    for i in range(0,len(l)):\n",
    "        if l[i] < ma and l[i] >= mi:\n",
    "            n = n+1\n",
    "        else:\n",
    "            continue\n",
    "    print(n)\n",
    "def main():\n",
    "    countRange(3,63,[2,4,6,99,67,54,0,32,78])\n",
    "    countRange(0,99,[-1,3,5,6,6,555,434,3,456,65,78])\n",
    "    \n",
    "main()"
   ]
  },
  {
   "cell_type": "markdown",
   "metadata": {},
   "source": [
    "Write a function that takes a string containing a mathematical expression as its\n",
    "onlyparameterandbreaksitintoalistoftokens.Eachtokenshouldbeaparenthesis,\n",
    "an operator, or a number. (For simplicity we will only work with integers in this\n",
    "problem). Return the list of tokens as the function’s only result.\n",
    "You may assume that the string passed to your function always contains a valid\n",
    "mathematicalexpressionconsistingofparentheses,operatorsandintegers.However,\n",
    "yourfunctionmusthandlevariableamountsofwhitespace(includingnowhitespace)\n",
    "between these elements. Include a main program that demonstrates your tokenizing\n",
    "functionbyreadinganexpressionfromtheuserandprintingthelistoftokens.Ensure\n",
    "thatthemainprogramwillnotrunwhenthefilecontainingyoursolutionisimported\n",
    "into another program."
   ]
  },
  {
   "cell_type": "code",
   "execution_count": 10,
   "metadata": {
    "scrolled": true
   },
   "outputs": [
    {
     "name": "stdout",
     "output_type": "stream",
     "text": [
      "Enter the string: (32+(-1))\n",
      "['32', '1', '+']\n"
     ]
    }
   ],
   "source": [
    "def tokenizing(s):\n",
    "    num = ''\n",
    "    lt=[]\n",
    "    s.replace(' ','')\n",
    "    i = 0\n",
    "    while i in range(0,len(s)):\n",
    "        if s[i] == '(' or s[i] == ')' or s[i] == '+' or s[i] == '-' or s[i] == '*' or s[i] == '/' or s[i] == '{' or s[i] == '}' or s[i] == '[' or s[i] == ']':\n",
    "            lt.append(s[i])\n",
    "            i = i + 1\n",
    "        elif s[i].isdigit():\n",
    "            while s[i].isdigit():\n",
    "                num = num + s[i]\n",
    "                i = i  + 1\n",
    "            lt.append(num)\n",
    "            num = ''\n",
    "        else:\n",
    "            i = i + 1\n",
    "            continue\n",
    "    return lt\n",
    "\n",
    "def infixToPostfix(lt):\n",
    "    operators = []\n",
    "    postfix = []\n",
    "    precedence = {'(':1,')':1,'u+':2,'u-':2,'*':3,'/':3,'+':4,'-':4}\n",
    "    \n",
    "    for t in lt:\n",
    "        if t.isdigit():\n",
    "            postfix.append(t)\n",
    "        if t == '+' or t == '-' or t == '*' or t == '/':\n",
    "            while len(operators) != 0 and operators[-1] != '(' and precedence[t] > precedence[operators[-1]]:\n",
    "                 postfix.append(operators.pop())\n",
    "            operators.append(t)\n",
    "        if t == '(':\n",
    "            operators.append(t)\n",
    "        if t == ')':\n",
    "            while operators[-1] != '(':\n",
    "                postfix.append(operators.pop())\n",
    "            operators.pop()\n",
    "            \n",
    "    while len(operators) != 0:\n",
    "        postfix.append(operators.pop())\n",
    "    return postfix\n",
    "\n",
    "def unary(lt):\n",
    "    l=[]\n",
    "    if lt[0] == '+' or lt[0] == '-':\n",
    "        lt[0] = 'u'+lt[0]\n",
    "    for i in range(1,len(lt)):\n",
    "        if lt[i] == '+' or lt[i] == '-':\n",
    "            if lt[i-1] == '+' or lt[i-1] == '-' or lt[i-1] == '*' or lt[i-1] == '/' or lt[i-1] == '(' or lt[i-1] == '{' or lt[i-1] == '[':\n",
    "                lt[i] = 'u'+lt[i]\n",
    "            else:\n",
    "                continue\n",
    "        else:\n",
    "            continue\n",
    "    return lt\n",
    "def main():\n",
    "    s = input('Enter the string: ')\n",
    "    lt = tokenizing(s)\n",
    "    lt = unary(lt)\n",
    "    print(infixToPostfix(lt))\n",
    "    \n",
    "    \n",
    "main()\n",
    "    "
   ]
  },
  {
   "cell_type": "markdown",
   "metadata": {},
   "source": []
  },
  {
   "cell_type": "markdown",
   "metadata": {},
   "source": [
    "Write a program that reads a mathematical expression in infix form from the user,\n",
    "converts it to postfix form, evaluates it, and displays its value."
   ]
  },
  {
   "cell_type": "code",
   "execution_count": 9,
   "metadata": {},
   "outputs": [
    {
     "name": "stdout",
     "output_type": "stream",
     "text": [
      "Enter the string: (32+(-1))\n",
      "33\n"
     ]
    }
   ],
   "source": [
    "def tokenizing(s):\n",
    "    num = ''\n",
    "    lt=[]\n",
    "    s.replace(' ','')\n",
    "    i = 0\n",
    "    while i in range(0,len(s)):\n",
    "        if s[i] == '(' or s[i] == ')' or s[i] == '+' or s[i] == '-' or s[i] == '*' or s[i] == '/' or s[i] == '{' or s[i] == '}' or s[i] == '[' or s[i] == ']':\n",
    "            lt.append(s[i])\n",
    "            i = i + 1\n",
    "        elif s[i].isdigit():\n",
    "            while s[i].isdigit():\n",
    "                num = num + s[i]\n",
    "                i = i  + 1\n",
    "            lt.append(num)\n",
    "            num = ''\n",
    "        else:\n",
    "            i = i + 1\n",
    "            continue\n",
    "    return lt\n",
    "\n",
    "def infixToPostfix(lt):\n",
    "    operators = []\n",
    "    postfix = []\n",
    "    precedence = {'(':1,')':1,'u+':2,'u-':2,'*':3,'/':3,'+':4,'-':4}\n",
    "    \n",
    "    for t in lt:\n",
    "        if t.isdigit():\n",
    "            postfix.append(t)\n",
    "        if t == '+' or t == '-' or t == '*' or t == '/':\n",
    "            while len(operators) != 0 and operators[-1] != '(' and precedence[t] > precedence[operators[-1]]:\n",
    "                 postfix.append(operators.pop())\n",
    "            operators.append(t)\n",
    "        if t == '(':\n",
    "            operators.append(t)\n",
    "        if t == ')':\n",
    "            while operators[-1] != '(':\n",
    "                postfix.append(operators.pop())\n",
    "            operators.pop()\n",
    "            \n",
    "    while len(operators) != 0:\n",
    "        postfix.append(operators.pop())\n",
    "    return postfix\n",
    "\n",
    "def unary(lt):\n",
    "    l=[]\n",
    "    if lt[0] == '+' or lt[0] == '-':\n",
    "        lt[0] = 'u'+lt[0]\n",
    "    for i in range(1,len(lt)):\n",
    "        if lt[i] == '+' or lt[i] == '-':\n",
    "            if lt[i-1] == '+' or lt[i-1] == '-' or lt[i-1] == '*' or lt[i-1] == '/' or lt[i-1] == '(' or lt[i-1] == '{' or lt[i-1] == '[':\n",
    "                lt[i] = 'u'+lt[i]\n",
    "            else:\n",
    "                continue\n",
    "        else:\n",
    "            continue\n",
    "    return lt\n",
    "\n",
    "def Postfix(postfix):\n",
    "    import operator\n",
    "    ops = { \"+\": operator.add, \"-\": operator.sub ,'*': operator.mul ,}\n",
    "    values = []\n",
    "    for t in postfix:\n",
    "        if t.isdigit():\n",
    "            values.append(int(t))\n",
    "        elif t == 'u-':\n",
    "            x = values.pop()\n",
    "            x = '-'+ x\n",
    "            values.append(int(x))\n",
    "        elif t == '+' or t == '-' or t == '*' or t == '/':\n",
    "            right = int(values.pop())\n",
    "            left = int(values.pop())\n",
    "            s = ops[t](left,right)\n",
    "            values.append(s)\n",
    "    return values[0]\n",
    "            \n",
    "    \n",
    "def main():\n",
    "    s = input('Enter the string: ')\n",
    "    lt = tokenizing(s)\n",
    "    lt = unary(lt)\n",
    "    postfix = infixToPostfix(lt)\n",
    "    print(Postfix(postfix))\n",
    "    \n",
    "    \n",
    "main()\n",
    "    "
   ]
  },
  {
   "cell_type": "markdown",
   "metadata": {},
   "source": [
    "In this exercise you will create a function, isSublist, that determines whether\n",
    "or not one list is a sublist of another. Your function should take two lists, larger\n",
    "andsmaller,asitsonlyparameters.ItshouldreturnTrueifandonlyifsmaller\n",
    "is a sublist of larger. Write a main program that demonstrates your function.\n"
   ]
  },
  {
   "cell_type": "code",
   "execution_count": 20,
   "metadata": {},
   "outputs": [
    {
     "name": "stdout",
     "output_type": "stream",
     "text": [
      "True\n",
      "False\n"
     ]
    }
   ],
   "source": [
    "def isSublist(lar,sma):\n",
    "    if sma == []:\n",
    "        return True\n",
    "    elif sma != [] and len(sma) <= len(lar):\n",
    "        if sma[0] in lar:\n",
    "            print(sma[0] in lar)\n",
    "            z = lar.index(sma[0])\n",
    "            if sma == lar[z:z+len(sma)]:\n",
    "                return True\n",
    "            else:\n",
    "                return False\n",
    "        else:\n",
    "            return False\n",
    "    else:\n",
    "        return 'error'\n",
    "\n",
    "def main():\n",
    "    \n",
    "    print(isSublist([1,2,3,2,4],[2,4]))\n",
    "    \n",
    "   \n",
    "    \n",
    "main()\n",
    "    "
   ]
  },
  {
   "cell_type": "code",
   "execution_count": 10,
   "metadata": {},
   "outputs": [
    {
     "data": {
      "text/plain": [
       "[3]"
      ]
     },
     "execution_count": 10,
     "metadata": {},
     "output_type": "execute_result"
    }
   ],
   "source": [
    "a = [1,2,3,4]\n",
    "a[2:3]"
   ]
  },
  {
   "cell_type": "markdown",
   "metadata": {},
   "source": [
    "Using the definition of a sublist from Exercise133, write a function that returns a\n",
    "list containing every possible sublist of a list. For example, the sublists of [1, 2,\n",
    "3] are [], [1], [2], [3], [1, 2], [2, 3] and [1, 2, 3]. Note that your\n",
    "function will always return a list containing at least the empty list because the empty\n",
    "list is a sublist of every list. Include a main program that demonstrate your function\n",
    "by displaying all of the sublists of several different lists."
   ]
  },
  {
   "cell_type": "code",
   "execution_count": 22,
   "metadata": {},
   "outputs": [
    {
     "name": "stdout",
     "output_type": "stream",
     "text": [
      "[[], [1], [1, 2], [1, 2, 3], [1, 2, 3, 4], [2], [2, 3], [2, 3, 4], [3], [3, 4], [4]]\n"
     ]
    }
   ],
   "source": [
    "def sublists(ls):\n",
    "    lst = []\n",
    "    lst.append([])\n",
    "    for i in range(0,len(ls)):\n",
    "        for j in range(0,len(ls)):\n",
    "            if ls[i:j+1] != []:\n",
    "                lst.append(ls[i:j+1])\n",
    "            else:\n",
    "                continue\n",
    "    \n",
    "    return lst\n",
    "\n",
    "def main():\n",
    "    print(sublists([1,2,3,4]))\n",
    "    \n",
    "main()\n",
    "                "
   ]
  },
  {
   "cell_type": "markdown",
   "metadata": {},
   "source": [
    "Create a Python program that uses this algorithm to display all of the prime\n",
    "numbers between 2 and a limit entered by the user. If you implement the algorithm\n",
    "correctly you should be able to display all of the prime numbers less than 1,000,000\n",
    "in a few seconds."
   ]
  },
  {
   "cell_type": "code",
   "execution_count": 47,
   "metadata": {},
   "outputs": [
    {
     "name": "stdout",
     "output_type": "stream",
     "text": [
      "Enter the limit: 10\n"
     ]
    },
    {
     "ename": "KeyboardInterrupt",
     "evalue": "",
     "output_type": "error",
     "traceback": [
      "\u001b[1;31m---------------------------------------------------------------------------\u001b[0m",
      "\u001b[1;31mKeyboardInterrupt\u001b[0m                         Traceback (most recent call last)",
      "\u001b[1;32m<ipython-input-47-5679f4346709>\u001b[0m in \u001b[0;36m<module>\u001b[1;34m\u001b[0m\n\u001b[0;32m     10\u001b[0m             \u001b[0mp\u001b[0m \u001b[1;33m=\u001b[0m \u001b[0mt\u001b[0m\u001b[1;33m\u001b[0m\u001b[1;33m\u001b[0m\u001b[0m\n\u001b[0;32m     11\u001b[0m         \u001b[1;32mfor\u001b[0m \u001b[0mi\u001b[0m \u001b[1;32min\u001b[0m \u001b[0mrange\u001b[0m\u001b[1;33m(\u001b[0m\u001b[1;36m1\u001b[0m\u001b[1;33m,\u001b[0m\u001b[0mlimit\u001b[0m\u001b[1;33m-\u001b[0m\u001b[1;36m2\u001b[0m\u001b[1;33m)\u001b[0m\u001b[1;33m:\u001b[0m\u001b[1;33m\u001b[0m\u001b[1;33m\u001b[0m\u001b[0m\n\u001b[1;32m---> 12\u001b[1;33m             \u001b[1;32mif\u001b[0m \u001b[0ms\u001b[0m\u001b[1;33m[\u001b[0m\u001b[0mi\u001b[0m\u001b[1;33m]\u001b[0m \u001b[1;33m%\u001b[0m \u001b[0mp\u001b[0m \u001b[1;33m==\u001b[0m \u001b[1;36m0\u001b[0m \u001b[1;32mand\u001b[0m \u001b[0ms\u001b[0m\u001b[1;33m[\u001b[0m\u001b[0mi\u001b[0m\u001b[1;33m]\u001b[0m \u001b[1;33m!=\u001b[0m \u001b[1;36m0\u001b[0m\u001b[1;33m:\u001b[0m\u001b[1;33m\u001b[0m\u001b[1;33m\u001b[0m\u001b[0m\n\u001b[0m\u001b[0;32m     13\u001b[0m \u001b[1;33m\u001b[0m\u001b[0m\n\u001b[0;32m     14\u001b[0m                 \u001b[0ms\u001b[0m\u001b[1;33m[\u001b[0m\u001b[0mi\u001b[0m\u001b[1;33m]\u001b[0m \u001b[1;33m=\u001b[0m \u001b[1;36m0\u001b[0m\u001b[1;33m\u001b[0m\u001b[1;33m\u001b[0m\u001b[0m\n",
      "\u001b[1;31mKeyboardInterrupt\u001b[0m: "
     ]
    }
   ],
   "source": [
    "import numpy as np\n",
    "limit = int(input('Enter the limit: '))\n",
    "s = list(range(2,limit))\n",
    "\n",
    "p = 2\n",
    "\n",
    "while p < limit:\n",
    "    for t in s:\n",
    "        if t != 0:\n",
    "            p = t\n",
    "        for i in range(1,limit-2):\n",
    "            if s[i] % p == 0 and s[i] != 0:\n",
    "\n",
    "                s[i] = 0\n",
    "    \n",
    "\n",
    "print(s)\n",
    "    \n",
    "    \n"
   ]
  },
  {
   "cell_type": "code",
   "execution_count": 34,
   "metadata": {},
   "outputs": [
    {
     "data": {
      "text/plain": [
       "[1, 3, 4]"
      ]
     },
     "execution_count": 34,
     "metadata": {},
     "output_type": "execute_result"
    }
   ],
   "source": [
    " s = [1,2,3,4]\n",
    "s.remove(2)\n",
    "s"
   ]
  },
  {
   "cell_type": "code",
   "execution_count": 46,
   "metadata": {},
   "outputs": [
    {
     "data": {
      "text/plain": [
       "[2,\n",
       " 3,\n",
       " 4,\n",
       " 5,\n",
       " 6,\n",
       " 7,\n",
       " 8,\n",
       " 9,\n",
       " 10,\n",
       " 11,\n",
       " 12,\n",
       " 13,\n",
       " 14,\n",
       " 15,\n",
       " 16,\n",
       " 17,\n",
       " 18,\n",
       " 19,\n",
       " 20,\n",
       " 21,\n",
       " 22,\n",
       " 23,\n",
       " 24,\n",
       " 25,\n",
       " 26,\n",
       " 27,\n",
       " 28,\n",
       " 29,\n",
       " 30,\n",
       " 31,\n",
       " 32,\n",
       " 33,\n",
       " 34,\n",
       " 35,\n",
       " 36,\n",
       " 37,\n",
       " 38,\n",
       " 39,\n",
       " 40,\n",
       " 41,\n",
       " 42,\n",
       " 43,\n",
       " 44,\n",
       " 45,\n",
       " 46,\n",
       " 47,\n",
       " 48,\n",
       " 49,\n",
       " 50,\n",
       " 51,\n",
       " 52,\n",
       " 53,\n",
       " 54,\n",
       " 55,\n",
       " 56,\n",
       " 57,\n",
       " 58,\n",
       " 59,\n",
       " 60,\n",
       " 61,\n",
       " 62,\n",
       " 63,\n",
       " 64,\n",
       " 65,\n",
       " 66,\n",
       " 67,\n",
       " 68,\n",
       " 69,\n",
       " 70,\n",
       " 71,\n",
       " 72,\n",
       " 73,\n",
       " 74,\n",
       " 75,\n",
       " 76,\n",
       " 77,\n",
       " 78,\n",
       " 79,\n",
       " 80,\n",
       " 81,\n",
       " 82,\n",
       " 83,\n",
       " 84,\n",
       " 85,\n",
       " 86,\n",
       " 87,\n",
       " 88,\n",
       " 89,\n",
       " 90,\n",
       " 91,\n",
       " 92,\n",
       " 93,\n",
       " 94,\n",
       " 95,\n",
       " 96,\n",
       " 97,\n",
       " 98,\n",
       " 99]"
      ]
     },
     "execution_count": 46,
     "metadata": {},
     "output_type": "execute_result"
    }
   ],
   "source": [
    "s = list(range(2,limit))\n",
    "s"
   ]
  },
  {
   "cell_type": "code",
   "execution_count": null,
   "metadata": {},
   "outputs": [],
   "source": []
  }
 ],
 "metadata": {
  "kernelspec": {
   "display_name": "Python 3",
   "language": "python",
   "name": "python3"
  },
  "language_info": {
   "codemirror_mode": {
    "name": "ipython",
    "version": 3
   },
   "file_extension": ".py",
   "mimetype": "text/x-python",
   "name": "python",
   "nbconvert_exporter": "python",
   "pygments_lexer": "ipython3",
   "version": "3.7.3"
  }
 },
 "nbformat": 4,
 "nbformat_minor": 2
}
