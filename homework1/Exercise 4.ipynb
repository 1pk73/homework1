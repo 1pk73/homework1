{
 "cells": [
  {
   "cell_type": "markdown",
   "metadata": {},
   "source": [
    "Write a function that takes the lengths of the two shorter sides of a right triangle as\n",
    "its parameters. Return the hypotenuse of the triangle, computed using Pythagorean\n",
    "theorem, as the function’s result. Include a main program that reads the lengths of\n",
    "the shorter sides of a right triangle from the user, uses your function to compute the\n",
    "length of the hypotenuse, and displays the result."
   ]
  },
  {
   "cell_type": "code",
   "execution_count": 3,
   "metadata": {},
   "outputs": [
    {
     "name": "stdout",
     "output_type": "stream",
     "text": [
      "Enter s13\n",
      "Enter s24\n",
      "5.0\n"
     ]
    }
   ],
   "source": [
    "import math\n",
    "def hypo(s1,s2):\n",
    "    return math.sqrt(s1**2 + s2**2)\n",
    "def main():\n",
    "    s1 = float(input('Enter s1'))\n",
    "    s2 = float(input('Enter s2'))\n",
    "    \n",
    "    print(hypo(s1,s2))\n",
    "\n",
    "main()"
   ]
  },
  {
   "cell_type": "markdown",
   "metadata": {},
   "source": [
    "In a particular jurisdiction, taxi fares consist of a base fare of $4.00, plus $0.25\n",
    "for every 140 meters travelled. Write a function that takes the distance travelled (in\n",
    "kilometers) as its only parameter and returns the total fare as its only result. Write a\n",
    "main program that demonstrates the function."
   ]
  },
  {
   "cell_type": "code",
   "execution_count": 4,
   "metadata": {},
   "outputs": [
    {
     "name": "stdout",
     "output_type": "stream",
     "text": [
      "Enter the fare per 140m: 0.25\n",
      "Enter the distance in kilometers2\n",
      "7.5\n"
     ]
    }
   ],
   "source": [
    "def fare(plus, distance):\n",
    "    return 4.00 + plus*(distance//.140)\n",
    "def main():\n",
    "    plus = float(input('Enter the fare per 140m: '))\n",
    "    distance = float(input('Enter the distance in kilometers'))\n",
    "    print(fare(plus,distance))\n",
    "\n",
    "main()\n",
    "    \n",
    "    "
   ]
  },
  {
   "cell_type": "markdown",
   "metadata": {},
   "source": [
    "An online retailer provides express shipping for many of its items at a rate of $10.95\n",
    "for the first item in an order, and $2.95 for each subsequent item in the same order.\n",
    "Write a function that takes the number of items in the order as its only parameter.\n",
    "Return the shipping charge for the order as the function’s result. Include a main\n",
    "program that reads the number of items purchased from the user and displays the\n",
    "shipping charge."
   ]
  },
  {
   "cell_type": "code",
   "execution_count": 7,
   "metadata": {},
   "outputs": [
    {
     "name": "stdout",
     "output_type": "stream",
     "text": [
      "Number of orders: 25\n",
      "The shipping cost is $ 81.75\n"
     ]
    }
   ],
   "source": [
    "def shipping(n):\n",
    "    return 10.95 + 2.95*(n-1)\n",
    "\n",
    "def main():\n",
    "    \n",
    "    n = int(input('Number of orders: '))\n",
    "    \n",
    "    if n == 1:\n",
    "        print('The shipping cost is $10.95')\n",
    "    elif n < 0:\n",
    "        print('Enter the valid input')\n",
    "    else:\n",
    "        print('The shipping cost is $','%.2f'%shipping(n))\n",
    "\n",
    "main()\n",
    "        "
   ]
  },
  {
   "cell_type": "markdown",
   "metadata": {},
   "source": [
    "Writeafunctionthattakesthreenumbersasparameters,andreturnsthemedianvalue\n",
    "ofthoseparametersasitsresult.Includeamainprogramthatreadsthreevaluesfrom\n",
    "the user and displays their median."
   ]
  },
  {
   "cell_type": "code",
   "execution_count": 12,
   "metadata": {},
   "outputs": [
    {
     "name": "stdout",
     "output_type": "stream",
     "text": [
      "how many value you want in a list: 3\n",
      "enter your choice number:7\n",
      "enter your choice number:4\n",
      "enter your choice number:3\n",
      "4\n"
     ]
    }
   ],
   "source": [
    "def median(s):\n",
    "    s.sort()\n",
    "    i = len(s)//2 \n",
    "    return s[i]\n",
    "def main():\n",
    "    s =[]\n",
    "    number = int(input(\"how many value you want in a list: \"))\n",
    "    for i in range(0,number): \n",
    "        numbers = int(input(\"enter your choice number:\"))\n",
    "        s. append(numbers)\n",
    "    print(median(s))\n",
    "main()"
   ]
  },
  {
   "cell_type": "markdown",
   "metadata": {},
   "source": [
    "Words like first, second and third are referred to as ordinal numbers. In this exercise,\n",
    "you will write a function that takes an integer as its only parameter and returns a\n",
    "string containing the appropriate English ordinal number as its only result. Your\n",
    "function must handle the integers between 1 and 12 (inclusive). It should return an\n",
    "empty string if the function is called with an argument outside of this range. Include\n",
    "a main program that demonstrates your function by displaying each integer from 1\n",
    "to 12 and its ordinal number. Your main program should only run when your file has\n",
    "not been imported into another program."
   ]
  },
  {
   "cell_type": "code",
   "execution_count": 1,
   "metadata": {},
   "outputs": [
    {
     "name": "stdout",
     "output_type": "stream",
     "text": [
      "Enter the number: 17\n",
      "please enter valid number\n"
     ]
    }
   ],
   "source": [
    "def ordinal(n):\n",
    "    L = ['first','Second','Third','Fourth','Fifth','Sixth','Seventh','Eighth','ninth','tenth','eleventh','twelveth']\n",
    "    return L[n-1]\n",
    "def main():\n",
    "    n = int(input('Enter the number: '))\n",
    "    if n < 1 or n > 12:\n",
    "        print('please enter valid number')\n",
    "        return\n",
    "    print('The ordinal equivalent is ',ordinal(n))\n",
    "\n",
    "if __name__ == \"__main__\":\n",
    "    main()"
   ]
  },
  {
   "cell_type": "code",
   "execution_count": 5,
   "metadata": {},
   "outputs": [
    {
     "name": "stdout",
     "output_type": "stream",
     "text": [
      "Enter the verse number: 7\n",
      "On the Seventh  day of Christmas\n",
      "my true love sent to me:\n"
     ]
    },
    {
     "ename": "NameError",
     "evalue": "name 'j' is not defined",
     "output_type": "error",
     "traceback": [
      "\u001b[1;31m---------------------------------------------------------------------------\u001b[0m",
      "\u001b[1;31mNameError\u001b[0m                                 Traceback (most recent call last)",
      "\u001b[1;32m<ipython-input-5-a2d384118291>\u001b[0m in \u001b[0;36m<module>\u001b[1;34m\u001b[0m\n\u001b[0;32m     13\u001b[0m \u001b[1;33m\u001b[0m\u001b[0m\n\u001b[0;32m     14\u001b[0m \u001b[1;33m\u001b[0m\u001b[0m\n\u001b[1;32m---> 15\u001b[1;33m \u001b[0mmain\u001b[0m\u001b[1;33m(\u001b[0m\u001b[1;33m)\u001b[0m\u001b[1;33m\u001b[0m\u001b[1;33m\u001b[0m\u001b[0m\n\u001b[0m",
      "\u001b[1;32m<ipython-input-5-a2d384118291>\u001b[0m in \u001b[0;36mmain\u001b[1;34m()\u001b[0m\n\u001b[0;32m     10\u001b[0m     \u001b[0mi\u001b[0m \u001b[1;33m=\u001b[0m  \u001b[0mint\u001b[0m\u001b[1;33m(\u001b[0m\u001b[0minput\u001b[0m\u001b[1;33m(\u001b[0m\u001b[1;34m'Enter the verse number: '\u001b[0m\u001b[1;33m)\u001b[0m\u001b[1;33m)\u001b[0m\u001b[1;33m\u001b[0m\u001b[1;33m\u001b[0m\u001b[0m\n\u001b[0;32m     11\u001b[0m     \u001b[0mprint\u001b[0m\u001b[1;33m(\u001b[0m\u001b[1;34m'On the'\u001b[0m \u001b[1;33m,\u001b[0m\u001b[0mL\u001b[0m\u001b[1;33m[\u001b[0m\u001b[0mi\u001b[0m \u001b[1;33m-\u001b[0m \u001b[1;36m1\u001b[0m\u001b[1;33m]\u001b[0m\u001b[1;33m,\u001b[0m\u001b[1;34m' day of Christmas\\nmy true love sent to me:'\u001b[0m\u001b[1;33m)\u001b[0m\u001b[1;33m\u001b[0m\u001b[1;33m\u001b[0m\u001b[0m\n\u001b[1;32m---> 12\u001b[1;33m     \u001b[0mprint\u001b[0m\u001b[1;33m(\u001b[0m\u001b[0mverse\u001b[0m\u001b[1;33m(\u001b[0m\u001b[0mj\u001b[0m\u001b[1;33m)\u001b[0m\u001b[1;33m)\u001b[0m\u001b[1;33m\u001b[0m\u001b[1;33m\u001b[0m\u001b[0m\n\u001b[0m\u001b[0;32m     13\u001b[0m \u001b[1;33m\u001b[0m\u001b[0m\n\u001b[0;32m     14\u001b[0m \u001b[1;33m\u001b[0m\u001b[0m\n",
      "\u001b[1;31mNameError\u001b[0m: name 'j' is not defined"
     ]
    }
   ],
   "source": [
    "L = ['first','Second','Third','Fourth','Fifth','Sixth','Seventh','Eighth','ninth','tenth','eleventh','twelveth']\n",
    "L2 = ['A partridge in a pear tree','Two turtle doves','Three French hens','Four calling birds',\n",
    "     'fivegold rings',' six geese a-laying','seven swans a-swimming',' eight maids a-milking',\n",
    "      'nine ladies dancing',' ten lords a-leaping','Eleven pipers piping',' twelve drummers drumming']\n",
    "def verse(i):\n",
    "     for j in range(1,i+1):\n",
    "        print(L2[0:i-1])\n",
    "\n",
    "def main():\n",
    "    i =  int(input('Enter the verse number: '))\n",
    "    print('On the' ,L[i - 1],' day of Christmas\\nmy true love sent to me:')\n",
    "    print(verse(j))  \n",
    "    \n",
    "    \n",
    "main()"
   ]
  },
  {
   "cell_type": "markdown",
   "metadata": {},
   "source": []
  },
  {
   "cell_type": "markdown",
   "metadata": {},
   "source": [
    "Write a function named ordinalDate that takes three integers as parameters.\n",
    "These parameters will be a day, month and year respectively. The function should\n",
    "return the day within the year for that date as its only result. Create a main program\n",
    "thatreadsaday,monthandyearfromtheuseranddisplaysthedaywithintheyearfor\n",
    "that date. Your main program should only run when your file has not been imported\n",
    "into another program."
   ]
  },
  {
   "cell_type": "code",
   "execution_count": 10,
   "metadata": {},
   "outputs": [
    {
     "name": "stdout",
     "output_type": "stream",
     "text": [
      "Enter the day: 31\n",
      "Enter the month: 12\n",
      "Enter the year: 1998\n",
      "365  1998\n"
     ]
    }
   ],
   "source": [
    "def OrdinalDate(d,m,y):\n",
    "    day = d\n",
    "    m = m - 1\n",
    "    while m > 0:\n",
    "        if m == 1 or m == 3 or m == 5 or m == 7 or m == 8 or m == 10 or m == 12:\n",
    "            md = 31\n",
    "        elif m == 2:\n",
    "            md = 28\n",
    "        else:\n",
    "            md = 30\n",
    "        day = day + md\n",
    "        m = m-1\n",
    "    return day\n",
    "\n",
    "def main():\n",
    "    d,m,y = int(input('Enter the day: ')),int(input('Enter the month: ')),int(input('Enter the year: '))\n",
    "    print(OrdinalDate(d,m,y),'',y)\n",
    "\n",
    "if __name__ == '__main__':\n",
    "    main()\n",
    "    "
   ]
  },
  {
   "cell_type": "markdown",
   "metadata": {},
   "source": [
    "Create a function that takes an ordinal date, consisting of a year and a day within in\n",
    "that year, as its parameters. The function will return the day and month correspond-\n",
    "ing to that ordinal date as its results. Ensure that your function handles leap years\n",
    "correctly."
   ]
  },
  {
   "cell_type": "code",
   "execution_count": null,
   "metadata": {},
   "outputs": [],
   "source": [
    "def gorg(day,y):\n",
    "    \n",
    "        "
   ]
  },
  {
   "cell_type": "markdown",
   "metadata": {},
   "source": [
    "Write a function that takes a string, s, as its first parameter, and the width of the\n",
    "window in characters, w, as its second parameter. Your function will return a new\n",
    "string that includes whatever leading spaces are needed so that s will be centered in\n",
    "the window when the new string is printed."
   ]
  },
  {
   "cell_type": "code",
   "execution_count": 14,
   "metadata": {},
   "outputs": [
    {
     "name": "stdout",
     "output_type": "stream",
     "text": [
      "Enter the string: abra\n",
      "Enter the window length: 30\n",
      "             abra\n"
     ]
    }
   ],
   "source": [
    "def center(s,w):\n",
    "    if len(s) >= w:\n",
    "        return s\n",
    "    elif len(s) < w:\n",
    "        x = (w-len(s))//2\n",
    "        return x*' ' + s\n",
    "\n",
    "def main():\n",
    "    s = input('Enter the string: ')\n",
    "    w = int(input('Enter the window length: '))\n",
    "    print(center(s,w))\n",
    "    x = ''\n",
    "main()"
   ]
  },
  {
   "cell_type": "markdown",
   "metadata": {},
   "source": [
    "Write a function that determines whether or not three lengths can form a triangle.\n",
    "The function will take 3 parameters and return a Boolean result. If any of the lengths\n",
    "are less than or equal to 0 then your function should return False. Otherwise it\n",
    "should determine whether or not the lengths can be used to form a triangle using\n",
    "the method described in the previous paragraph, and return the appropriate result.\n",
    "In addition, write a program that reads 3 lengths from the user and demonstrates the\n",
    "behaviour of your function."
   ]
  },
  {
   "cell_type": "code",
   "execution_count": 17,
   "metadata": {},
   "outputs": [
    {
     "name": "stdout",
     "output_type": "stream",
     "text": [
      "Enter a: 0\n",
      "Enter b: 0\n",
      "Enter c: 0\n",
      "Enter valid lengths\n"
     ]
    }
   ],
   "source": [
    "def triangle(a,b,c):\n",
    "    if a < b + c and b < a + c and c < a + b:\n",
    "        return True\n",
    "    else:\n",
    "        return False\n",
    "\n",
    "def main():\n",
    "    a,b,c = float(input('Enter a: ')),float(input('Enter b: ')),float(input('Enter c: '))\n",
    "    if a <= 0 or b <= 0 or c <= 0:\n",
    "        print('Enter valid lengths')\n",
    "        return\n",
    "    elif triangle(a,b,c):\n",
    "        print('Triangle can be formed')\n",
    "    else:\n",
    "        print('Triangle cannot be formed')\n",
    "\n",
    "main()\n"
   ]
  },
  {
   "cell_type": "markdown",
   "metadata": {},
   "source": [
    "you will create a function\n",
    "that takes a string as its only parameter and returns a new copy of the string that has\n",
    "been correctly capitalized. In particular, your function must:\n",
    "• Capitalize the first non-space character in the string,\n",
    "• Capitalizethefirstnon-spacecharacterafteraperiod,exclamationmarkorquestion\n",
    "mark, and\n",
    "• Capitalize a lowercase “i” if it is preceded by a space and followed by a space,\n",
    "period, exclamation mark, question mark or apostrophe."
   ]
  },
  {
   "cell_type": "code",
   "execution_count": 8,
   "metadata": {},
   "outputs": [
    {
     "name": "stdout",
     "output_type": "stream",
     "text": [
      "Enter the string: what time do i have to be there? what’s the address? this time i’ll try to be on time!\n",
      "What time do I have to be there? What’s the address? This time I’ll try to be on time!\n"
     ]
    }
   ],
   "source": [
    "def capitalize(s):\n",
    "    s[0]=s[0].upper()\n",
    "    for i in range(1,len(s)-2):\n",
    "        \n",
    "        if s[i] == '.' or s[i] == '!' or s[i] == '?':\n",
    "            if s[i+1] == ' ':\n",
    "                s[i+2] = s[i+2].upper()\n",
    "                \n",
    "            else:\n",
    "                s[i+1] = s[i+1].upper()\n",
    "        if s[i] == 'i':\n",
    "            if s[i-1] == ' ' and (s[i+1] == ' ' or s[i+1] == '.' or s[i+1] == '!' or s[i+1] == '?' or s[i+1] == \"’\"):\n",
    "            \n",
    "                s[i] = s[i].upper()\n",
    "    return ''.join(s)\n",
    "def main():\n",
    "    s = input('Enter the string: ')\n",
    "    s = list(s)\n",
    "    print(capitalize(s))\n",
    "main()"
   ]
  },
  {
   "cell_type": "markdown",
   "metadata": {},
   "source": [
    "n this exercise you will write a function named isInteger that determines\n",
    "whether or not the characters in a string represent a valid integer. When deter-\n",
    "mining if a string represents an integer you should ignore any leading or trailing\n",
    "white space. Once this white space is ignored, a string represents an integer if its\n",
    "length is at least one and it only contains digits, or if its first character is either +\n",
    "or - and the first character is followed by one or more characters, all of which are\n",
    "digits.\n",
    "Write a main program that reads a string from the user and reports whether or\n",
    "not it represents an integer. Ensure that the main program will not run if the file\n",
    "containing your solution is imported into another program."
   ]
  },
  {
   "cell_type": "code",
   "execution_count": 13,
   "metadata": {},
   "outputs": [
    {
     "name": "stdout",
     "output_type": "stream",
     "text": [
      "Enter the string: +321\n",
      "Yes it is \n"
     ]
    }
   ],
   "source": [
    "def isInteger(s):\n",
    "    s = s.split(' ')\n",
    "    if s[0][0] == '+' or s[0][0] == '-':\n",
    "        if s[0][1:].isdigit():\n",
    "            return True\n",
    "        else:\n",
    "            return False\n",
    "    else:\n",
    "        for i in s:\n",
    "            if i.isdigit():\n",
    "                return True\n",
    "            else:\n",
    "                return False\n",
    "def main():\n",
    "    s = input('Enter the string: ')\n",
    "    if isInteger(s):\n",
    "        print('Yes it is ')\n",
    "    else:\n",
    "        print(\"no it isn't\")\n",
    "main()\n",
    "\n",
    "        \n",
    "            "
   ]
  },
  {
   "cell_type": "markdown",
   "metadata": {},
   "source": [
    "Writeafunctionnamedprecedencethatreturnsanintegerrepresentingtheprece-\n",
    "dence of a mathematical operator. A string containing the operator will be passed to\n",
    "the function as its only parameter. Your function should return 1 for + and -, 2 for *\n",
    "and /, and 3 for ˆ. If the string passed to the function is not one of these operators\n",
    "then the function should return -1. Include a main program that reads an operator\n",
    "from the user and either displays the operator’s precedence or an error message indi-\n",
    "cating that the input was not an operator. Your main program should only run when\n",
    "the file containing your solution has not been imported into another program."
   ]
  },
  {
   "cell_type": "code",
   "execution_count": 17,
   "metadata": {},
   "outputs": [
    {
     "name": "stdout",
     "output_type": "stream",
     "text": [
      "Enter the operator: hgsuai9fhiw\n",
      "Enter valid operator\n"
     ]
    }
   ],
   "source": [
    "def precedence(s):\n",
    "    if s == '+' or s == '-':\n",
    "        return 1\n",
    "    elif s == '*' or s == '/':\n",
    "        return 2\n",
    "    elif s == '^':\n",
    "        return 3\n",
    "    else:\n",
    "        return -1\n",
    "\n",
    "def main():\n",
    "    s =  input('Enter the operator: ')\n",
    "    if precedence(s) == -1:\n",
    "        print('Enter valid operator')\n",
    "    else:\n",
    "        print(precedence(s))\n",
    "\n",
    "main()"
   ]
  },
  {
   "cell_type": "markdown",
   "metadata": {},
   "source": [
    "A prime number is an integer greater than one that is only divisible by one and itself.\n",
    "Write a function that determines whether or not its parameter is prime, returning\n",
    "True if it is, and False otherwise. Write a main program that reads an integer\n",
    "from the user and displays a message indicating whether or not it is prime. Ensure\n",
    "that the main program will not run if the file containing your solution is imported\n",
    "into another program."
   ]
  },
  {
   "cell_type": "code",
   "execution_count": 25,
   "metadata": {},
   "outputs": [
    {
     "name": "stdout",
     "output_type": "stream",
     "text": [
      "Enter the number17\n",
      "It is a prime number\n"
     ]
    }
   ],
   "source": [
    "def isPrime(n):\n",
    "    for i in range(2,n//2):\n",
    "        if n % i == 0:\n",
    "            return False\n",
    "        else:\n",
    "            continue\n",
    "    return True\n",
    "def main():\n",
    "    n =  int(input('Enter the number'))\n",
    "    if isPrime(n):\n",
    "        print('It is a prime number')\n",
    "    else:\n",
    "        print('It is not a prime number')\n",
    "\n",
    "main()"
   ]
  },
  {
   "cell_type": "markdown",
   "metadata": {},
   "source": [
    "In this exercise you will create a function named nextPrime that finds and returns\n",
    "the first prime number larger than some integer, n. The value of n will be passed to\n",
    "the function as its only parameter. Include a main program that reads an integer from\n",
    "the user and displays the first prime number larger than the entered value"
   ]
  },
  {
   "cell_type": "code",
   "execution_count": 41,
   "metadata": {},
   "outputs": [
    {
     "name": "stdout",
     "output_type": "stream",
     "text": [
      "Enter the number: 29\n",
      "Next prime number is  31\n"
     ]
    }
   ],
   "source": [
    "def isPrime(n):\n",
    "    for i in range(2,n//2):\n",
    "        if n % i == 0:\n",
    "            return False\n",
    "        else:\n",
    "            continue\n",
    "    return True\n",
    "def nextPrime(n):\n",
    "    x = n + 1\n",
    "    while isPrime(x) == False:\n",
    "        x = x + 1\n",
    "    return x\n",
    "\n",
    "def main():\n",
    "    n  =  int(input('Enter the number: '))\n",
    "    \n",
    "    print('Next prime number is ',nextPrime(n))\n",
    "\n",
    "main()"
   ]
  },
  {
   "cell_type": "markdown",
   "metadata": {},
   "source": [
    "Write a function that generates a random password. The password should have a\n",
    "random length of between 7 and 10 characters. Each character should be randomly\n",
    "selected from positions 33 to 126 in the ASCII table. Your function will not take\n",
    "any parameters. It will return the randomly generated password as its only result.\n",
    "Display the randomly generated password in your file’s main program. Your main\n",
    "program should only run when your solution has not been imported into another file."
   ]
  },
  {
   "cell_type": "code",
   "execution_count": 22,
   "metadata": {},
   "outputs": [
    {
     "name": "stdout",
     "output_type": "stream",
     "text": [
      "M6~k&!qAvU\n"
     ]
    }
   ],
   "source": [
    "from random import randint\n",
    "def password():\n",
    "    n =  randint(8,10)\n",
    "    ls = []\n",
    "    for i in range(n+1):\n",
    "        m = randint(33,126)\n",
    "        ls.append(chr(m))\n",
    "    return ''.join(ls)\n",
    "\n",
    "def main():\n",
    "    print(password())\n",
    "\n",
    "main()\n",
    "        "
   ]
  },
  {
   "cell_type": "markdown",
   "metadata": {},
   "source": [
    "In a particular jurisdiction, older license plates consist of three letters followed by\n",
    "three digits. When all of the license plates following that pattern had been used, the\n",
    "format was changed to four digits followed by three letters.\n",
    "Write a function that generates a random license plate. Your function should have\n",
    "approximately equal odds of generating a sequence of characters for an old license\n",
    "plate or a new license plate. Write a main program that calls your function and\n",
    "displays the randomly generated license plate."
   ]
  },
  {
   "cell_type": "code",
   "execution_count": 14,
   "metadata": {},
   "outputs": [
    {
     "name": "stdout",
     "output_type": "stream",
     "text": [
      "Your license number is  7651KLV\n"
     ]
    }
   ],
   "source": [
    "\n",
    "def plates():\n",
    "    s = []\n",
    "    n = randint(1,10)\n",
    "    if n % 2 == 0:\n",
    "        for i in range(0,3):\n",
    "            s.append(chr(randint(65,90)))\n",
    "        for i in range(3,6):\n",
    "            s.append(str(randint(0,9)))\n",
    "        return s\n",
    "    else:\n",
    "        for i in range(0,4):\n",
    "            s.append(str(randint(0,9)))\n",
    "        for i in range(4,7):\n",
    "            s.append(chr(randint(65,90)))\n",
    "        return s\n",
    "\n",
    "def main():\n",
    "    print('Your license number is ',''.join(plates()))\n",
    "    \n",
    "main()"
   ]
  },
  {
   "cell_type": "markdown",
   "metadata": {},
   "source": [
    "In this exercise you will write a function that determines whether or not a password\n",
    "is good. We will define a good password to be a one that is at least 8 characters long\n",
    "and contains at least one uppercase letter, at least one lowercase letter, and at least\n",
    "one number. Your function should return True if the password passed to it as its\n",
    "only parameter is good. Otherwise it should return False. Include a main program\n",
    "that reads a password from the user and reports whether or not it is good. Ensure\n",
    "that your main program only runs when your solution has not been imported into\n",
    "another file."
   ]
  },
  {
   "cell_type": "code",
   "execution_count": 21,
   "metadata": {},
   "outputs": [
    {
     "name": "stdout",
     "output_type": "stream",
     "text": [
      "Enter the password: rmVivek@123\n",
      "Good Password\n"
     ]
    }
   ],
   "source": [
    "def isPassGood(s):\n",
    "    score = 0\n",
    "    if len(s) < 8:\n",
    "        return False\n",
    "    else:\n",
    "        for i in s:\n",
    "            if i.isupper():\n",
    "                score = 1\n",
    "        for i in s:\n",
    "            if i.islower() and score == 1:\n",
    "                score = 2\n",
    "        for i in s:\n",
    "            if i.isdigit() and score == 2:\n",
    "                score = 3\n",
    "        if score == 3:\n",
    "            return True\n",
    "        else:\n",
    "            return False\n",
    "    \n",
    "\n",
    "def main():\n",
    "    s = input('Enter the password: ')\n",
    "    if isPassGood(s):\n",
    "        print('Good Password')\n",
    "    else:\n",
    "        print('Bad Password')\n",
    "\n",
    "main()"
   ]
  },
  {
   "cell_type": "markdown",
   "metadata": {},
   "source": [
    "write a program that generates a\n",
    "random good password and displays it. Count and display the number of attempts\n",
    "that were needed before a good password was generated. Structure your solution so\n",
    "thatitimportsthefunctionsyouwrotepreviouslyandthencallsthemfromafunction\n",
    "named main in the file that you create for this exercise."
   ]
  },
  {
   "cell_type": "code",
   "execution_count": 42,
   "metadata": {},
   "outputs": [
    {
     "name": "stdout",
     "output_type": "stream",
     "text": [
      "JSc,x$i\\T\n",
      "No. of attempts:  2\n"
     ]
    }
   ],
   "source": [
    "def password():\n",
    "    n =  randint(8,10)\n",
    "    ls = []\n",
    "    for i in range(n+1):\n",
    "        m = randint(33,126)\n",
    "        ls.append(chr(m))\n",
    "    return ''.join(ls)\n",
    "\n",
    "def isPassGood(s):\n",
    "    score = 0\n",
    "    if len(s) < 8:\n",
    "        return False\n",
    "    else:\n",
    "        for i in s:\n",
    "            if i.isupper():\n",
    "                score = 1\n",
    "        for i in s:\n",
    "            if i.islower() and score == 1:\n",
    "                score = 2\n",
    "        for i in s:\n",
    "            if str(i).isdigit() and score == 2:\n",
    "                score = 3\n",
    "        if score == 3:\n",
    "            return True\n",
    "        else:\n",
    "            return False\n",
    "\n",
    "def main():\n",
    "    h = 1\n",
    "    while isPassGood(password()) == False:\n",
    "        password()\n",
    "        h = h + 1\n",
    "    print(password())\n",
    "    print('No. of attempts: ',h)\n",
    "\n",
    "main()"
   ]
  },
  {
   "cell_type": "markdown",
   "metadata": {},
   "source": [
    "Write two functions, hex2int and int2hex, that convert between hexadecimal\n",
    "digits (0, 1, 2, 3, 4, 5, 6, 7, 8, 9, A, B, C, D, E and F) and decimal (base 10) integers.\n",
    "The hex2int function is responsible for converting a string containing a single\n",
    "hexadecimal digit to a base 10 integer, while the int2hex function is responsible\n",
    "for converting an integer between 0 and 15 to a single hexadecimal digit. Each\n",
    "function will take the value to convert as its only parameter and return the converted\n",
    "value as its only result. Ensure that the hex2int function works correctly for both\n",
    "uppercase and lowercase letters. Your functions should display a meaningful error\n",
    "message and end the program if the parameter’s value is outside of the expected\n",
    "range."
   ]
  },
  {
   "cell_type": "code",
   "execution_count": null,
   "metadata": {},
   "outputs": [],
   "source": [
    "Dec = ['0', '1', '2', '3', '4', '5', '6', '7', '8', '9', 'A', 'B', 'C', 'D', 'E' , 'F']\n",
    "def Hex2int(s):\n",
    "    n = 1\n",
    "    for i in range(0,len(Dec)):\n",
    "        if s == Dec[i]:\n",
    "            return n\n",
    "        n = n + 1\n",
    "def int2hex(x):\n",
    "    for i in range(x+1):\n",
    "        \n",
    "        \n",
    "    "
   ]
  },
  {
   "cell_type": "markdown",
   "metadata": {},
   "source": [
    "Write a program that allows the user to convert a number from one base to another.\n",
    "Your program should support bases between 2 and 16 for both the input number and\n",
    "the result number. If the user chooses a base outside of this range then an appropriate\n",
    "errormessageshouldbedisplayedandtheprogramshouldexit.Divideyourprogram\n",
    "into several functions, including a function that converts from an arbitrary base to\n",
    "base 10, a function that converts from base 10 to an arbitrary base, and a main\n",
    "program that reads the bases and input number from the user."
   ]
  },
  {
   "cell_type": "code",
   "execution_count": 19,
   "metadata": {},
   "outputs": [
    {
     "name": "stdout",
     "output_type": "stream",
     "text": [
      "Enter the base of input: 9\n",
      "Enter base of the output: 7\n",
      "Enter the number56\n",
      "102\n"
     ]
    }
   ],
   "source": [
    "def base10(base, n):\n",
    "    s = 0\n",
    "    for i in range(0,len(n)):\n",
    "        s = s + int(n[-i-1])*(base**i)\n",
    "    return s\n",
    "def base(base2,n):\n",
    "    ls = []\n",
    "    n =  int(n)\n",
    "    while n > 0:\n",
    "        x = str(n % base2)\n",
    "        ls.append(x)\n",
    "        n = n//base2\n",
    "    ls.reverse()\n",
    "    return int(''.join(ls))\n",
    "\n",
    "\n",
    "def main():\n",
    "    base1 = int(input('Enter the base of input: '))\n",
    "    base2 = int(input('Enter base of the output: '))\n",
    "    n = input('Enter the number')\n",
    "    if base1 in range(2,10) or base2 in range(2,9):\n",
    "        num = base10(base1,n)\n",
    "        print(base(base2,num))\n",
    "    else:\n",
    "        print('Enter valid bases')\n",
    "\n",
    "main()\n",
    "        "
   ]
  },
  {
   "cell_type": "markdown",
   "metadata": {},
   "source": [
    "Writeafunctionthatdetermineshowmanydaysthereareinaparticularmonth.Your\n",
    "function will take two parameters: The month as an integer between 1 and 12, and\n",
    "the year as a four digit integer. Ensure that your function reports the correct number\n",
    "of days in February for leap years. Include a main program that reads a month and\n",
    "year from the user and displays the number of days in that month. You may find your\n",
    "solution to Exercise 58 helpful when solving this problem."
   ]
  },
  {
   "cell_type": "code",
   "execution_count": 23,
   "metadata": {},
   "outputs": [
    {
     "name": "stdout",
     "output_type": "stream",
     "text": [
      "Enter the month: 2\n",
      "Enter the year: 2004\n",
      "29\n"
     ]
    }
   ],
   "source": [
    "def daysInMonth(month,year):\n",
    "    if year % 400 == 0:\n",
    "        leap = True\n",
    "\n",
    "    elif year % 100 == 0:\n",
    "        leap = False\n",
    "    \n",
    "    elif year % 4 == 0:\n",
    "        leap = True\n",
    "\n",
    "    else:\n",
    "        leap = False\n",
    "    if month == 1 or month == 3 or month == 5 or month == 7 or month == 8 or month == 10 or month == 12:\n",
    "        return 31\n",
    "    elif month == 2 and leap == True:\n",
    "        return 29\n",
    "    elif month == 2 and leap == False:\n",
    "        return 28\n",
    "    else:\n",
    "        return 30\n",
    "\n",
    "def main():\n",
    "    month = int(input('Enter the month: '))\n",
    "    year = int(input('Enter the year: '))\n",
    "    if month in range(1,13):\n",
    "        print(daysInMonth(month,year))\n",
    "    else:\n",
    "        print('Enter valid month')\n",
    "        return\n",
    "main()"
   ]
  },
  {
   "cell_type": "markdown",
   "metadata": {},
   "source": [
    "Write a function that takes two positive integers that represent the numerator and\n",
    "denominator of a fraction as its only parameters. The body of the function should\n",
    "reduce the fraction to lowest terms and then return both the numerator and denom-\n",
    "inator of the reduced fraction as its result. For example, if the parameters passed\n",
    "to the function are 6 and 63 then the function should return 2 and 21. Include a\n",
    "main program that allows the user to enter a numerator and denominator. Then your\n",
    "program should display the reduced fraction."
   ]
  },
  {
   "cell_type": "code",
   "execution_count": 27,
   "metadata": {},
   "outputs": [
    {
     "name": "stdout",
     "output_type": "stream",
     "text": [
      "3\n",
      "15\n",
      "(1, 5)\n"
     ]
    }
   ],
   "source": [
    "def reduced(num,den):\n",
    "    for i in range(1,min(num,den) + 1):\n",
    "        if num % i == 0 and den % i == 0:\n",
    "            num = num / i\n",
    "            den = den / i\n",
    "    return int(num),int(den)\n",
    "\n",
    "def main():\n",
    "    num,den = int(input()),int(input())\n",
    "    print(reduced(num,den))\n",
    "    \n",
    "main()\n",
    "            "
   ]
  },
  {
   "cell_type": "markdown",
   "metadata": {},
   "source": [
    "Write a function that expresses an imperial volume using the largest units pos-\n",
    "sible. The function will take the number of units as its first parameter, and the unit\n",
    "of measure (cup, tablespoon or teaspoon) as its second parameter. It will return a\n",
    "string representing the measure using the largest possible units as its only result. For\n",
    "example, if the function is provided with parameters representing 59 teaspoons then\n",
    "it should return the string “1 cup, 3 tablespoons, 2 teaspoons”."
   ]
  },
  {
   "cell_type": "code",
   "execution_count": 32,
   "metadata": {},
   "outputs": [
    {
     "name": "stdout",
     "output_type": "stream",
     "text": [
      "Enter the quantity: 245\n",
      "Enter unitsteaspoons\n"
     ]
    },
    {
     "ename": "NameError",
     "evalue": "name 'cup' is not defined",
     "output_type": "error",
     "traceback": [
      "\u001b[1;31m---------------------------------------------------------------------------\u001b[0m",
      "\u001b[1;31mNameError\u001b[0m                                 Traceback (most recent call last)",
      "\u001b[1;32m<ipython-input-32-dbf9292b1f88>\u001b[0m in \u001b[0;36m<module>\u001b[1;34m\u001b[0m\n\u001b[0;32m     25\u001b[0m     \u001b[0mprint\u001b[0m\u001b[1;33m(\u001b[0m\u001b[0mcup\u001b[0m\u001b[1;33m,\u001b[0m\u001b[1;34m' cups '\u001b[0m\u001b[1;33m,\u001b[0m\u001b[0mtablespoons\u001b[0m\u001b[1;33m,\u001b[0m\u001b[1;34m' tablespoons '\u001b[0m\u001b[1;33m,\u001b[0m\u001b[0mteaspoons\u001b[0m\u001b[1;33m,\u001b[0m\u001b[1;34m' teaspoons '\u001b[0m\u001b[1;33m)\u001b[0m\u001b[1;33m\u001b[0m\u001b[1;33m\u001b[0m\u001b[0m\n\u001b[0;32m     26\u001b[0m \u001b[1;33m\u001b[0m\u001b[0m\n\u001b[1;32m---> 27\u001b[1;33m \u001b[0mmain\u001b[0m\u001b[1;33m(\u001b[0m\u001b[1;33m)\u001b[0m\u001b[1;33m\u001b[0m\u001b[1;33m\u001b[0m\u001b[0m\n\u001b[0m\u001b[0;32m     28\u001b[0m \u001b[1;33m\u001b[0m\u001b[0m\n",
      "\u001b[1;32m<ipython-input-32-dbf9292b1f88>\u001b[0m in \u001b[0;36mmain\u001b[1;34m()\u001b[0m\n\u001b[0;32m     23\u001b[0m     \u001b[0msan\u001b[0m \u001b[1;33m=\u001b[0m \u001b[0minput\u001b[0m\u001b[1;33m(\u001b[0m\u001b[1;34m'Enter units'\u001b[0m\u001b[1;33m)\u001b[0m\u001b[1;33m\u001b[0m\u001b[1;33m\u001b[0m\u001b[0m\n\u001b[0;32m     24\u001b[0m     \u001b[0mimperialVolume\u001b[0m\u001b[1;33m(\u001b[0m\u001b[0mn\u001b[0m\u001b[1;33m,\u001b[0m\u001b[0msan\u001b[0m\u001b[1;33m)\u001b[0m\u001b[1;33m\u001b[0m\u001b[1;33m\u001b[0m\u001b[0m\n\u001b[1;32m---> 25\u001b[1;33m     \u001b[0mprint\u001b[0m\u001b[1;33m(\u001b[0m\u001b[0mcup\u001b[0m\u001b[1;33m,\u001b[0m\u001b[1;34m' cups '\u001b[0m\u001b[1;33m,\u001b[0m\u001b[0mtablespoons\u001b[0m\u001b[1;33m,\u001b[0m\u001b[1;34m' tablespoons '\u001b[0m\u001b[1;33m,\u001b[0m\u001b[0mteaspoons\u001b[0m\u001b[1;33m,\u001b[0m\u001b[1;34m' teaspoons '\u001b[0m\u001b[1;33m)\u001b[0m\u001b[1;33m\u001b[0m\u001b[1;33m\u001b[0m\u001b[0m\n\u001b[0m\u001b[0;32m     26\u001b[0m \u001b[1;33m\u001b[0m\u001b[0m\n\u001b[0;32m     27\u001b[0m \u001b[0mmain\u001b[0m\u001b[1;33m(\u001b[0m\u001b[1;33m)\u001b[0m\u001b[1;33m\u001b[0m\u001b[1;33m\u001b[0m\u001b[0m\n",
      "\u001b[1;31mNameError\u001b[0m: name 'cup' is not defined"
     ]
    }
   ],
   "source": [
    "def imperialVolume(n,san):\n",
    "    cup = 0\n",
    "    tablespoons = 0\n",
    "    teaspoons = 0\n",
    "    if san == 'teaspoons':\n",
    "        cup = n // 48\n",
    "        n = n - 48*cup\n",
    "        tablespoons = n // 3\n",
    "        n = n - 3*tablespoons\n",
    "        teaspoons = n\n",
    "    elif san == 'tablespoons':\n",
    "        cup = n // 16\n",
    "        n = n - 16*cup\n",
    "        tablespoons = n\n",
    "    elif san == 'cup':\n",
    "        cup = n\n",
    "    return cup\n",
    "    return tablespoons\n",
    "    return teaspoons\n",
    "\n",
    "def main():\n",
    "    n = int(input('Enter the quantity: '))\n",
    "    san = input('Enter units')\n",
    "    imperialVolume(n,san)\n",
    "    print(cup,' cups ',tablespoons,' tablespoons ',teaspoons,' teaspoons ')\n",
    "    \n",
    "main()\n",
    "    "
   ]
  },
  {
   "cell_type": "code",
   "execution_count": null,
   "metadata": {},
   "outputs": [],
   "source": []
  }
 ],
 "metadata": {
  "kernelspec": {
   "display_name": "Python 3",
   "language": "python",
   "name": "python3"
  },
  "language_info": {
   "codemirror_mode": {
    "name": "ipython",
    "version": 3
   },
   "file_extension": ".py",
   "mimetype": "text/x-python",
   "name": "python",
   "nbconvert_exporter": "python",
   "pygments_lexer": "ipython3",
   "version": "3.7.3"
  }
 },
 "nbformat": 4,
 "nbformat_minor": 2
}
