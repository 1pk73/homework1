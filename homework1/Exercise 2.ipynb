{
 "cells": [
  {
   "cell_type": "markdown",
   "metadata": {},
   "source": [
    "Q1. Write a program that reads an integer from the user. Then your program should\n",
    "display a message indicating whether the integer is even or odd."
   ]
  },
  {
   "cell_type": "code",
   "execution_count": 1,
   "metadata": {},
   "outputs": [
    {
     "name": "stdout",
     "output_type": "stream",
     "text": [
      "Enter the integer: 35\n",
      "Integer is  odd\n"
     ]
    }
   ],
   "source": [
    "i = int(input('Enter the integer: '))\n",
    "if i % 2 == 0:\n",
    "    num = 'even'\n",
    "else:\n",
    "    num = 'odd'\n",
    "    \n",
    "print('Integer is ',num)"
   ]
  },
  {
   "cell_type": "markdown",
   "metadata": {},
   "source": [
    "Q2. It is commonly said that one human year is equivalent to 7 dog years. However this\n",
    "simple conversion fails to recognize that dogs reach adulthood in approximately two\n",
    "years. As a result, some people believe that it is better to count each of the first two\n",
    "human years as 10.5 dog years, and then count each additional human year as 4 dog\n",
    "years.\n",
    "Write a program that implements the conversion from human years to dog years\n",
    "described in the previous paragraph. Ensure that your program works correctly for\n",
    "conversions of less than two human years and for conversions of two or more human\n",
    "years. Your program should display an appropriate error message if the user enters\n",
    "a negative number."
   ]
  },
  {
   "cell_type": "code",
   "execution_count": 5,
   "metadata": {},
   "outputs": [
    {
     "name": "stdout",
     "output_type": "stream",
     "text": [
      "Enter number of years: -1\n",
      "Age cannot be negative: \n",
      "Dog years:  Error\n"
     ]
    }
   ],
   "source": [
    "h_year = int(input('Enter number of years: '))\n",
    "\n",
    "if h_year < 0:\n",
    "    print('Age cannot be negative: ')\n",
    "    year = 'Error'\n",
    "elif h_year < 2:\n",
    "    year = 7 * h_year\n",
    "else:\n",
    "    year = 10.5*2 + 4*(h_year-2)\n",
    "\n",
    "print('Dog years: ',year)"
   ]
  },
  {
   "cell_type": "markdown",
   "metadata": {},
   "source": [
    "Q3. In this exercise you will create a program that reads a letter of the alphabet from the\n",
    "user. If the user enters a, e, i, o or u then your program should display a message\n",
    "indicating that the entered letter is a vowel. If the user enters y then your program\n",
    "should display a message indicating that sometimes y is a vowel, and sometimes y is\n",
    "a consonant. Otherwise your program should display a message indicating that the\n",
    "letter is a consonant."
   ]
  },
  {
   "cell_type": "code",
   "execution_count": 17,
   "metadata": {},
   "outputs": [
    {
     "name": "stdout",
     "output_type": "stream",
     "text": [
      "Enter the letter: v\n",
      "letter is consonant\n"
     ]
    }
   ],
   "source": [
    "letter = input('Enter the letter: ')\n",
    "\n",
    "if letter == 'a'or letter == 'e' or letter == 'i' or letter == 'o' or letter == 'u':\n",
    "    print('Letter is vowel.')\n",
    "elif letter == 'y':\n",
    "    print('Sometimes y is vowel,and sometimes y is consonant')\n",
    "else:\n",
    "    print('letter is consonant')\n"
   ]
  },
  {
   "cell_type": "markdown",
   "metadata": {},
   "source": [
    "Q4. Write a program that determines the name of a shape from its number of sides. Read\n",
    "the number of sides from the user and then report the appropriate name as part of\n",
    "a meaningful message. Your program should support shapes with anywhere from 3\n",
    "up to (and including) 10 sides. If a number of sides outside of this range is entered\n",
    "then your program should display an appropriate error message."
   ]
  },
  {
   "cell_type": "code",
   "execution_count": 25,
   "metadata": {},
   "outputs": [
    {
     "name": "stdout",
     "output_type": "stream",
     "text": [
      "Enter number of sides: 98\n",
      "please enter valid number\n",
      "The Figure is a  Out of bound\n"
     ]
    }
   ],
   "source": [
    "n = int(input('Enter number of sides: '))\n",
    "fig = ''\n",
    "if n < 3 or n > 10:\n",
    "    print('please enter valid number')\n",
    "    fig = 'Out of bound'\n",
    "elif n == 3:\n",
    "    fig = 'Triangle'\n",
    "elif n == 4:\n",
    "    fig = 'Quadilateral'\n",
    "elif n == 5:\n",
    "    fig = 'pentagon'\n",
    "elif n == 6:\n",
    "    fig = 'Hexagon'\n",
    "elif n == 7:\n",
    "    fig = 'Heptagon'\n",
    "elif n == 8:\n",
    "    fig = 'Octagon'\n",
    "elif n == 9:\n",
    "    fig = 'Nonagon'\n",
    "elif n == 10:\n",
    "    fig = 'Decagon'\n",
    "print('The Figure is a ',fig)"
   ]
  },
  {
   "cell_type": "markdown",
   "metadata": {},
   "source": [
    "Q5. The length of a month varies from 28 to 31 days. In this exercise you will create\n",
    "a program that reads the name of a month from the user as a string. Then your\n",
    "program should display the number of days in that month. Display “28 or 29 days”\n",
    "for February so that leap years are addressed.\n"
   ]
  },
  {
   "cell_type": "code",
   "execution_count": 31,
   "metadata": {},
   "outputs": [
    {
     "name": "stdout",
     "output_type": "stream",
     "text": [
      "Enter the name of the month: January\n",
      "31\n"
     ]
    }
   ],
   "source": [
    "month = input('Enter the name of the month: ')\n",
    "days = ''\n",
    "if month == 'January' or month == 'March' or month == 'May' or month == 'July' or month == 'August' or month == 'September' or month == 'November':\n",
    "    days = '31'\n",
    "elif month == 'February':\n",
    "    days = '28 or 29'\n",
    "elif month == 'April' or month == 'June' or month == 'October' or month == 'December':\n",
    "    days = '30'\n",
    "else:\n",
    "    print('Not a valid month name')\n",
    "print(days)"
   ]
  },
  {
   "cell_type": "markdown",
   "metadata": {},
   "source": [
    "Q6. Write a program that reads a sound level in decibels from the user. If the user\n",
    "enters a decibel level that matches one of the noises in the table then your program\n",
    "should display a message containing only that noise. If the user enters a number\n",
    "of decibels between the noises listed then your program should display a message\n",
    "indicating which noises the value is between. Ensure that your program also generates\n",
    "reasonable output for a value smaller than the quietest noise in the table, and for a\n",
    "value larger than the loudest noise in the table."
   ]
  },
  {
   "cell_type": "code",
   "execution_count": 35,
   "metadata": {},
   "outputs": [
    {
     "name": "stdout",
     "output_type": "stream",
     "text": [
      "Enter the sound level in decibels45\n",
      "Quiet room or alarm clock\n"
     ]
    }
   ],
   "source": [
    "noise = float(input('Enter the sound level in decibels'))\n",
    "\n",
    "if noise < 40:\n",
    "    x = 'Sound is very low'\n",
    "elif noise == 40:\n",
    "    x = 'Quiet room'\n",
    "elif noise < 70 and noise > 40 :\n",
    "    x = 'Quiet room or alarm clock'\n",
    "elif noise == 70:\n",
    "    x = 'Alarm clock'\n",
    "elif noise < 106 and noise > 70:\n",
    "    x = 'alarm clock or Gas lawnmower'\n",
    "elif noise == 106:\n",
    "    x = 'Gas lawnmower'\n",
    "elif noise < 130 and noise > 106:\n",
    "    x = 'Gas lawnmower or Jackhammer'\n",
    "elif noise == 130:\n",
    "    x = 'Jackhammer'\n",
    "elif noise > 130:\n",
    "    x = ' Very loud noise'\n",
    "print(x)"
   ]
  },
  {
   "cell_type": "markdown",
   "metadata": {},
   "source": [
    "Q7. A triangle can be classified based on the lengths of its sides as equilateral, isosceles or\n",
    "scalene. All three sides of an equilateral triangle have the same length. An isosceles\n",
    "triangle has two sides that are the same length, and a third side that is a different\n",
    "length. If all of the sides have different lengths then the triangle is scalene.\n",
    "Write a program that reads the lengths of the three sides of a triangle from the\n",
    "user. Then display a message that states the triangle’s type."
   ]
  },
  {
   "cell_type": "code",
   "execution_count": 40,
   "metadata": {},
   "outputs": [
    {
     "name": "stdout",
     "output_type": "stream",
     "text": [
      "Enter a: 2\n",
      "Enter b: 3\n",
      "Enter c: 4\n",
      "The triangle is  Scalene\n"
     ]
    }
   ],
   "source": [
    "a,b,c = float(input('Enter a: ')),float(input('Enter b: ')),float(input('Enter c: '))\n",
    "triangle = ''\n",
    "if a == b == c:\n",
    "    triangle = 'Equilateral'\n",
    "elif a == b != c or a ==c != b or b == c != a:\n",
    "    triangle = 'Isoceles '\n",
    "else:\n",
    "    triangle = 'Scalene'\n",
    "print('The triangle is ',triangle)"
   ]
  },
  {
   "cell_type": "markdown",
   "metadata": {},
   "source": [
    "Q8. Begin by writing a program that reads the name of a note from the user and\n",
    "displays the note’s frequency. Your program should support all of the notes listed\n",
    "previously.\n",
    "Once you have your program working correctly for the notes listed previously\n",
    "you should add support for all of the notes from C0 to C8. While this could be\n",
    "done by adding many additional cases to your if statement, such a solution is\n",
    "cumbersome, inelegant and unacceptable for the purposes of this exercise. Instead,\n",
    "you should exploit the relationship between notes in adjacent octaves. In partic-\n",
    "ular, the frequency of any note in octave n is half the frequency of the corre-\n",
    "sponding note in octave n + 1. By using this relationship, you should be able to\n",
    "add support for the additional notes without adding additional cases to your if\n",
    "statement."
   ]
  },
  {
   "cell_type": "code",
   "execution_count": 44,
   "metadata": {},
   "outputs": [
    {
     "name": "stdout",
     "output_type": "stream",
     "text": [
      "enter the note:C3\n",
      "Frequency:  130.815\n"
     ]
    }
   ],
   "source": [
    "note = input('enter the note:')\n",
    "Freq = 0\n",
    "x = int(note[1])\n",
    "if note[0] == 'C': \n",
    "    Freq = 261.63/2**(4-x)\n",
    "elif note[0] == 'D':\n",
    "    Freq = 293.66/2**(4-x)\n",
    "elif note[0] == 'E':\n",
    "    Freq = 329.63/2**(4-x)\n",
    "elif note[0] == 'F':\n",
    "    Freq = 349.23/2**(4-x)\n",
    "elif note[0] == 'G':\n",
    "    Freq = 392.00/2**(4-x)\n",
    "elif note[0] == 'A':\n",
    "    Freq = 440.00/2**(4-x)\n",
    "elif note[0] == 'B':\n",
    "    Freq = 493.88/2**(4-x)\n",
    "print('Frequency: ',Freq)"
   ]
  },
  {
   "cell_type": "markdown",
   "metadata": {},
   "source": [
    "Q9. In the previous question you converted from a note’s name to its frequency. In this\n",
    "question you will write a program that reverses that process. Begin by reading a\n",
    "frequency from the user. If the frequency is within one Hertz of a value listed in\n",
    "the table in the previous question then report the name of the corresponding note.\n",
    "Otherwise report that the frequency does not correspond to a known note. In this\n",
    "exercise you only need to consider the notes listed in the table. There is no need to\n",
    "consider notes from other octaves."
   ]
  },
  {
   "cell_type": "code",
   "execution_count": 47,
   "metadata": {},
   "outputs": [
    {
     "name": "stdout",
     "output_type": "stream",
     "text": [
      "Enter the Frequency: 261\n",
      "C4\n"
     ]
    }
   ],
   "source": [
    "Freq = float(input('Enter the Frequency: '))\n",
    "\n",
    "note = ''\n",
    "fre = [261.63,293.66,329.63,349.23,392.00,440.00,493.88]\n",
    "\n",
    "\n",
    "if abs(fre[0]-Freq) <= 1:\n",
    "    note = 'C4'\n",
    "elif abs(fre[1]-Freq) <= 1:\n",
    "    note = 'D4'\n",
    "elif abs(fre[2]-Freq) <= 1:\n",
    "    note = 'E4'\n",
    "elif abs(fre[3]-Freq) <= 1:\n",
    "    note = 'F4'\n",
    "elif abs(fre[4]-Freq) <= 1:\n",
    "    note = 'G4'\n",
    "elif abs(fre[5]-Freq) <= 1:\n",
    "    note = 'A4'\n",
    "elif abs(fre[6]-Freq) <= 1:\n",
    "    note = 'B4'\n",
    "else:\n",
    "    note = 'Not in range'\n",
    "    \n",
    "print(note)    "
   ]
  },
  {
   "cell_type": "markdown",
   "metadata": {},
   "source": [
    "Q10. Write a program that begins by reading the denomination of a banknote from the\n",
    "user. Then your program should display the name of the individual that appears on the\n",
    "banknote of the entered amount. An appropriate error message should be displayed\n",
    "if no such note exists."
   ]
  },
  {
   "cell_type": "code",
   "execution_count": 48,
   "metadata": {},
   "outputs": [
    {
     "name": "stdout",
     "output_type": "stream",
     "text": [
      "Enter the Note domination: $5\n",
      "Abraham Lincoln\n"
     ]
    }
   ],
   "source": [
    "note = input('Enter the Note domination: ')\n",
    "face = ''\n",
    "faces = ['George Washington','Thomas Jefferson','Abraham Lincoln','Alexander Hamilton','Andrew Jackson','Ulysses S. Grant','Benjamin Franklin']\n",
    "\n",
    "if note == '$1':\n",
    "    face = faces[0]\n",
    "elif note == '$2':\n",
    "    face = faces[1]\n",
    "elif note == '$5':\n",
    "    face = faces[2]\n",
    "elif note == '$10':\n",
    "    face = faces[3]\n",
    "elif note == '$20':\n",
    "    face = faces[4]\n",
    "elif note == '$50':\n",
    "    face = faces[5]\n",
    "elif note == '$100':\n",
    "    face = faces[6]\n",
    "else:\n",
    "    face = 'No such Denomination exists'\n",
    "    \n",
    "print(face)\n"
   ]
  },
  {
   "cell_type": "markdown",
   "metadata": {},
   "source": [
    "Q11. Write a program that reads a month and day from the user. If the month and day\n",
    "match one of the holidays listed previously then your program should display the\n",
    "holiday’s name. Otherwise your program should indicate that the entered month and\n",
    "day do not correspond to a fixed-date holiday."
   ]
  },
  {
   "cell_type": "code",
   "execution_count": 51,
   "metadata": {},
   "outputs": [
    {
     "name": "stdout",
     "output_type": "stream",
     "text": [
      "Enter the month: July\n",
      "Enter the date:1\n",
      "Canada Day\n"
     ]
    }
   ],
   "source": [
    "month = input('Enter the month: ')\n",
    "day = int(input('Enter the date:'))\n",
    "\n",
    "holiday = ''\n",
    "\n",
    "if day < 1 or day > 31:\n",
    "    print('No valid date')\n",
    "elif month == 'January':\n",
    "    if day == 1:\n",
    "        holiday = \"New year's Day\"\n",
    "    else:\n",
    "        holiday = 'No holiday'\n",
    "\n",
    "elif month == 'July':\n",
    "    if day == 1:\n",
    "        holiday = \"Canada Day\"\n",
    "    else:\n",
    "        holiday = 'No holiday'\n",
    "    \n",
    "elif month == 'December':\n",
    "    if day == 25:\n",
    "        holiday = \"Christmas Day\"\n",
    "    else:\n",
    "        holiday = 'No holiday'\n",
    "else:\n",
    "    holiday = 'no holiday'\n",
    "\n",
    "print(holiday)"
   ]
  },
  {
   "cell_type": "markdown",
   "metadata": {},
   "source": [
    "Q12. Write a program that reads a position from the user. Use an if statement to\n",
    "determine if the column begins with a black square or a white square. Then use\n",
    "modular arithmetic to report the color of the square in that row. For example, if the\n",
    "user enters a1 then your program should report that the square is black. If the user\n",
    "enters d5 then your program should report that the square is white. Your program\n",
    "may assume that a valid position will always be entered. It does not need to perform\n",
    "any error checking."
   ]
  },
  {
   "cell_type": "code",
   "execution_count": 59,
   "metadata": {},
   "outputs": [
    {
     "name": "stdout",
     "output_type": "stream",
     "text": [
      "Enter the position: g5\n",
      "black\n"
     ]
    }
   ],
   "source": [
    "p = input('Enter the position: ')\n",
    "\n",
    "col = ['a','b','c','d','e','f','g','h']\n",
    "row = ['1','2','3','4','5','6','7','8']\n",
    "\n",
    "if p[0] == 'a' or p[0] == 'c' or p[0] == 'e' or p[0] == 'g':\n",
    "    if int(p[1]) % 2 == 0:\n",
    "        box = 'white'\n",
    "    else:\n",
    "        box = 'black'\n",
    "if p[0] == 'b' or p[0] == 'd' or p[0] == 'f' or p[0] == 'h':\n",
    "    if int(p[1]) % 2 == 0:\n",
    "        box = 'black'\n",
    "    else:\n",
    "        box = 'white'\n",
    "\n",
    "print(box)"
   ]
  },
  {
   "cell_type": "markdown",
   "metadata": {},
   "source": [
    "Q13. Create a program that reads a month and day from the user. The user will\n",
    "enter the name of the month as a string, followed by the day within the month as an\n",
    "integer. Then your program should display the season associated with the date that\n",
    "was entered."
   ]
  },
  {
   "cell_type": "code",
   "execution_count": null,
   "metadata": {},
   "outputs": [],
   "source": []
  },
  {
   "cell_type": "code",
   "execution_count": 61,
   "metadata": {},
   "outputs": [
    {
     "name": "stdout",
     "output_type": "stream",
     "text": [
      "Enter the month: January\n",
      "Enter the date: 23\n",
      "winter\n"
     ]
    }
   ],
   "source": [
    "month = input('Enter the month: ')\n",
    "day = int(input('Enter the date: '))\n",
    "\n",
    "months = ['January','February','March','April','May','June','July','August','September','October','November','December','May']\n",
    "if day < 0 or day > 31:\n",
    "    season = 'Invalid date'\n",
    "elif month == months[0] or month == months[1]:\n",
    "    season = 'winter'\n",
    "elif month == months[2]:\n",
    "    if day < 20:\n",
    "        season = 'winter'\n",
    "    else:\n",
    "        season = 'Spring'\n",
    "elif month == months[3] or month == months[4]:\n",
    "    season = 'Spring'\n",
    "elif month == months[5]:\n",
    "    if day < 21:\n",
    "        season = 'Spring'\n",
    "    else:\n",
    "        season = 'Summer'\n",
    "elif month == months[6] or month == months[7]:\n",
    "    season = 'Summer'\n",
    "elif month == months[8]:\n",
    "    if day < 22:\n",
    "        season = 'Summer'\n",
    "    else:\n",
    "        season = 'Fall'\n",
    "elif month ==months[9] or month == months[10]:\n",
    "    season = 'Fall'\n",
    "elif month == months[11]:\n",
    "    if day <21:\n",
    "        season = 'Fall'\n",
    "    else:\n",
    "        season = 'winter'\n",
    "\n",
    "print(season)"
   ]
  },
  {
   "cell_type": "markdown",
   "metadata": {},
   "source": [
    "Q14. Write a program that asks the user to enter his or her month and day of birth. Then\n",
    "your program should report the user’s zodiac sign as part of an appropriate output\n",
    "message."
   ]
  },
  {
   "cell_type": "code",
   "execution_count": 1,
   "metadata": {},
   "outputs": [
    {
     "name": "stdout",
     "output_type": "stream",
     "text": [
      "Enter the month: January\n",
      "Enter the date: 23\n",
      "Aquarius\n"
     ]
    }
   ],
   "source": [
    "month = input('Enter the month: ')\n",
    "day = int(input('Enter the date: '))\n",
    "\n",
    "months = ['January','February','March','April','May','June','July','August','September','October','November','December','May']\n",
    "if day < 0 or day > 31:\n",
    "    sign = 'Invalid date'\n",
    "elif month == months[0]:\n",
    "    if day < 20:\n",
    "        sign = 'capricorn'\n",
    "    else:\n",
    "        sign = 'Aquarius'\n",
    "elif month == months[1]:\n",
    "    if day < 19:\n",
    "        sign = 'Aquarius'\n",
    "    else:\n",
    "        sign = 'Pisces'\n",
    "elif month == months[2]:\n",
    "    if day < 21:\n",
    "        sign = 'Pisces'\n",
    "    else:\n",
    "        sign = 'Aries'\n",
    "elif month == months[3]:\n",
    "    if day < 20:\n",
    "        sign = 'Aries'\n",
    "    else:\n",
    "        sign = 'Taraus'\n",
    "elif month == months[4]:\n",
    "    if day < 21:\n",
    "        sign = 'Taraus'\n",
    "    else:\n",
    "        sign = 'Gemini'\n",
    "elif month == months[5]:\n",
    "    if day < 21:\n",
    "        sign = 'Gemini'\n",
    "    else:\n",
    "        sign = 'Cancer'\n",
    "elif month == months[6]:\n",
    "    if day < 23:\n",
    "        sign = 'Cancer'\n",
    "    else:\n",
    "        sign = 'Leo'\n",
    "elif month == months[7]:\n",
    "    if day < 23:\n",
    "        sign = 'Leo'\n",
    "    else:\n",
    "        sign = 'Virgo'\n",
    "        \n",
    "elif month == months[8]:\n",
    "    if day < 23:\n",
    "        sign = 'Virgo'\n",
    "    else:\n",
    "        sign = 'Libra'\n",
    "        \n",
    "elif month == months[9]:\n",
    "    if day < 23:\n",
    "        sign = 'Libra'\n",
    "    else:\n",
    "        sign = 'Scorpio'\n",
    "elif month == months[10]:\n",
    "    if day < 22:\n",
    "        sign = 'Scorpio'\n",
    "    else:\n",
    "        sign = 'Sagitarius'\n",
    "elif month == months[11]:\n",
    "    if day < 22:\n",
    "        sign = 'Sagitarius'\n",
    "    else:\n",
    "        sign = 'capricorn'\n",
    "\n",
    "print(sign)"
   ]
  },
  {
   "cell_type": "markdown",
   "metadata": {},
   "source": [
    "Q15. Write a program that reads a year from the user and displays the animal associated\n",
    "with that year. Your program should work correctly for any year greater than or equal\n",
    "to zero, not just the ones listed in the table."
   ]
  },
  {
   "cell_type": "code",
   "execution_count": 2,
   "metadata": {},
   "outputs": [
    {
     "name": "stdout",
     "output_type": "stream",
     "text": [
      "Enter the year: 1995\n",
      "Pig\n"
     ]
    }
   ],
   "source": [
    "year = int(input('Enter the year: '))\n",
    "\n",
    "anis = ['Dragon','Snake','Horse','Sheep','Monkey','Rooster','Dog','Pig','Rat','Ox','Tiger','Hare']\n",
    "    \n",
    "if year < 0:\n",
    "    ani = 'invalid year'\n",
    "elif year % 12 == 8:\n",
    "    ani = anis[0]\n",
    "elif year % 12 == 9:\n",
    "    ani = anis[1]\n",
    "elif year % 12 == 10:\n",
    "    ani = anis[2]\n",
    "elif year % 12 == 11:\n",
    "    ani = anis[3]\n",
    "elif year % 12 == 0:\n",
    "    ani = anis[4]\n",
    "elif year % 12 == 1:\n",
    "    ani = anis[5]\n",
    "elif year % 12 == 2:\n",
    "    ani = anis[6]\n",
    "elif year % 12 == 3:\n",
    "    ani = anis[7]\n",
    "elif year % 12 == 4:\n",
    "    ani = anis[8]\n",
    "elif year % 12 == 5:\n",
    "    ani = anis[9]\n",
    "elif year % 12 == 6:\n",
    "    ani = anis[10]\n",
    "elif year % 12 == 7:\n",
    "    ani = anis[11]\n",
    "    \n",
    "print(ani)\n",
    "\n",
    "    "
   ]
  },
  {
   "cell_type": "markdown",
   "metadata": {},
   "source": [
    "Q16. Write a program that reads a magnitude from the user and displays the appropriate\n",
    "descriptor as part of a meaningful message. For example, if the user enters 5.5 then\n",
    "your program should indicate that a magnitude 5.5 earthquake is considered to be a\n",
    "moderate earthquake."
   ]
  },
  {
   "cell_type": "code",
   "execution_count": 3,
   "metadata": {},
   "outputs": [
    {
     "name": "stdout",
     "output_type": "stream",
     "text": [
      "Enter the magnitude: 5.5\n",
      "moderate\n"
     ]
    }
   ],
   "source": [
    "mag = float(input('Enter the magnitude: '))\n",
    "\n",
    "if mag < 2.0:\n",
    "    deg = 'Micro'\n",
    "elif mag < 3 and mag >= 2:\n",
    "    deg = 'Very minor'\n",
    "elif mag < 4 and mag >= 3:\n",
    "    deg = 'minor'\n",
    "elif mag < 5 and mag >= 4:\n",
    "    deg = 'light'\n",
    "elif mag < 6 and mag >= 5:\n",
    "    deg = 'moderate'\n",
    "elif mag < 7 and mag >= 6:\n",
    "    deg = 'strong'\n",
    "elif mag < 8 and mag >= 7:\n",
    "    deg = 'major'\n",
    "elif mag < 10 and mag >= 8:\n",
    "    deg = 'Great'\n",
    "elif mag >= 10:\n",
    "    deg = 'Meteoric'\n",
    "print(deg)"
   ]
  },
  {
   "cell_type": "markdown",
   "metadata": {},
   "source": [
    "Q17. Write a program that computes the real roots of a quadratic function. Your pro-\n",
    "gram should begin by prompting the user for the values of a, b and c. Then it should\n",
    "display a message indicating the number of real roots, along with the values of the\n",
    "real roots (if any)."
   ]
  },
  {
   "cell_type": "code",
   "execution_count": 6,
   "metadata": {},
   "outputs": [
    {
     "name": "stdout",
     "output_type": "stream",
     "text": [
      "a1\n",
      "b-1\n",
      "c-6\n",
      "The two roots are  3.0 and -2.0\n"
     ]
    }
   ],
   "source": [
    "import math\n",
    "a,b,c = int(input('a')),int(input('b')),int(input('c'))\n",
    "\n",
    "\n",
    "D = b*b-4*a*c\n",
    "\n",
    "if D < 0:\n",
    "    print('Roots are not real')\n",
    "elif D >= 0:\n",
    "    print('The two roots are ',(-b+math.sqrt(D))/2*a,'and',(-b-math.sqrt(D))/2*a)"
   ]
  },
  {
   "cell_type": "markdown",
   "metadata": {},
   "source": [
    "Q18. Write a program that reads a rating from the user and indicates whether the per-\n",
    "formance for that rating is unacceptable, acceptable or meritorious. The amount\n",
    "of the employee’s raise should also be reported. Your program should display an\n",
    "appropriate error message if an invalid rating is entered."
   ]
  },
  {
   "cell_type": "code",
   "execution_count": 10,
   "metadata": {},
   "outputs": [
    {
     "name": "stdout",
     "output_type": "stream",
     "text": [
      "Enter the rating.4\n",
      "Raise: $ 960.0\n",
      "Performance:  Acceptable\n"
     ]
    }
   ],
   "source": [
    "r = float(input('Enter the rating'))\n",
    "perf = ''\n",
    "if r == 0:\n",
    "    perf = 'Unacceptable'\n",
    "    print('Raise: $',2400*r)\n",
    "elif r == 0.4:\n",
    "    perf = 'Acceptable'\n",
    "    print('Raise: $',2400*r)\n",
    "elif r >= 0.6:\n",
    "    perf = 'Meritorious'\n",
    "    print('Raise: $',2400*r)\n",
    "else:\n",
    "    perf = 'Invalid rating'\n",
    "print('Performance: ',perf)\n"
   ]
  },
  {
   "cell_type": "markdown",
   "metadata": {},
   "source": [
    "Q19. A particular cell phone plan includes 50 minutes of air time and 50 text messages\n",
    "for $15.00 a month. Each additional minute of air time costs $0.25, while additional\n",
    "text messages cost $0.15 each. All cell phone bills include an additional charge of\n",
    "$0.44 to support 911 call centers, and the entire bill (including the 911 charge) is\n",
    "subject to 5 percent sales tax.\n",
    "Write a program that reads the number of minutes and text messages used in a\n",
    "month from the user. Display the base charge, additional minutes charge (if any), \n",
    "additional text message charge (if any), the 911 fee, tax and total bill amount. Only\n",
    "display the additional minute and text message charges if the user incurred costs in\n",
    "these categories. Ensure that all of the charges are displayed using 2 decimal places."
   ]
  },
  {
   "cell_type": "code",
   "execution_count": 11,
   "metadata": {},
   "outputs": [
    {
     "name": "stdout",
     "output_type": "stream",
     "text": [
      "Minutes on call: 56\n",
      "Text-messages sent: 45\n",
      "Additional minutes charge:  1.5\n",
      "17.79\n"
     ]
    }
   ],
   "source": [
    "minutes = float(input('Minutes on call: '))\n",
    "text = int(input('Text-messages sent: '))\n",
    "ad_min = 0\n",
    "ad_mess = 0\n",
    "Base_charge = 15.00\n",
    "if minutes > 50:\n",
    "    ad_min = (minutes -50)*.25\n",
    "    print('Additional minutes charge: ',ad_min)\n",
    "elif text > 50:\n",
    "    ad_mess = (text - 50)*.25\n",
    "    print('Additional Text messages charge:',ad_mess)\n",
    "\n",
    "fee = .44\n",
    "bill = fee + ad_min + ad_mess + Base_charge\n",
    "\n",
    "Total_bill = \"%.2f\" %(bill*1.05)\n",
    "\n",
    "print(Total_bill)"
   ]
  },
  {
   "cell_type": "markdown",
   "metadata": {},
   "source": [
    "Q20. Most years have 365 days. However, the time required for the Earth to orbit the Sun\n",
    "is actually slightly more than that. As a result, an extra day, February 29, is included\n",
    "in some years to correct for this difference. Such years are referred to as leap years.\n",
    "The rules for determining whether or not a year is a leap year follow:\n",
    "• Any year that is divisible by 400 is a leap year.\n",
    "• Of the remaining years, any year that is divisible by 100 is not a leap year.\n",
    "• Of the remaining years, any year that is divisible by 4 is a leap year.\n",
    "• All other years are not leap years.\n",
    "Write a program that reads a year from the user and displays a message indicating\n",
    "whether or not it is a leap year."
   ]
  },
  {
   "cell_type": "code",
   "execution_count": 15,
   "metadata": {},
   "outputs": [
    {
     "name": "stdout",
     "output_type": "stream",
     "text": [
      "Enter the year: 2002\n",
      "Year is not a leap year\n"
     ]
    }
   ],
   "source": [
    "year = int(input('Enter the year: '))\n",
    "\n",
    "if year % 400 == 0:\n",
    "    print('The year is a leap year')\n",
    "\n",
    "elif year % 100 == 0:\n",
    "    print('Year is not a leap year')\n",
    "    \n",
    "elif year % 4 == 0:\n",
    "    print('Year is a leap Year')\n",
    "\n",
    "else:\n",
    "    print('Year is not a leap year')\n",
    "    \n",
    "    \n",
    "    "
   ]
  },
  {
   "cell_type": "markdown",
   "metadata": {},
   "source": [
    "Q21. Write a program that reads a date from the user and computes its immediate successor.\n",
    "For example, if the user enters values that represent 2019-11-18 then your program\n",
    "should display a message indicating that the day immediately after 2019-11-18 is\n",
    "2019-11-19. If the user enters values that represent 2019-11-30 then the program\n",
    "should indicate that the next day is 2019-12-01. If the user enters values that represent\n",
    "2019-12-31 then the program should indicate that the next day is 2020-01-01. The\n",
    "date will be entered in numeric form with three separate input statements; one for\n",
    "the year, one for the month, and one for the day. Ensure that your program works\n",
    "correctly for leap years."
   ]
  },
  {
   "cell_type": "code",
   "execution_count": 2,
   "metadata": {},
   "outputs": [
    {
     "name": "stdout",
     "output_type": "stream",
     "text": [
      "Enter day: 29\n",
      "Enter Month: 2\n",
      "Enter year: 1996\n",
      "The successor is  1996 - 03 - 01\n"
     ]
    }
   ],
   "source": [
    "day,month,year = int(input('Enter day: ')),int(input('Enter Month: ')),int(input('Enter year: '))\n",
    "\n",
    "if year % 400 == 0:\n",
    "    if month == 1 or month == 3 or month == 5 or month == 7 or month == 8 or month == 10 or month == 12:\n",
    "        if day == 31:\n",
    "            month = month + 1\n",
    "            day = 1\n",
    "        else:\n",
    "            day = day + 1\n",
    "    elif month == 2:\n",
    "        if day == 29:\n",
    "            day = 1\n",
    "            month = month + 1\n",
    "        else:\n",
    "            day = day + 1\n",
    "    else:\n",
    "        if day == 30:\n",
    "            month = month + 1\n",
    "            day = 1\n",
    "        else:\n",
    "            day = day + 1\n",
    "elif year % 100 == 0:\n",
    "    if month == 1 or month == 3 or month == 5 or month == 7 or month == 8 or month == 10 or month == 12:\n",
    "        if day == 31:\n",
    "            month = month + 1\n",
    "            day = 1\n",
    "        else:\n",
    "            day = day + 1\n",
    "    elif month == 2:\n",
    "        if day == 28:\n",
    "            day = 1\n",
    "            month = month + 1\n",
    "        else:\n",
    "            day = day + 1\n",
    "    else:\n",
    "        if day == 30:\n",
    "            month = month + 1\n",
    "            day = 1\n",
    "        else:\n",
    "            day = day + 1\n",
    "    \n",
    "elif year % 4 == 0:\n",
    "    if month == 1 or month == 3 or month == 5 or month == 7 or month == 8 or month == 10 or month == 12:\n",
    "        if day == 31:\n",
    "            month = month + 1\n",
    "            day = 1\n",
    "        else:\n",
    "            day = day + 1\n",
    "    elif month == 2:\n",
    "        if day == 29:\n",
    "            day = 1\n",
    "            month = month + 1\n",
    "        else:\n",
    "            day = day + 1\n",
    "    else:\n",
    "        if day == 30:\n",
    "            month = month + 1\n",
    "            day = 1\n",
    "        else:\n",
    "            day = day + 1\n",
    "\n",
    "else:\n",
    "    if month == 1 or month == 3 or month == 5 or month == 7 or month == 8 or month == 10 or month == 12:\n",
    "        if day == 31:\n",
    "            month = month + 1\n",
    "            day = 1\n",
    "        else:\n",
    "            day = day + 1\n",
    "    elif month == 2:\n",
    "        if day == 28:\n",
    "            day = 1\n",
    "            month = month + 1\n",
    "        else:\n",
    "            day = day + 1\n",
    "    else:\n",
    "        if day == 30:\n",
    "            month = month + 1\n",
    "            day = 1\n",
    "        else:\n",
    "            day = day + 1\n",
    "\n",
    "print('The successor is ',year,'-','%.2d'%month,'-','%.2d'%day)"
   ]
  },
  {
   "cell_type": "markdown",
   "metadata": {},
   "source": [
    "Q22. Use the formula above to write a program that reads a year from the user and\n",
    "reports the day of the week for January 1 of that year. The output from your program\n",
    "should include the full name of the day of the week, not just the integer returned by\n",
    "the formula."
   ]
  },
  {
   "cell_type": "code",
   "execution_count": 6,
   "metadata": {},
   "outputs": [
    {
     "name": "stdout",
     "output_type": "stream",
     "text": [
      "Enter the year: 2019\n",
      "Tuesday\n"
     ]
    }
   ],
   "source": [
    "year = int(input('Enter the year: '))\n",
    "\n",
    "day_of_the_week = (year + ((year - 1) // 4) - ((year - 1) // 100) + ((year - 1) // 400)) % 7\n",
    "\n",
    "days = ['Sunday','Monday','Tuesday','Wednesday','Thursday','Friday','Saturday']\n",
    "\n",
    "print(days[day_of_the_week])"
   ]
  },
  {
   "cell_type": "markdown",
   "metadata": {},
   "source": [
    "Q23: In a particular jurisdiction, older license plates consist of three uppercase letters\n",
    "followed by three digits. When all of the license plates following that pattern had\n",
    "been used, the format was changed to four digits followed by three uppercase letters.\n",
    "Write a program that begins by reading a string of characters from the user. Then\n",
    "your program should display a message indicating whether the characters are valid\n",
    "for an older style license plate or a newer style license plate. Your program should\n",
    "display an appropriate message if the string entered by the user is not valid for either\n",
    "style of license plate."
   ]
  },
  {
   "cell_type": "code",
   "execution_count": null,
   "metadata": {},
   "outputs": [],
   "source": [
    "l = input('Enter the liscence number: ')\n",
    "\n",
    "l[0:3]"
   ]
  },
  {
   "cell_type": "code",
   "execution_count": null,
   "metadata": {},
   "outputs": [],
   "source": []
  }
 ],
 "metadata": {
  "kernelspec": {
   "display_name": "Python 3",
   "language": "python",
   "name": "python3"
  },
  "language_info": {
   "codemirror_mode": {
    "name": "ipython",
    "version": 3
   },
   "file_extension": ".py",
   "mimetype": "text/x-python",
   "name": "python",
   "nbconvert_exporter": "python",
   "pygments_lexer": "ipython3",
   "version": "3.7.3"
  }
 },
 "nbformat": 4,
 "nbformat_minor": 2
}
