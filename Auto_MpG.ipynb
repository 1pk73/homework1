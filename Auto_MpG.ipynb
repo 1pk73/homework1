{
  "nbformat": 4,
  "nbformat_minor": 0,
  "metadata": {
    "colab": {
      "name": "Auto MpG.ipynb",
      "version": "0.3.2",
      "provenance": [],
      "collapsed_sections": [],
      "include_colab_link": true
    },
    "kernelspec": {
      "name": "python3",
      "display_name": "Python 3"
    },
    "accelerator": "GPU"
  },
  "cells": [
    {
      "cell_type": "markdown",
      "metadata": {
        "id": "view-in-github",
        "colab_type": "text"
      },
      "source": [
        "<a href=\"https://colab.research.google.com/github/1pk73/homework1/blob/master/Auto_MpG.ipynb\" target=\"_parent\"><img src=\"https://colab.research.google.com/assets/colab-badge.svg\" alt=\"Open In Colab\"/></a>"
      ]
    },
    {
      "cell_type": "code",
      "metadata": {
        "id": "SynRo1GAqJ8m",
        "colab_type": "code",
        "colab": {}
      },
      "source": [
        "import numpy as np\n",
        "import pandas as pd\n",
        "import tensorflow as tf\n",
        "from tensorflow.keras import layers\n",
        "import seaborn as sns\n",
        "from sklearn.model_selection import train_test_split"
      ],
      "execution_count": 0,
      "outputs": []
    },
    {
      "cell_type": "code",
      "metadata": {
        "id": "E5u_Xnifqi8E",
        "colab_type": "code",
        "colab": {}
      },
      "source": [
        "url = 'http://archive.ics.uci.edu/ml/machine-learning-databases/auto-mpg/auto-mpg.data'\n",
        "\n"
      ],
      "execution_count": 0,
      "outputs": []
    },
    {
      "cell_type": "code",
      "metadata": {
        "id": "Tl8xNqy4qzNC",
        "colab_type": "code",
        "colab": {}
      },
      "source": [
        "column_names = ['MPG','Cylinders','Displacement','Horsepower','Weight',\n",
        "                'Acceleration', 'Model Year', 'Origin']"
      ],
      "execution_count": 0,
      "outputs": []
    },
    {
      "cell_type": "code",
      "metadata": {
        "id": "hwUL0vRzq29a",
        "colab_type": "code",
        "colab": {}
      },
      "source": [
        "data = pd.read_csv(url,names=column_names,sep=' ',comment='\\t',skipinitialspace=True,na_values='?')"
      ],
      "execution_count": 0,
      "outputs": []
    },
    {
      "cell_type": "code",
      "metadata": {
        "id": "G87kS9DfsXka",
        "colab_type": "code",
        "outputId": "b41dc98d-1cd1-4297-a73d-7e5c290ab650",
        "colab": {
          "base_uri": "https://localhost:8080/",
          "height": 197
        }
      },
      "source": [
        "data.head()"
      ],
      "execution_count": 0,
      "outputs": [
        {
          "output_type": "execute_result",
          "data": {
            "text/html": [
              "<div>\n",
              "<style scoped>\n",
              "    .dataframe tbody tr th:only-of-type {\n",
              "        vertical-align: middle;\n",
              "    }\n",
              "\n",
              "    .dataframe tbody tr th {\n",
              "        vertical-align: top;\n",
              "    }\n",
              "\n",
              "    .dataframe thead th {\n",
              "        text-align: right;\n",
              "    }\n",
              "</style>\n",
              "<table border=\"1\" class=\"dataframe\">\n",
              "  <thead>\n",
              "    <tr style=\"text-align: right;\">\n",
              "      <th></th>\n",
              "      <th>MPG</th>\n",
              "      <th>Cylinders</th>\n",
              "      <th>Displacement</th>\n",
              "      <th>Horsepower</th>\n",
              "      <th>Weight</th>\n",
              "      <th>Acceleration</th>\n",
              "      <th>Model Year</th>\n",
              "      <th>Origin</th>\n",
              "    </tr>\n",
              "  </thead>\n",
              "  <tbody>\n",
              "    <tr>\n",
              "      <th>0</th>\n",
              "      <td>18.0</td>\n",
              "      <td>8</td>\n",
              "      <td>307.0</td>\n",
              "      <td>130.0</td>\n",
              "      <td>3504.0</td>\n",
              "      <td>12.0</td>\n",
              "      <td>70</td>\n",
              "      <td>1</td>\n",
              "    </tr>\n",
              "    <tr>\n",
              "      <th>1</th>\n",
              "      <td>15.0</td>\n",
              "      <td>8</td>\n",
              "      <td>350.0</td>\n",
              "      <td>165.0</td>\n",
              "      <td>3693.0</td>\n",
              "      <td>11.5</td>\n",
              "      <td>70</td>\n",
              "      <td>1</td>\n",
              "    </tr>\n",
              "    <tr>\n",
              "      <th>2</th>\n",
              "      <td>18.0</td>\n",
              "      <td>8</td>\n",
              "      <td>318.0</td>\n",
              "      <td>150.0</td>\n",
              "      <td>3436.0</td>\n",
              "      <td>11.0</td>\n",
              "      <td>70</td>\n",
              "      <td>1</td>\n",
              "    </tr>\n",
              "    <tr>\n",
              "      <th>3</th>\n",
              "      <td>16.0</td>\n",
              "      <td>8</td>\n",
              "      <td>304.0</td>\n",
              "      <td>150.0</td>\n",
              "      <td>3433.0</td>\n",
              "      <td>12.0</td>\n",
              "      <td>70</td>\n",
              "      <td>1</td>\n",
              "    </tr>\n",
              "    <tr>\n",
              "      <th>4</th>\n",
              "      <td>17.0</td>\n",
              "      <td>8</td>\n",
              "      <td>302.0</td>\n",
              "      <td>140.0</td>\n",
              "      <td>3449.0</td>\n",
              "      <td>10.5</td>\n",
              "      <td>70</td>\n",
              "      <td>1</td>\n",
              "    </tr>\n",
              "  </tbody>\n",
              "</table>\n",
              "</div>"
            ],
            "text/plain": [
              "    MPG  Cylinders  Displacement  ...  Acceleration  Model Year  Origin\n",
              "0  18.0          8         307.0  ...          12.0          70       1\n",
              "1  15.0          8         350.0  ...          11.5          70       1\n",
              "2  18.0          8         318.0  ...          11.0          70       1\n",
              "3  16.0          8         304.0  ...          12.0          70       1\n",
              "4  17.0          8         302.0  ...          10.5          70       1\n",
              "\n",
              "[5 rows x 8 columns]"
            ]
          },
          "metadata": {
            "tags": []
          },
          "execution_count": 91
        }
      ]
    },
    {
      "cell_type": "code",
      "metadata": {
        "id": "BqZcqLV6saZq",
        "colab_type": "code",
        "outputId": "86087e09-940c-4f4a-82d4-89221cf77abb",
        "colab": {
          "base_uri": "https://localhost:8080/",
          "height": 176
        }
      },
      "source": [
        "data.isna().sum(axis=0)"
      ],
      "execution_count": 0,
      "outputs": [
        {
          "output_type": "execute_result",
          "data": {
            "text/plain": [
              "MPG             0\n",
              "Cylinders       0\n",
              "Displacement    0\n",
              "Horsepower      6\n",
              "Weight          0\n",
              "Acceleration    0\n",
              "Model Year      0\n",
              "Origin          0\n",
              "dtype: int64"
            ]
          },
          "metadata": {
            "tags": []
          },
          "execution_count": 92
        }
      ]
    },
    {
      "cell_type": "code",
      "metadata": {
        "id": "2p0gH7K1twqa",
        "colab_type": "code",
        "colab": {}
      },
      "source": [
        "data = data.dropna()"
      ],
      "execution_count": 0,
      "outputs": []
    },
    {
      "cell_type": "code",
      "metadata": {
        "id": "uOIhoHl0uO3a",
        "colab_type": "code",
        "outputId": "d9b53dd0-302d-4f87-e7fb-a9bea43e5838",
        "colab": {
          "base_uri": "https://localhost:8080/",
          "height": 176
        }
      },
      "source": [
        "data.isna().sum(axis=0)"
      ],
      "execution_count": 0,
      "outputs": [
        {
          "output_type": "execute_result",
          "data": {
            "text/plain": [
              "MPG             0\n",
              "Cylinders       0\n",
              "Displacement    0\n",
              "Horsepower      0\n",
              "Weight          0\n",
              "Acceleration    0\n",
              "Model Year      0\n",
              "Origin          0\n",
              "dtype: int64"
            ]
          },
          "metadata": {
            "tags": []
          },
          "execution_count": 94
        }
      ]
    },
    {
      "cell_type": "code",
      "metadata": {
        "id": "cFP-xF9PuUCJ",
        "colab_type": "code",
        "colab": {}
      },
      "source": [
        "origin = data.pop('Origin')"
      ],
      "execution_count": 0,
      "outputs": []
    },
    {
      "cell_type": "code",
      "metadata": {
        "id": "Sc2Un9OfusPq",
        "colab_type": "code",
        "colab": {}
      },
      "source": [
        "data['USA'] = (origin == 1)*1.0\n",
        "data['Europe'] = (origin == 2)*1.0\n",
        "data['Japan'] = (origin == 3)*1.0\n",
        "\n"
      ],
      "execution_count": 0,
      "outputs": []
    },
    {
      "cell_type": "code",
      "metadata": {
        "id": "zPMs7LPOxILB",
        "colab_type": "code",
        "outputId": "d1f35a98-b3c4-433d-f21f-1606e5d3f79b",
        "colab": {
          "base_uri": "https://localhost:8080/",
          "height": 197
        }
      },
      "source": [
        "data.head()"
      ],
      "execution_count": 0,
      "outputs": [
        {
          "output_type": "execute_result",
          "data": {
            "text/html": [
              "<div>\n",
              "<style scoped>\n",
              "    .dataframe tbody tr th:only-of-type {\n",
              "        vertical-align: middle;\n",
              "    }\n",
              "\n",
              "    .dataframe tbody tr th {\n",
              "        vertical-align: top;\n",
              "    }\n",
              "\n",
              "    .dataframe thead th {\n",
              "        text-align: right;\n",
              "    }\n",
              "</style>\n",
              "<table border=\"1\" class=\"dataframe\">\n",
              "  <thead>\n",
              "    <tr style=\"text-align: right;\">\n",
              "      <th></th>\n",
              "      <th>MPG</th>\n",
              "      <th>Cylinders</th>\n",
              "      <th>Displacement</th>\n",
              "      <th>Horsepower</th>\n",
              "      <th>Weight</th>\n",
              "      <th>Acceleration</th>\n",
              "      <th>Model Year</th>\n",
              "      <th>USA</th>\n",
              "      <th>Europe</th>\n",
              "      <th>Japan</th>\n",
              "    </tr>\n",
              "  </thead>\n",
              "  <tbody>\n",
              "    <tr>\n",
              "      <th>0</th>\n",
              "      <td>18.0</td>\n",
              "      <td>8</td>\n",
              "      <td>307.0</td>\n",
              "      <td>130.0</td>\n",
              "      <td>3504.0</td>\n",
              "      <td>12.0</td>\n",
              "      <td>70</td>\n",
              "      <td>1.0</td>\n",
              "      <td>0.0</td>\n",
              "      <td>0.0</td>\n",
              "    </tr>\n",
              "    <tr>\n",
              "      <th>1</th>\n",
              "      <td>15.0</td>\n",
              "      <td>8</td>\n",
              "      <td>350.0</td>\n",
              "      <td>165.0</td>\n",
              "      <td>3693.0</td>\n",
              "      <td>11.5</td>\n",
              "      <td>70</td>\n",
              "      <td>1.0</td>\n",
              "      <td>0.0</td>\n",
              "      <td>0.0</td>\n",
              "    </tr>\n",
              "    <tr>\n",
              "      <th>2</th>\n",
              "      <td>18.0</td>\n",
              "      <td>8</td>\n",
              "      <td>318.0</td>\n",
              "      <td>150.0</td>\n",
              "      <td>3436.0</td>\n",
              "      <td>11.0</td>\n",
              "      <td>70</td>\n",
              "      <td>1.0</td>\n",
              "      <td>0.0</td>\n",
              "      <td>0.0</td>\n",
              "    </tr>\n",
              "    <tr>\n",
              "      <th>3</th>\n",
              "      <td>16.0</td>\n",
              "      <td>8</td>\n",
              "      <td>304.0</td>\n",
              "      <td>150.0</td>\n",
              "      <td>3433.0</td>\n",
              "      <td>12.0</td>\n",
              "      <td>70</td>\n",
              "      <td>1.0</td>\n",
              "      <td>0.0</td>\n",
              "      <td>0.0</td>\n",
              "    </tr>\n",
              "    <tr>\n",
              "      <th>4</th>\n",
              "      <td>17.0</td>\n",
              "      <td>8</td>\n",
              "      <td>302.0</td>\n",
              "      <td>140.0</td>\n",
              "      <td>3449.0</td>\n",
              "      <td>10.5</td>\n",
              "      <td>70</td>\n",
              "      <td>1.0</td>\n",
              "      <td>0.0</td>\n",
              "      <td>0.0</td>\n",
              "    </tr>\n",
              "  </tbody>\n",
              "</table>\n",
              "</div>"
            ],
            "text/plain": [
              "    MPG  Cylinders  Displacement  Horsepower  ...  Model Year  USA  Europe  Japan\n",
              "0  18.0          8         307.0       130.0  ...          70  1.0     0.0    0.0\n",
              "1  15.0          8         350.0       165.0  ...          70  1.0     0.0    0.0\n",
              "2  18.0          8         318.0       150.0  ...          70  1.0     0.0    0.0\n",
              "3  16.0          8         304.0       150.0  ...          70  1.0     0.0    0.0\n",
              "4  17.0          8         302.0       140.0  ...          70  1.0     0.0    0.0\n",
              "\n",
              "[5 rows x 10 columns]"
            ]
          },
          "metadata": {
            "tags": []
          },
          "execution_count": 97
        }
      ]
    },
    {
      "cell_type": "code",
      "metadata": {
        "id": "1rOuxRWBxEE_",
        "colab_type": "code",
        "outputId": "2686379c-1ffc-4fdd-82b7-eeb9585d95bc",
        "colab": {
          "base_uri": "https://localhost:8080/",
          "height": 34
        }
      },
      "source": [
        "\n",
        "print(data.shape)"
      ],
      "execution_count": 0,
      "outputs": [
        {
          "output_type": "stream",
          "text": [
            "(392, 10)\n"
          ],
          "name": "stdout"
        }
      ]
    },
    {
      "cell_type": "code",
      "metadata": {
        "id": "4rjQ71--vSHK",
        "colab_type": "code",
        "colab": {}
      },
      "source": [
        "train = data.sample(frac=0.8,random_state=0)\n",
        "test = data.drop(train.index)"
      ],
      "execution_count": 0,
      "outputs": []
    },
    {
      "cell_type": "code",
      "metadata": {
        "id": "7IGGj0ERwYAP",
        "colab_type": "code",
        "outputId": "38fcc621-bac0-413b-83dd-c7565e8f424c",
        "colab": {
          "base_uri": "https://localhost:8080/",
          "height": 52
        }
      },
      "source": [
        "print(train.shape)\n",
        "print(test.shape)"
      ],
      "execution_count": 0,
      "outputs": [
        {
          "output_type": "stream",
          "text": [
            "(314, 10)\n",
            "(78, 10)\n"
          ],
          "name": "stdout"
        }
      ]
    },
    {
      "cell_type": "code",
      "metadata": {
        "id": "LYiRzvHoyPgL",
        "colab_type": "code",
        "colab": {}
      },
      "source": [
        ""
      ],
      "execution_count": 0,
      "outputs": []
    },
    {
      "cell_type": "code",
      "metadata": {
        "id": "L6gIcwKNw-iq",
        "colab_type": "code",
        "outputId": "06d62a52-9e9c-4727-cac3-f861b756cc1a",
        "colab": {
          "base_uri": "https://localhost:8080/",
          "height": 206
        }
      },
      "source": [
        "sns.pairplot(train,diag_kind='kde',y_vars=['MPG'],x_vars=['Acceleration','Cylinders','Displacement','Horsepower','Weight'])"
      ],
      "execution_count": 0,
      "outputs": [
        {
          "output_type": "execute_result",
          "data": {
            "text/plain": [
              "<seaborn.axisgrid.PairGrid at 0x7f0b2a08b828>"
            ]
          },
          "metadata": {
            "tags": []
          },
          "execution_count": 101
        },
        {
          "output_type": "display_data",
          "data": {
            "image/png": "[encoded data removed]",
            "text/plain": [
              "<Figure size 900x180 with 5 Axes>"
            ]
          },
          "metadata": {
            "tags": []
          }
        }
      ]
    },
    {
      "cell_type": "code",
      "metadata": {
        "id": "oQ4OQa6LwbdX",
        "colab_type": "code",
        "colab": {}
      },
      "source": [
        "train_labels = train.pop('MPG')\n",
        "test_labels = test.pop('MPG')"
      ],
      "execution_count": 0,
      "outputs": []
    },
    {
      "cell_type": "code",
      "metadata": {
        "id": "E-8oP_iK5fSC",
        "colab_type": "code",
        "colab": {}
      },
      "source": [
        "#Normalization\n",
        "train_stats = train.describe()"
      ],
      "execution_count": 0,
      "outputs": []
    },
    {
      "cell_type": "code",
      "metadata": {
        "id": "K9B8-JUS5-ta",
        "colab_type": "code",
        "outputId": "b62f364c-556a-4125-d622-69d245f9f43e",
        "colab": {
          "base_uri": "https://localhost:8080/",
          "height": 317
        }
      },
      "source": [
        "\n",
        "train_stats = train_stats.transpose()\n",
        "train_stats\n"
      ],
      "execution_count": 0,
      "outputs": [
        {
          "output_type": "execute_result",
          "data": {
            "text/html": [
              "<div>\n",
              "<style scoped>\n",
              "    .dataframe tbody tr th:only-of-type {\n",
              "        vertical-align: middle;\n",
              "    }\n",
              "\n",
              "    .dataframe tbody tr th {\n",
              "        vertical-align: top;\n",
              "    }\n",
              "\n",
              "    .dataframe thead th {\n",
              "        text-align: right;\n",
              "    }\n",
              "</style>\n",
              "<table border=\"1\" class=\"dataframe\">\n",
              "  <thead>\n",
              "    <tr style=\"text-align: right;\">\n",
              "      <th></th>\n",
              "      <th>count</th>\n",
              "      <th>mean</th>\n",
              "      <th>std</th>\n",
              "      <th>min</th>\n",
              "      <th>25%</th>\n",
              "      <th>50%</th>\n",
              "      <th>75%</th>\n",
              "      <th>max</th>\n",
              "    </tr>\n",
              "  </thead>\n",
              "  <tbody>\n",
              "    <tr>\n",
              "      <th>Cylinders</th>\n",
              "      <td>314.0</td>\n",
              "      <td>5.477707</td>\n",
              "      <td>1.699788</td>\n",
              "      <td>3.0</td>\n",
              "      <td>4.00</td>\n",
              "      <td>4.0</td>\n",
              "      <td>8.00</td>\n",
              "      <td>8.0</td>\n",
              "    </tr>\n",
              "    <tr>\n",
              "      <th>Displacement</th>\n",
              "      <td>314.0</td>\n",
              "      <td>195.318471</td>\n",
              "      <td>104.331589</td>\n",
              "      <td>68.0</td>\n",
              "      <td>105.50</td>\n",
              "      <td>151.0</td>\n",
              "      <td>265.75</td>\n",
              "      <td>455.0</td>\n",
              "    </tr>\n",
              "    <tr>\n",
              "      <th>Horsepower</th>\n",
              "      <td>314.0</td>\n",
              "      <td>104.869427</td>\n",
              "      <td>38.096214</td>\n",
              "      <td>46.0</td>\n",
              "      <td>76.25</td>\n",
              "      <td>94.5</td>\n",
              "      <td>128.00</td>\n",
              "      <td>225.0</td>\n",
              "    </tr>\n",
              "    <tr>\n",
              "      <th>Weight</th>\n",
              "      <td>314.0</td>\n",
              "      <td>2990.251592</td>\n",
              "      <td>843.898596</td>\n",
              "      <td>1649.0</td>\n",
              "      <td>2256.50</td>\n",
              "      <td>2822.5</td>\n",
              "      <td>3608.00</td>\n",
              "      <td>5140.0</td>\n",
              "    </tr>\n",
              "    <tr>\n",
              "      <th>Acceleration</th>\n",
              "      <td>314.0</td>\n",
              "      <td>15.559236</td>\n",
              "      <td>2.789230</td>\n",
              "      <td>8.0</td>\n",
              "      <td>13.80</td>\n",
              "      <td>15.5</td>\n",
              "      <td>17.20</td>\n",
              "      <td>24.8</td>\n",
              "    </tr>\n",
              "    <tr>\n",
              "      <th>Model Year</th>\n",
              "      <td>314.0</td>\n",
              "      <td>75.898089</td>\n",
              "      <td>3.675642</td>\n",
              "      <td>70.0</td>\n",
              "      <td>73.00</td>\n",
              "      <td>76.0</td>\n",
              "      <td>79.00</td>\n",
              "      <td>82.0</td>\n",
              "    </tr>\n",
              "    <tr>\n",
              "      <th>USA</th>\n",
              "      <td>314.0</td>\n",
              "      <td>0.624204</td>\n",
              "      <td>0.485101</td>\n",
              "      <td>0.0</td>\n",
              "      <td>0.00</td>\n",
              "      <td>1.0</td>\n",
              "      <td>1.00</td>\n",
              "      <td>1.0</td>\n",
              "    </tr>\n",
              "    <tr>\n",
              "      <th>Europe</th>\n",
              "      <td>314.0</td>\n",
              "      <td>0.178344</td>\n",
              "      <td>0.383413</td>\n",
              "      <td>0.0</td>\n",
              "      <td>0.00</td>\n",
              "      <td>0.0</td>\n",
              "      <td>0.00</td>\n",
              "      <td>1.0</td>\n",
              "    </tr>\n",
              "    <tr>\n",
              "      <th>Japan</th>\n",
              "      <td>314.0</td>\n",
              "      <td>0.197452</td>\n",
              "      <td>0.398712</td>\n",
              "      <td>0.0</td>\n",
              "      <td>0.00</td>\n",
              "      <td>0.0</td>\n",
              "      <td>0.00</td>\n",
              "      <td>1.0</td>\n",
              "    </tr>\n",
              "  </tbody>\n",
              "</table>\n",
              "</div>"
            ],
            "text/plain": [
              "              count         mean         std  ...     50%      75%     max\n",
              "Cylinders     314.0     5.477707    1.699788  ...     4.0     8.00     8.0\n",
              "Displacement  314.0   195.318471  104.331589  ...   151.0   265.75   455.0\n",
              "Horsepower    314.0   104.869427   38.096214  ...    94.5   128.00   225.0\n",
              "Weight        314.0  2990.251592  843.898596  ...  2822.5  3608.00  5140.0\n",
              "Acceleration  314.0    15.559236    2.789230  ...    15.5    17.20    24.8\n",
              "Model Year    314.0    75.898089    3.675642  ...    76.0    79.00    82.0\n",
              "USA           314.0     0.624204    0.485101  ...     1.0     1.00     1.0\n",
              "Europe        314.0     0.178344    0.383413  ...     0.0     0.00     1.0\n",
              "Japan         314.0     0.197452    0.398712  ...     0.0     0.00     1.0\n",
              "\n",
              "[9 rows x 8 columns]"
            ]
          },
          "metadata": {
            "tags": []
          },
          "execution_count": 104
        }
      ]
    },
    {
      "cell_type": "code",
      "metadata": {
        "id": "2D-uYynm6Lnx",
        "colab_type": "code",
        "colab": {}
      },
      "source": [
        "def norm(x):\n",
        "  return (x-train_stats['mean'])/train_stats['std']\n",
        "norm_train = norm(train)\n",
        "norm_test = norm(test)"
      ],
      "execution_count": 0,
      "outputs": []
    },
    {
      "cell_type": "code",
      "metadata": {
        "id": "CxHqVM2z689Z",
        "colab_type": "code",
        "outputId": "0ffc0f10-65c3-49b6-cb63-8d5667c96727",
        "colab": {
          "base_uri": "https://localhost:8080/",
          "height": 287
        }
      },
      "source": [
        "norm_train.describe()"
      ],
      "execution_count": 0,
      "outputs": [
        {
          "output_type": "execute_result",
          "data": {
            "text/html": [
              "<div>\n",
              "<style scoped>\n",
              "    .dataframe tbody tr th:only-of-type {\n",
              "        vertical-align: middle;\n",
              "    }\n",
              "\n",
              "    .dataframe tbody tr th {\n",
              "        vertical-align: top;\n",
              "    }\n",
              "\n",
              "    .dataframe thead th {\n",
              "        text-align: right;\n",
              "    }\n",
              "</style>\n",
              "<table border=\"1\" class=\"dataframe\">\n",
              "  <thead>\n",
              "    <tr style=\"text-align: right;\">\n",
              "      <th></th>\n",
              "      <th>Cylinders</th>\n",
              "      <th>Displacement</th>\n",
              "      <th>Horsepower</th>\n",
              "      <th>Weight</th>\n",
              "      <th>Acceleration</th>\n",
              "      <th>Model Year</th>\n",
              "      <th>USA</th>\n",
              "      <th>Europe</th>\n",
              "      <th>Japan</th>\n",
              "    </tr>\n",
              "  </thead>\n",
              "  <tbody>\n",
              "    <tr>\n",
              "      <th>count</th>\n",
              "      <td>3.140000e+02</td>\n",
              "      <td>3.140000e+02</td>\n",
              "      <td>3.140000e+02</td>\n",
              "      <td>3.140000e+02</td>\n",
              "      <td>3.140000e+02</td>\n",
              "      <td>3.140000e+02</td>\n",
              "      <td>3.140000e+02</td>\n",
              "      <td>3.140000e+02</td>\n",
              "      <td>3.140000e+02</td>\n",
              "    </tr>\n",
              "    <tr>\n",
              "      <th>mean</th>\n",
              "      <td>2.093159e-16</td>\n",
              "      <td>1.018294e-16</td>\n",
              "      <td>-1.909301e-17</td>\n",
              "      <td>-9.723291e-17</td>\n",
              "      <td>2.688832e-15</td>\n",
              "      <td>9.561531e-16</td>\n",
              "      <td>6.081476e-17</td>\n",
              "      <td>8.485781e-18</td>\n",
              "      <td>3.164489e-17</td>\n",
              "    </tr>\n",
              "    <tr>\n",
              "      <th>std</th>\n",
              "      <td>1.000000e+00</td>\n",
              "      <td>1.000000e+00</td>\n",
              "      <td>1.000000e+00</td>\n",
              "      <td>1.000000e+00</td>\n",
              "      <td>1.000000e+00</td>\n",
              "      <td>1.000000e+00</td>\n",
              "      <td>1.000000e+00</td>\n",
              "      <td>1.000000e+00</td>\n",
              "      <td>1.000000e+00</td>\n",
              "    </tr>\n",
              "    <tr>\n",
              "      <th>min</th>\n",
              "      <td>-1.457657e+00</td>\n",
              "      <td>-1.220325e+00</td>\n",
              "      <td>-1.545283e+00</td>\n",
              "      <td>-1.589352e+00</td>\n",
              "      <td>-2.710152e+00</td>\n",
              "      <td>-1.604642e+00</td>\n",
              "      <td>-1.286751e+00</td>\n",
              "      <td>-4.651484e-01</td>\n",
              "      <td>-4.952254e-01</td>\n",
              "    </tr>\n",
              "    <tr>\n",
              "      <th>25%</th>\n",
              "      <td>-8.693480e-01</td>\n",
              "      <td>-8.608943e-01</td>\n",
              "      <td>-7.512407e-01</td>\n",
              "      <td>-8.694784e-01</td>\n",
              "      <td>-6.307245e-01</td>\n",
              "      <td>-7.884578e-01</td>\n",
              "      <td>-1.286751e+00</td>\n",
              "      <td>-4.651484e-01</td>\n",
              "      <td>-4.952254e-01</td>\n",
              "    </tr>\n",
              "    <tr>\n",
              "      <th>50%</th>\n",
              "      <td>-8.693480e-01</td>\n",
              "      <td>-4.247848e-01</td>\n",
              "      <td>-2.721905e-01</td>\n",
              "      <td>-1.987817e-01</td>\n",
              "      <td>-2.123729e-02</td>\n",
              "      <td>2.772599e-02</td>\n",
              "      <td>7.746764e-01</td>\n",
              "      <td>-4.651484e-01</td>\n",
              "      <td>-4.952254e-01</td>\n",
              "    </tr>\n",
              "    <tr>\n",
              "      <th>75%</th>\n",
              "      <td>1.483887e+00</td>\n",
              "      <td>6.750739e-01</td>\n",
              "      <td>6.071620e-01</td>\n",
              "      <td>7.320173e-01</td>\n",
              "      <td>5.882500e-01</td>\n",
              "      <td>8.439098e-01</td>\n",
              "      <td>7.746764e-01</td>\n",
              "      <td>-4.651484e-01</td>\n",
              "      <td>-4.952254e-01</td>\n",
              "    </tr>\n",
              "    <tr>\n",
              "      <th>max</th>\n",
              "      <td>1.483887e+00</td>\n",
              "      <td>2.489002e+00</td>\n",
              "      <td>3.153347e+00</td>\n",
              "      <td>2.547401e+00</td>\n",
              "      <td>3.313017e+00</td>\n",
              "      <td>1.660094e+00</td>\n",
              "      <td>7.746764e-01</td>\n",
              "      <td>2.143005e+00</td>\n",
              "      <td>2.012852e+00</td>\n",
              "    </tr>\n",
              "  </tbody>\n",
              "</table>\n",
              "</div>"
            ],
            "text/plain": [
              "          Cylinders  Displacement  ...        Europe         Japan\n",
              "count  3.140000e+02  3.140000e+02  ...  3.140000e+02  3.140000e+02\n",
              "mean   2.093159e-16  1.018294e-16  ...  8.485781e-18  3.164489e-17\n",
              "std    1.000000e+00  1.000000e+00  ...  1.000000e+00  1.000000e+00\n",
              "min   -1.457657e+00 -1.220325e+00  ... -4.651484e-01 -4.952254e-01\n",
              "25%   -8.693480e-01 -8.608943e-01  ... -4.651484e-01 -4.952254e-01\n",
              "50%   -8.693480e-01 -4.247848e-01  ... -4.651484e-01 -4.952254e-01\n",
              "75%    1.483887e+00  6.750739e-01  ... -4.651484e-01 -4.952254e-01\n",
              "max    1.483887e+00  2.489002e+00  ...  2.143005e+00  2.012852e+00\n",
              "\n",
              "[8 rows x 9 columns]"
            ]
          },
          "metadata": {
            "tags": []
          },
          "execution_count": 106
        }
      ]
    },
    {
      "cell_type": "code",
      "metadata": {
        "id": "dJJTvpgS7BDJ",
        "colab_type": "code",
        "colab": {}
      },
      "source": [
        "model = tf.keras.Sequential([\n",
        "                             layers.Dense(64,activation='relu',input_shape=[len(train.keys())]),\n",
        "                             layers.Dense(64,activation='relu'),\n",
        "                             layers.Dense(1)\n",
        "\n",
        "])"
      ],
      "execution_count": 0,
      "outputs": []
    },
    {
      "cell_type": "code",
      "metadata": {
        "id": "uggHhOAg8LxR",
        "colab_type": "code",
        "colab": {}
      },
      "source": [
        "model.compile(loss='mse',optimizer='adam',metrics=['mse','mae'])"
      ],
      "execution_count": 0,
      "outputs": []
    },
    {
      "cell_type": "code",
      "metadata": {
        "id": "8uZ_Bddo9Pwl",
        "colab_type": "code",
        "outputId": "82eb5c4a-821a-44d1-cd59-860fa4acb56b",
        "colab": {
          "base_uri": "https://localhost:8080/",
          "height": 34
        }
      },
      "source": [
        "train_labels.shape"
      ],
      "execution_count": 0,
      "outputs": [
        {
          "output_type": "execute_result",
          "data": {
            "text/plain": [
              "(314,)"
            ]
          },
          "metadata": {
            "tags": []
          },
          "execution_count": 109
        }
      ]
    },
    {
      "cell_type": "code",
      "metadata": {
        "id": "muw_6ED99niG",
        "colab_type": "code",
        "colab": {}
      },
      "source": [
        "norm_train,val,train_labels,val_labels = train_test_split(norm_train,train_labels,test_size=0.15)"
      ],
      "execution_count": 0,
      "outputs": []
    },
    {
      "cell_type": "code",
      "metadata": {
        "id": "w9BcKt83-vLW",
        "colab_type": "code",
        "colab": {}
      },
      "source": [
        "early_stopping = tf.keras.callbacks.EarlyStopping(patience=10)"
      ],
      "execution_count": 0,
      "outputs": []
    },
    {
      "cell_type": "code",
      "metadata": {
        "id": "T8ndPL7F9KMx",
        "colab_type": "code",
        "outputId": "ceaab520-e803-4649-cbe5-08721a8e11eb",
        "colab": {
          "base_uri": "https://localhost:8080/",
          "height": 1000
        }
      },
      "source": [
        "model.fit(norm_train,train_labels,epochs=1000,batch_size=32,validation_data=(val,val_labels),callbacks=[early_stopping])\n"
      ],
      "execution_count": 0,
      "outputs": [
        {
          "output_type": "stream",
          "text": [
            "Train on 266 samples, validate on 48 samples\n",
            "Epoch 1/1000\n",
            "266/266 [==============================] - 0s 506us/sample - loss: 579.6092 - mean_squared_error: 579.6093 - mean_absolute_error: 22.7950 - val_loss: 490.9932 - val_mean_squared_error: 490.9932 - val_mean_absolute_error: 20.9583\n",
            "Epoch 2/1000\n",
            "266/266 [==============================] - 0s 104us/sample - loss: 542.8643 - mean_squared_error: 542.8643 - mean_absolute_error: 21.9407 - val_loss: 452.0527 - val_mean_squared_error: 452.0527 - val_mean_absolute_error: 19.9663\n",
            "Epoch 3/1000\n",
            "266/266 [==============================] - 0s 107us/sample - loss: 500.1396 - mean_squared_error: 500.1396 - mean_absolute_error: 20.9008 - val_loss: 404.9029 - val_mean_squared_error: 404.9029 - val_mean_absolute_error: 18.7083\n",
            "Epoch 4/1000\n",
            "266/266 [==============================] - 0s 137us/sample - loss: 445.7560 - mean_squared_error: 445.7560 - mean_absolute_error: 19.5381 - val_loss: 347.2407 - val_mean_squared_error: 347.2407 - val_mean_absolute_error: 17.0666\n",
            "Epoch 5/1000\n",
            "266/266 [==============================] - 0s 113us/sample - loss: 381.9406 - mean_squared_error: 381.9406 - mean_absolute_error: 17.7925 - val_loss: 279.0688 - val_mean_squared_error: 279.0688 - val_mean_absolute_error: 14.9837\n",
            "Epoch 6/1000\n",
            "266/266 [==============================] - 0s 111us/sample - loss: 304.0647 - mean_squared_error: 304.0647 - mean_absolute_error: 15.5451 - val_loss: 205.6862 - val_mean_squared_error: 205.6862 - val_mean_absolute_error: 12.5411\n",
            "Epoch 7/1000\n",
            "266/266 [==============================] - 0s 107us/sample - loss: 224.0208 - mean_squared_error: 224.0209 - mean_absolute_error: 13.0576 - val_loss: 137.1167 - val_mean_squared_error: 137.1167 - val_mean_absolute_error: 9.8860\n",
            "Epoch 8/1000\n",
            "266/266 [==============================] - 0s 112us/sample - loss: 150.6172 - mean_squared_error: 150.6172 - mean_absolute_error: 10.4396 - val_loss: 84.7407 - val_mean_squared_error: 84.7407 - val_mean_absolute_error: 7.2455\n",
            "Epoch 9/1000\n",
            "266/266 [==============================] - 0s 103us/sample - loss: 96.0223 - mean_squared_error: 96.0224 - mean_absolute_error: 7.9860 - val_loss: 56.2379 - val_mean_squared_error: 56.2379 - val_mean_absolute_error: 5.5669\n",
            "Epoch 10/1000\n",
            "266/266 [==============================] - 0s 105us/sample - loss: 63.2320 - mean_squared_error: 63.2320 - mean_absolute_error: 6.2311 - val_loss: 45.0059 - val_mean_squared_error: 45.0059 - val_mean_absolute_error: 5.2666\n",
            "Epoch 11/1000\n",
            "266/266 [==============================] - 0s 107us/sample - loss: 48.4234 - mean_squared_error: 48.4234 - mean_absolute_error: 5.4189 - val_loss: 38.0859 - val_mean_squared_error: 38.0859 - val_mean_absolute_error: 4.9576\n",
            "Epoch 12/1000\n",
            "266/266 [==============================] - 0s 102us/sample - loss: 38.6858 - mean_squared_error: 38.6858 - mean_absolute_error: 4.8915 - val_loss: 30.8216 - val_mean_squared_error: 30.8216 - val_mean_absolute_error: 4.5182\n",
            "Epoch 13/1000\n",
            "266/266 [==============================] - 0s 105us/sample - loss: 31.0687 - mean_squared_error: 31.0687 - mean_absolute_error: 4.3115 - val_loss: 22.9024 - val_mean_squared_error: 22.9024 - val_mean_absolute_error: 3.9508\n",
            "Epoch 14/1000\n",
            "266/266 [==============================] - 0s 103us/sample - loss: 25.0960 - mean_squared_error: 25.0960 - mean_absolute_error: 3.8067 - val_loss: 17.3713 - val_mean_squared_error: 17.3713 - val_mean_absolute_error: 3.4615\n",
            "Epoch 15/1000\n",
            "266/266 [==============================] - 0s 111us/sample - loss: 21.0973 - mean_squared_error: 21.0973 - mean_absolute_error: 3.4621 - val_loss: 14.0072 - val_mean_squared_error: 14.0072 - val_mean_absolute_error: 3.0814\n",
            "Epoch 16/1000\n",
            "266/266 [==============================] - 0s 129us/sample - loss: 18.3484 - mean_squared_error: 18.3484 - mean_absolute_error: 3.2121 - val_loss: 11.8019 - val_mean_squared_error: 11.8019 - val_mean_absolute_error: 2.8446\n",
            "Epoch 17/1000\n",
            "266/266 [==============================] - 0s 143us/sample - loss: 16.6430 - mean_squared_error: 16.6430 - mean_absolute_error: 3.0671 - val_loss: 10.4219 - val_mean_squared_error: 10.4219 - val_mean_absolute_error: 2.6785\n",
            "Epoch 18/1000\n",
            "266/266 [==============================] - 0s 151us/sample - loss: 15.5831 - mean_squared_error: 15.5831 - mean_absolute_error: 2.9636 - val_loss: 9.3349 - val_mean_squared_error: 9.3349 - val_mean_absolute_error: 2.5314\n",
            "Epoch 19/1000\n",
            "266/266 [==============================] - 0s 112us/sample - loss: 14.5117 - mean_squared_error: 14.5117 - mean_absolute_error: 2.8449 - val_loss: 8.9253 - val_mean_squared_error: 8.9253 - val_mean_absolute_error: 2.4727\n",
            "Epoch 20/1000\n",
            "266/266 [==============================] - 0s 122us/sample - loss: 13.7894 - mean_squared_error: 13.7894 - mean_absolute_error: 2.7687 - val_loss: 8.5350 - val_mean_squared_error: 8.5350 - val_mean_absolute_error: 2.4109\n",
            "Epoch 21/1000\n",
            "266/266 [==============================] - 0s 101us/sample - loss: 13.1478 - mean_squared_error: 13.1478 - mean_absolute_error: 2.7008 - val_loss: 8.4493 - val_mean_squared_error: 8.4493 - val_mean_absolute_error: 2.3895\n",
            "Epoch 22/1000\n",
            "266/266 [==============================] - 0s 112us/sample - loss: 12.6681 - mean_squared_error: 12.6681 - mean_absolute_error: 2.6372 - val_loss: 8.1375 - val_mean_squared_error: 8.1375 - val_mean_absolute_error: 2.3288\n",
            "Epoch 23/1000\n",
            "266/266 [==============================] - 0s 104us/sample - loss: 12.2141 - mean_squared_error: 12.2141 - mean_absolute_error: 2.5793 - val_loss: 7.7633 - val_mean_squared_error: 7.7633 - val_mean_absolute_error: 2.2633\n",
            "Epoch 24/1000\n",
            "266/266 [==============================] - 0s 107us/sample - loss: 11.7957 - mean_squared_error: 11.7957 - mean_absolute_error: 2.5307 - val_loss: 7.5905 - val_mean_squared_error: 7.5905 - val_mean_absolute_error: 2.2263\n",
            "Epoch 25/1000\n",
            "266/266 [==============================] - 0s 101us/sample - loss: 11.4241 - mean_squared_error: 11.4241 - mean_absolute_error: 2.4803 - val_loss: 7.3405 - val_mean_squared_error: 7.3405 - val_mean_absolute_error: 2.1799\n",
            "Epoch 26/1000\n",
            "266/266 [==============================] - 0s 117us/sample - loss: 11.0993 - mean_squared_error: 11.0993 - mean_absolute_error: 2.4341 - val_loss: 7.1658 - val_mean_squared_error: 7.1658 - val_mean_absolute_error: 2.1310\n",
            "Epoch 27/1000\n",
            "266/266 [==============================] - 0s 106us/sample - loss: 10.8265 - mean_squared_error: 10.8265 - mean_absolute_error: 2.4043 - val_loss: 7.0282 - val_mean_squared_error: 7.0282 - val_mean_absolute_error: 2.0866\n",
            "Epoch 28/1000\n",
            "266/266 [==============================] - 0s 105us/sample - loss: 10.5698 - mean_squared_error: 10.5698 - mean_absolute_error: 2.3743 - val_loss: 6.8747 - val_mean_squared_error: 6.8747 - val_mean_absolute_error: 2.0468\n",
            "Epoch 29/1000\n",
            "266/266 [==============================] - 0s 115us/sample - loss: 10.2728 - mean_squared_error: 10.2728 - mean_absolute_error: 2.3236 - val_loss: 6.5725 - val_mean_squared_error: 6.5725 - val_mean_absolute_error: 1.9881\n",
            "Epoch 30/1000\n",
            "266/266 [==============================] - 0s 104us/sample - loss: 10.1108 - mean_squared_error: 10.1108 - mean_absolute_error: 2.2888 - val_loss: 6.4241 - val_mean_squared_error: 6.4241 - val_mean_absolute_error: 1.9614\n",
            "Epoch 31/1000\n",
            "266/266 [==============================] - 0s 101us/sample - loss: 9.9212 - mean_squared_error: 9.9212 - mean_absolute_error: 2.2592 - val_loss: 6.4360 - val_mean_squared_error: 6.4360 - val_mean_absolute_error: 1.9556\n",
            "Epoch 32/1000\n",
            "266/266 [==============================] - 0s 105us/sample - loss: 9.7114 - mean_squared_error: 9.7114 - mean_absolute_error: 2.2228 - val_loss: 6.5349 - val_mean_squared_error: 6.5349 - val_mean_absolute_error: 1.9688\n",
            "Epoch 33/1000\n",
            "266/266 [==============================] - 0s 117us/sample - loss: 9.5619 - mean_squared_error: 9.5619 - mean_absolute_error: 2.2034 - val_loss: 6.4818 - val_mean_squared_error: 6.4818 - val_mean_absolute_error: 1.9494\n",
            "Epoch 34/1000\n",
            "266/266 [==============================] - 0s 105us/sample - loss: 9.4129 - mean_squared_error: 9.4129 - mean_absolute_error: 2.1922 - val_loss: 6.5719 - val_mean_squared_error: 6.5719 - val_mean_absolute_error: 1.9463\n",
            "Epoch 35/1000\n",
            "266/266 [==============================] - 0s 107us/sample - loss: 9.2517 - mean_squared_error: 9.2517 - mean_absolute_error: 2.1809 - val_loss: 6.5348 - val_mean_squared_error: 6.5348 - val_mean_absolute_error: 1.9363\n",
            "Epoch 36/1000\n",
            "266/266 [==============================] - 0s 104us/sample - loss: 9.0877 - mean_squared_error: 9.0877 - mean_absolute_error: 2.1576 - val_loss: 6.4990 - val_mean_squared_error: 6.4990 - val_mean_absolute_error: 1.9229\n",
            "Epoch 37/1000\n",
            "266/266 [==============================] - 0s 108us/sample - loss: 8.9872 - mean_squared_error: 8.9872 - mean_absolute_error: 2.1451 - val_loss: 6.3825 - val_mean_squared_error: 6.3825 - val_mean_absolute_error: 1.8994\n",
            "Epoch 38/1000\n",
            "266/266 [==============================] - 0s 117us/sample - loss: 8.8493 - mean_squared_error: 8.8493 - mean_absolute_error: 2.1247 - val_loss: 6.4180 - val_mean_squared_error: 6.4180 - val_mean_absolute_error: 1.8921\n",
            "Epoch 39/1000\n",
            "266/266 [==============================] - 0s 106us/sample - loss: 8.7775 - mean_squared_error: 8.7775 - mean_absolute_error: 2.1084 - val_loss: 6.4410 - val_mean_squared_error: 6.4410 - val_mean_absolute_error: 1.8881\n",
            "Epoch 40/1000\n",
            "266/266 [==============================] - 0s 110us/sample - loss: 8.7068 - mean_squared_error: 8.7068 - mean_absolute_error: 2.1045 - val_loss: 6.3753 - val_mean_squared_error: 6.3753 - val_mean_absolute_error: 1.8654\n",
            "Epoch 41/1000\n",
            "266/266 [==============================] - 0s 107us/sample - loss: 8.5823 - mean_squared_error: 8.5823 - mean_absolute_error: 2.0939 - val_loss: 6.4952 - val_mean_squared_error: 6.4952 - val_mean_absolute_error: 1.8876\n",
            "Epoch 42/1000\n",
            "266/266 [==============================] - 0s 109us/sample - loss: 8.4906 - mean_squared_error: 8.4906 - mean_absolute_error: 2.0808 - val_loss: 6.4261 - val_mean_squared_error: 6.4261 - val_mean_absolute_error: 1.8660\n",
            "Epoch 43/1000\n",
            "266/266 [==============================] - 0s 108us/sample - loss: 8.3799 - mean_squared_error: 8.3799 - mean_absolute_error: 2.0693 - val_loss: 6.5077 - val_mean_squared_error: 6.5077 - val_mean_absolute_error: 1.8748\n",
            "Epoch 44/1000\n",
            "266/266 [==============================] - 0s 129us/sample - loss: 8.3156 - mean_squared_error: 8.3156 - mean_absolute_error: 2.0621 - val_loss: 6.4656 - val_mean_squared_error: 6.4656 - val_mean_absolute_error: 1.8635\n",
            "Epoch 45/1000\n",
            "266/266 [==============================] - 0s 111us/sample - loss: 8.2674 - mean_squared_error: 8.2674 - mean_absolute_error: 2.0547 - val_loss: 6.2752 - val_mean_squared_error: 6.2752 - val_mean_absolute_error: 1.8270\n",
            "Epoch 46/1000\n",
            "266/266 [==============================] - 0s 108us/sample - loss: 8.2041 - mean_squared_error: 8.2041 - mean_absolute_error: 2.0483 - val_loss: 6.2226 - val_mean_squared_error: 6.2226 - val_mean_absolute_error: 1.8055\n",
            "Epoch 47/1000\n",
            "266/266 [==============================] - 0s 102us/sample - loss: 8.1617 - mean_squared_error: 8.1617 - mean_absolute_error: 2.0437 - val_loss: 6.3981 - val_mean_squared_error: 6.3981 - val_mean_absolute_error: 1.8309\n",
            "Epoch 48/1000\n",
            "266/266 [==============================] - 0s 100us/sample - loss: 8.1634 - mean_squared_error: 8.1634 - mean_absolute_error: 2.0460 - val_loss: 6.4994 - val_mean_squared_error: 6.4994 - val_mean_absolute_error: 1.8542\n",
            "Epoch 49/1000\n",
            "266/266 [==============================] - 0s 108us/sample - loss: 8.0453 - mean_squared_error: 8.0453 - mean_absolute_error: 2.0297 - val_loss: 6.3320 - val_mean_squared_error: 6.3320 - val_mean_absolute_error: 1.8266\n",
            "Epoch 50/1000\n",
            "266/266 [==============================] - 0s 102us/sample - loss: 7.9280 - mean_squared_error: 7.9280 - mean_absolute_error: 2.0278 - val_loss: 6.4455 - val_mean_squared_error: 6.4455 - val_mean_absolute_error: 1.8371\n",
            "Epoch 51/1000\n",
            "266/266 [==============================] - 0s 101us/sample - loss: 7.8739 - mean_squared_error: 7.8739 - mean_absolute_error: 2.0179 - val_loss: 6.5057 - val_mean_squared_error: 6.5057 - val_mean_absolute_error: 1.8558\n",
            "Epoch 52/1000\n",
            "266/266 [==============================] - 0s 107us/sample - loss: 7.8663 - mean_squared_error: 7.8663 - mean_absolute_error: 2.0168 - val_loss: 6.4726 - val_mean_squared_error: 6.4726 - val_mean_absolute_error: 1.8499\n",
            "Epoch 53/1000\n",
            "266/266 [==============================] - 0s 113us/sample - loss: 7.7739 - mean_squared_error: 7.7739 - mean_absolute_error: 2.0023 - val_loss: 6.4623 - val_mean_squared_error: 6.4623 - val_mean_absolute_error: 1.8318\n",
            "Epoch 54/1000\n",
            "266/266 [==============================] - 0s 119us/sample - loss: 7.7193 - mean_squared_error: 7.7193 - mean_absolute_error: 2.0060 - val_loss: 6.2818 - val_mean_squared_error: 6.2818 - val_mean_absolute_error: 1.7868\n",
            "Epoch 55/1000\n",
            "266/266 [==============================] - 0s 103us/sample - loss: 7.7273 - mean_squared_error: 7.7273 - mean_absolute_error: 2.0108 - val_loss: 6.2702 - val_mean_squared_error: 6.2702 - val_mean_absolute_error: 1.7759\n",
            "Epoch 56/1000\n",
            "266/266 [==============================] - 0s 113us/sample - loss: 7.6876 - mean_squared_error: 7.6876 - mean_absolute_error: 2.0060 - val_loss: 6.2344 - val_mean_squared_error: 6.2344 - val_mean_absolute_error: 1.7737\n"
          ],
          "name": "stdout"
        },
        {
          "output_type": "execute_result",
          "data": {
            "text/plain": [
              "<tensorflow.python.keras.callbacks.History at 0x7f0b2028cf60>"
            ]
          },
          "metadata": {
            "tags": []
          },
          "execution_count": 112
        }
      ]
    },
    {
      "cell_type": "code",
      "metadata": {
        "id": "x3XUd8lZ9gx5",
        "colab_type": "code",
        "colab": {}
      },
      "source": [
        "predictions = model.predict(norm_test)"
      ],
      "execution_count": 0,
      "outputs": []
    },
    {
      "cell_type": "code",
      "metadata": {
        "id": "bTaPL23A_jBE",
        "colab_type": "code",
        "colab": {}
      },
      "source": [
        "predictions = predictions.flatten()"
      ],
      "execution_count": 0,
      "outputs": []
    },
    {
      "cell_type": "code",
      "metadata": {
        "id": "fBC4qGBv-P_Z",
        "colab_type": "code",
        "outputId": "24a6c985-1874-4792-8220-a4fd4ac7d569",
        "colab": {
          "base_uri": "https://localhost:8080/",
          "height": 34
        }
      },
      "source": [
        "loss,mae,mse = model.evaluate(norm_test,test_labels)"
      ],
      "execution_count": 0,
      "outputs": [
        {
          "output_type": "stream",
          "text": [
            "78/78 [==============================] - 0s 84us/sample - loss: 6.1760 - mean_squared_error: 6.1760 - mean_absolute_error: 1.8847\n"
          ],
          "name": "stdout"
        }
      ]
    },
    {
      "cell_type": "code",
      "metadata": {
        "id": "4-LyneHp_d9i",
        "colab_type": "code",
        "outputId": "fa53c994-f5ec-427e-e45f-302a15f72237",
        "colab": {
          "base_uri": "https://localhost:8080/",
          "height": 300
        }
      },
      "source": [
        "sns.scatterplot(test_labels,predictions,)\n"
      ],
      "execution_count": 0,
      "outputs": [
        {
          "output_type": "execute_result",
          "data": {
            "text/plain": [
              "<matplotlib.axes._subplots.AxesSubplot at 0x7f0add761e48>"
            ]
          },
          "metadata": {
            "tags": []
          },
          "execution_count": 123
        },
        {
          "output_type": "display_data",
          "data": {
            "image/png": "[encoded data removed]",
            "text/plain": [
              "<Figure size 432x288 with 1 Axes>"
            ]
          },
          "metadata": {
            "tags": []
          }
        }
      ]
    },
    {
      "cell_type": "code",
      "metadata": {
        "id": "8ihONG6TBd8c",
        "colab_type": "code",
        "colab": {}
      },
      "source": [
        ""
      ],
      "execution_count": 0,
      "outputs": []
    }
  ]
}